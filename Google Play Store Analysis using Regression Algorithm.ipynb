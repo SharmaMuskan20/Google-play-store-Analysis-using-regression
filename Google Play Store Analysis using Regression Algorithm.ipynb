{
 "cells": [
  {
   "cell_type": "markdown",
   "id": "2d35b8eb",
   "metadata": {},
   "source": [
    "##### Problem Statement: \n",
    "Google Play Store team is about to launch a new feature wherein, certain apps that are promising are boosted in visibility. The boost will manifest in multiple ways including higher priority in recommendations sections (“Similar apps”, “You might also like”, “New and updated games”). These will also get a boost in search results visibility. This feature will help bring more attention to newer apps that have the potential"
   ]
  },
  {
   "cell_type": "markdown",
   "id": "5b66507f",
   "metadata": {},
   "source": [
    "##### Analysis to be done: \n",
    "The problem is to identify the apps that are going to be good for Google to promote. App ratings, which are provided by the customers, are always great indicators of the goodness of the app. The problem reduces to: predict which apps will have high ratings.\n",
    "\n"
   ]
  },
  {
   "cell_type": "markdown",
   "id": "e0f372f0",
   "metadata": {},
   "source": [
    "##### Data Dictionary:"
   ]
  },
  {
   "cell_type": "markdown",
   "id": "2e1dcf88",
   "metadata": {},
   "source": [
    "|Variables|Description|\n",
    "|:-|:-|\n",
    "|App| Application name|\n",
    "|Category|Category to which the app belongs|\n",
    "|Rating|Overall user rating of the app|\n",
    "|Reviews|Number of user reviews for the app|\n",
    "|Size|Size of the app|\n",
    "|Installs|Number of user downloads/installs for the app|\n",
    "|Type|Paid or Free|\n",
    "|Price|Price of the app|\n",
    "|Content Rating|Age group the app is targeted at - Children / Mature 21+ / Adult|\n",
    "|Genres|An app can belong to multiple genres (apart from its main category)<br>For example, a musical family game will belong to Music, Game, Family genres|\n",
    "|Last Updated|Date when the app was last updated on Play Store|\n",
    "|Current Ver|Current version of the app available on Play Store|\n",
    "|Android Ver|Minimum required Android version|\n"
   ]
  },
  {
   "cell_type": "markdown",
   "id": "9384f9ff",
   "metadata": {},
   "source": [
    "##### Solution:"
   ]
  },
  {
   "cell_type": "markdown",
   "id": "ee4c411d",
   "metadata": {},
   "source": [
    "##### Importing Libraries"
   ]
  },
  {
   "cell_type": "code",
   "execution_count": 1,
   "id": "6371979c",
   "metadata": {},
   "outputs": [],
   "source": [
    "import pandas as pd\n",
    "import matplotlib.pyplot as plt\n",
    "import numpy as np\n",
    "import seaborn as sns\n",
    "%matplotlib inline"
   ]
  },
  {
   "cell_type": "markdown",
   "id": "5d61f74c",
   "metadata": {},
   "source": [
    "##### Import and Check data"
   ]
  },
  {
   "cell_type": "code",
   "execution_count": 2,
   "id": "87323951",
   "metadata": {},
   "outputs": [],
   "source": [
    "df=pd.read_csv(\"/Users/muskansharma/Downloads/machine learning /googleplaystore.csv\") "
   ]
  },
  {
   "cell_type": "code",
   "execution_count": 3,
   "id": "53c3fbb7",
   "metadata": {},
   "outputs": [
    {
     "data": {
      "text/html": [
       "<div>\n",
       "<style scoped>\n",
       "    .dataframe tbody tr th:only-of-type {\n",
       "        vertical-align: middle;\n",
       "    }\n",
       "\n",
       "    .dataframe tbody tr th {\n",
       "        vertical-align: top;\n",
       "    }\n",
       "\n",
       "    .dataframe thead th {\n",
       "        text-align: right;\n",
       "    }\n",
       "</style>\n",
       "<table border=\"1\" class=\"dataframe\">\n",
       "  <thead>\n",
       "    <tr style=\"text-align: right;\">\n",
       "      <th></th>\n",
       "      <th>App</th>\n",
       "      <th>Category</th>\n",
       "      <th>Rating</th>\n",
       "      <th>Reviews</th>\n",
       "      <th>Size</th>\n",
       "      <th>Installs</th>\n",
       "      <th>Type</th>\n",
       "      <th>Price</th>\n",
       "      <th>Content Rating</th>\n",
       "      <th>Genres</th>\n",
       "      <th>Last Updated</th>\n",
       "      <th>Current Ver</th>\n",
       "      <th>Android Ver</th>\n",
       "    </tr>\n",
       "  </thead>\n",
       "  <tbody>\n",
       "    <tr>\n",
       "      <th>0</th>\n",
       "      <td>Photo Editor &amp; Candy Camera &amp; Grid &amp; ScrapBook</td>\n",
       "      <td>ART_AND_DESIGN</td>\n",
       "      <td>4.1</td>\n",
       "      <td>159</td>\n",
       "      <td>19M</td>\n",
       "      <td>10,000+</td>\n",
       "      <td>Free</td>\n",
       "      <td>0</td>\n",
       "      <td>Everyone</td>\n",
       "      <td>Art &amp; Design</td>\n",
       "      <td>January 7, 2018</td>\n",
       "      <td>1.0.0</td>\n",
       "      <td>4.0.3 and up</td>\n",
       "    </tr>\n",
       "    <tr>\n",
       "      <th>1</th>\n",
       "      <td>Coloring book moana</td>\n",
       "      <td>ART_AND_DESIGN</td>\n",
       "      <td>3.9</td>\n",
       "      <td>967</td>\n",
       "      <td>14M</td>\n",
       "      <td>500,000+</td>\n",
       "      <td>Free</td>\n",
       "      <td>0</td>\n",
       "      <td>Everyone</td>\n",
       "      <td>Art &amp; Design;Pretend Play</td>\n",
       "      <td>January 15, 2018</td>\n",
       "      <td>2.0.0</td>\n",
       "      <td>4.0.3 and up</td>\n",
       "    </tr>\n",
       "    <tr>\n",
       "      <th>2</th>\n",
       "      <td>U Launcher Lite – FREE Live Cool Themes, Hide ...</td>\n",
       "      <td>ART_AND_DESIGN</td>\n",
       "      <td>4.7</td>\n",
       "      <td>87510</td>\n",
       "      <td>8.7M</td>\n",
       "      <td>5,000,000+</td>\n",
       "      <td>Free</td>\n",
       "      <td>0</td>\n",
       "      <td>Everyone</td>\n",
       "      <td>Art &amp; Design</td>\n",
       "      <td>August 1, 2018</td>\n",
       "      <td>1.2.4</td>\n",
       "      <td>4.0.3 and up</td>\n",
       "    </tr>\n",
       "    <tr>\n",
       "      <th>3</th>\n",
       "      <td>Sketch - Draw &amp; Paint</td>\n",
       "      <td>ART_AND_DESIGN</td>\n",
       "      <td>4.5</td>\n",
       "      <td>215644</td>\n",
       "      <td>25M</td>\n",
       "      <td>50,000,000+</td>\n",
       "      <td>Free</td>\n",
       "      <td>0</td>\n",
       "      <td>Teen</td>\n",
       "      <td>Art &amp; Design</td>\n",
       "      <td>June 8, 2018</td>\n",
       "      <td>Varies with device</td>\n",
       "      <td>4.2 and up</td>\n",
       "    </tr>\n",
       "    <tr>\n",
       "      <th>4</th>\n",
       "      <td>Pixel Draw - Number Art Coloring Book</td>\n",
       "      <td>ART_AND_DESIGN</td>\n",
       "      <td>4.3</td>\n",
       "      <td>967</td>\n",
       "      <td>2.8M</td>\n",
       "      <td>100,000+</td>\n",
       "      <td>Free</td>\n",
       "      <td>0</td>\n",
       "      <td>Everyone</td>\n",
       "      <td>Art &amp; Design;Creativity</td>\n",
       "      <td>June 20, 2018</td>\n",
       "      <td>1.1</td>\n",
       "      <td>4.4 and up</td>\n",
       "    </tr>\n",
       "  </tbody>\n",
       "</table>\n",
       "</div>"
      ],
      "text/plain": [
       "                                                 App        Category  Rating  \\\n",
       "0     Photo Editor & Candy Camera & Grid & ScrapBook  ART_AND_DESIGN     4.1   \n",
       "1                                Coloring book moana  ART_AND_DESIGN     3.9   \n",
       "2  U Launcher Lite – FREE Live Cool Themes, Hide ...  ART_AND_DESIGN     4.7   \n",
       "3                              Sketch - Draw & Paint  ART_AND_DESIGN     4.5   \n",
       "4              Pixel Draw - Number Art Coloring Book  ART_AND_DESIGN     4.3   \n",
       "\n",
       "  Reviews  Size     Installs  Type Price Content Rating  \\\n",
       "0     159   19M      10,000+  Free     0       Everyone   \n",
       "1     967   14M     500,000+  Free     0       Everyone   \n",
       "2   87510  8.7M   5,000,000+  Free     0       Everyone   \n",
       "3  215644   25M  50,000,000+  Free     0           Teen   \n",
       "4     967  2.8M     100,000+  Free     0       Everyone   \n",
       "\n",
       "                      Genres      Last Updated         Current Ver  \\\n",
       "0               Art & Design   January 7, 2018               1.0.0   \n",
       "1  Art & Design;Pretend Play  January 15, 2018               2.0.0   \n",
       "2               Art & Design    August 1, 2018               1.2.4   \n",
       "3               Art & Design      June 8, 2018  Varies with device   \n",
       "4    Art & Design;Creativity     June 20, 2018                 1.1   \n",
       "\n",
       "    Android Ver  \n",
       "0  4.0.3 and up  \n",
       "1  4.0.3 and up  \n",
       "2  4.0.3 and up  \n",
       "3    4.2 and up  \n",
       "4    4.4 and up  "
      ]
     },
     "execution_count": 3,
     "metadata": {},
     "output_type": "execute_result"
    }
   ],
   "source": [
    "#checking first five rows\n",
    "df.head()"
   ]
  },
  {
   "cell_type": "code",
   "execution_count": 4,
   "id": "6a0d94c0",
   "metadata": {},
   "outputs": [
    {
     "name": "stdout",
     "output_type": "stream",
     "text": [
      "<class 'pandas.core.frame.DataFrame'>\n",
      "RangeIndex: 10841 entries, 0 to 10840\n",
      "Data columns (total 13 columns):\n",
      " #   Column          Non-Null Count  Dtype  \n",
      "---  ------          --------------  -----  \n",
      " 0   App             10841 non-null  object \n",
      " 1   Category        10841 non-null  object \n",
      " 2   Rating          9367 non-null   float64\n",
      " 3   Reviews         10841 non-null  object \n",
      " 4   Size            10841 non-null  object \n",
      " 5   Installs        10841 non-null  object \n",
      " 6   Type            10840 non-null  object \n",
      " 7   Price           10841 non-null  object \n",
      " 8   Content Rating  10840 non-null  object \n",
      " 9   Genres          10841 non-null  object \n",
      " 10  Last Updated    10841 non-null  object \n",
      " 11  Current Ver     10833 non-null  object \n",
      " 12  Android Ver     10838 non-null  object \n",
      "dtypes: float64(1), object(12)\n",
      "memory usage: 1.1+ MB\n"
     ]
    }
   ],
   "source": [
    "#Check number of columns and rows, and data types\n",
    "df.info()"
   ]
  },
  {
   "cell_type": "code",
   "execution_count": 5,
   "id": "cf3ca8cd",
   "metadata": {},
   "outputs": [
    {
     "data": {
      "text/html": [
       "<div>\n",
       "<style scoped>\n",
       "    .dataframe tbody tr th:only-of-type {\n",
       "        vertical-align: middle;\n",
       "    }\n",
       "\n",
       "    .dataframe tbody tr th {\n",
       "        vertical-align: top;\n",
       "    }\n",
       "\n",
       "    .dataframe thead th {\n",
       "        text-align: right;\n",
       "    }\n",
       "</style>\n",
       "<table border=\"1\" class=\"dataframe\">\n",
       "  <thead>\n",
       "    <tr style=\"text-align: right;\">\n",
       "      <th></th>\n",
       "      <th>Rating</th>\n",
       "    </tr>\n",
       "  </thead>\n",
       "  <tbody>\n",
       "    <tr>\n",
       "      <th>count</th>\n",
       "      <td>9367.000000</td>\n",
       "    </tr>\n",
       "    <tr>\n",
       "      <th>mean</th>\n",
       "      <td>4.193338</td>\n",
       "    </tr>\n",
       "    <tr>\n",
       "      <th>std</th>\n",
       "      <td>0.537431</td>\n",
       "    </tr>\n",
       "    <tr>\n",
       "      <th>min</th>\n",
       "      <td>1.000000</td>\n",
       "    </tr>\n",
       "    <tr>\n",
       "      <th>25%</th>\n",
       "      <td>4.000000</td>\n",
       "    </tr>\n",
       "    <tr>\n",
       "      <th>50%</th>\n",
       "      <td>4.300000</td>\n",
       "    </tr>\n",
       "    <tr>\n",
       "      <th>75%</th>\n",
       "      <td>4.500000</td>\n",
       "    </tr>\n",
       "    <tr>\n",
       "      <th>max</th>\n",
       "      <td>19.000000</td>\n",
       "    </tr>\n",
       "  </tbody>\n",
       "</table>\n",
       "</div>"
      ],
      "text/plain": [
       "            Rating\n",
       "count  9367.000000\n",
       "mean      4.193338\n",
       "std       0.537431\n",
       "min       1.000000\n",
       "25%       4.000000\n",
       "50%       4.300000\n",
       "75%       4.500000\n",
       "max      19.000000"
      ]
     },
     "execution_count": 5,
     "metadata": {},
     "output_type": "execute_result"
    }
   ],
   "source": [
    "df.describe()"
   ]
  },
  {
   "cell_type": "code",
   "execution_count": 6,
   "id": "52666180",
   "metadata": {},
   "outputs": [
    {
     "data": {
      "text/plain": [
       "(10841, 13)"
      ]
     },
     "execution_count": 6,
     "metadata": {},
     "output_type": "execute_result"
    }
   ],
   "source": [
    "df.shape"
   ]
  },
  {
   "cell_type": "markdown",
   "id": "463f2acc",
   "metadata": {},
   "source": [
    "##### Finding and Treating Null Values"
   ]
  },
  {
   "cell_type": "code",
   "execution_count": 7,
   "id": "2a2cb1cb",
   "metadata": {},
   "outputs": [
    {
     "data": {
      "text/plain": [
       "App                  0\n",
       "Category             0\n",
       "Rating            1474\n",
       "Reviews              0\n",
       "Size                 0\n",
       "Installs             0\n",
       "Type                 1\n",
       "Price                0\n",
       "Content Rating       1\n",
       "Genres               0\n",
       "Last Updated         0\n",
       "Current Ver          8\n",
       "Android Ver          3\n",
       "dtype: int64"
      ]
     },
     "execution_count": 7,
     "metadata": {},
     "output_type": "execute_result"
    }
   ],
   "source": [
    "df.isnull().sum()"
   ]
  },
  {
   "cell_type": "code",
   "execution_count": 8,
   "id": "97cb1bfb",
   "metadata": {},
   "outputs": [],
   "source": [
    "#Dropping the records with null ratings\n",
    "#This is done because ratings is our target variable\n",
    "df.dropna(how='any', inplace=True)"
   ]
  },
  {
   "cell_type": "code",
   "execution_count": 9,
   "id": "cf0538df",
   "metadata": {},
   "outputs": [
    {
     "data": {
      "text/plain": [
       "(9360, 13)"
      ]
     },
     "execution_count": 9,
     "metadata": {},
     "output_type": "execute_result"
    }
   ],
   "source": [
    "df.shape"
   ]
  },
  {
   "cell_type": "code",
   "execution_count": 10,
   "id": "67a50dc0",
   "metadata": {},
   "outputs": [
    {
     "data": {
      "text/plain": [
       "App               0\n",
       "Category          0\n",
       "Rating            0\n",
       "Reviews           0\n",
       "Size              0\n",
       "Installs          0\n",
       "Type              0\n",
       "Price             0\n",
       "Content Rating    0\n",
       "Genres            0\n",
       "Last Updated      0\n",
       "Current Ver       0\n",
       "Android Ver       0\n",
       "dtype: int64"
      ]
     },
     "execution_count": 10,
     "metadata": {},
     "output_type": "execute_result"
    }
   ],
   "source": [
    "df.isnull().sum()"
   ]
  },
  {
   "cell_type": "markdown",
   "id": "2f761684",
   "metadata": {},
   "source": [
    "##### Handling the Variables"
   ]
  },
  {
   "cell_type": "markdown",
   "id": "7f91c702",
   "metadata": {},
   "source": [
    "##### 1. Clean the price column"
   ]
  },
  {
   "cell_type": "code",
   "execution_count": 11,
   "id": "00619737",
   "metadata": {},
   "outputs": [
    {
     "data": {
      "text/plain": [
       "0        8715\n",
       "$2.99     114\n",
       "$0.99     106\n",
       "$4.99      70\n",
       "$1.99      59\n",
       "Name: Price, dtype: int64"
      ]
     },
     "execution_count": 11,
     "metadata": {},
     "output_type": "execute_result"
    }
   ],
   "source": [
    "#Cleaning the price column\n",
    "df.Price.value_counts()[:5]"
   ]
  },
  {
   "cell_type": "markdown",
   "id": "5b3836fe",
   "metadata": {},
   "source": [
    "#### Observations\n",
    "Some have dollars, some have 0\n",
    "* We need to conditionally handle this.\n",
    "* First, let's modify the column to take 0 if value is 0, else take the first letter onwards."
   ]
  },
  {
   "cell_type": "code",
   "execution_count": 12,
   "id": "d518d667",
   "metadata": {},
   "outputs": [],
   "source": [
    "#Modifying the column\n",
    "df['Price'] = df.Price.map(lambda x: 0 if x=='0' else float(x[1:]))"
   ]
  },
  {
   "cell_type": "code",
   "execution_count": 13,
   "id": "d538b381",
   "metadata": {},
   "outputs": [
    {
     "data": {
      "text/plain": [
       "0        0.0\n",
       "1        0.0\n",
       "2        0.0\n",
       "3        0.0\n",
       "4        0.0\n",
       "        ... \n",
       "10834    0.0\n",
       "10836    0.0\n",
       "10837    0.0\n",
       "10839    0.0\n",
       "10840    0.0\n",
       "Name: Price, Length: 9360, dtype: float64"
      ]
     },
     "execution_count": 13,
     "metadata": {},
     "output_type": "execute_result"
    }
   ],
   "source": [
    "df['Price']"
   ]
  },
  {
   "cell_type": "markdown",
   "id": "cfe0db36",
   "metadata": {},
   "source": [
    "**The other columns with numeric data are:<br>**\n",
    "1. Reviews\n",
    "2. Installs\n",
    "3. Size"
   ]
  },
  {
   "cell_type": "markdown",
   "id": "cdb3ec3f",
   "metadata": {},
   "source": [
    "**2. Convert reviews to numeric**"
   ]
  },
  {
   "cell_type": "code",
   "execution_count": 14,
   "id": "99cf8084",
   "metadata": {},
   "outputs": [],
   "source": [
    "#Converting reviews to numeric\n",
    "df.Reviews = df.Reviews.astype(\"int32\")"
   ]
  },
  {
   "cell_type": "code",
   "execution_count": 15,
   "id": "c4bd0ecc",
   "metadata": {},
   "outputs": [
    {
     "data": {
      "text/plain": [
       "count    9.360000e+03\n",
       "mean     5.143767e+05\n",
       "std      3.145023e+06\n",
       "min      1.000000e+00\n",
       "25%      1.867500e+02\n",
       "50%      5.955000e+03\n",
       "75%      8.162750e+04\n",
       "max      7.815831e+07\n",
       "Name: Reviews, dtype: float64"
      ]
     },
     "execution_count": 15,
     "metadata": {},
     "output_type": "execute_result"
    }
   ],
   "source": [
    "df.Reviews.describe()"
   ]
  },
  {
   "cell_type": "markdown",
   "id": "a464056b",
   "metadata": {},
   "source": [
    "**3. Handle the installs column**"
   ]
  },
  {
   "cell_type": "code",
   "execution_count": 16,
   "id": "a6ce2108",
   "metadata": {},
   "outputs": [
    {
     "data": {
      "text/plain": [
       "1,000,000+        1576\n",
       "10,000,000+       1252\n",
       "100,000+          1150\n",
       "10,000+           1009\n",
       "5,000,000+         752\n",
       "1,000+             712\n",
       "500,000+           537\n",
       "50,000+            466\n",
       "5,000+             431\n",
       "100,000,000+       409\n",
       "100+               309\n",
       "50,000,000+        289\n",
       "500+               201\n",
       "500,000,000+        72\n",
       "10+                 69\n",
       "1,000,000,000+      58\n",
       "50+                 56\n",
       "5+                   9\n",
       "1+                   3\n",
       "Name: Installs, dtype: int64"
      ]
     },
     "execution_count": 16,
     "metadata": {},
     "output_type": "execute_result"
    }
   ],
   "source": [
    "#Handling the installs column\n",
    "df.Installs.value_counts()"
   ]
  },
  {
   "cell_type": "markdown",
   "id": "eee195db",
   "metadata": {},
   "source": [
    "We'll need to remove the commas and the plus signs."
   ]
  },
  {
   "cell_type": "markdown",
   "id": "814f199c",
   "metadata": {},
   "source": [
    "<b> Defining function for the same </b>"
   ]
  },
  {
   "cell_type": "code",
   "execution_count": 17,
   "id": "4a3b9bd8",
   "metadata": {},
   "outputs": [],
   "source": [
    "def clean_installs(val):\n",
    "    return int(val.replace(\",\",\"\").replace(\"+\",\"\"))"
   ]
  },
  {
   "cell_type": "code",
   "execution_count": 18,
   "id": "e474dc37",
   "metadata": {},
   "outputs": [],
   "source": [
    "df.Installs = df.Installs.map(clean_installs)"
   ]
  },
  {
   "cell_type": "code",
   "execution_count": 19,
   "id": "f5ef3d46",
   "metadata": {},
   "outputs": [
    {
     "data": {
      "text/plain": [
       "0           10000\n",
       "1          500000\n",
       "2         5000000\n",
       "3        50000000\n",
       "4          100000\n",
       "           ...   \n",
       "10834         500\n",
       "10836        5000\n",
       "10837         100\n",
       "10839        1000\n",
       "10840    10000000\n",
       "Name: Installs, Length: 9360, dtype: int64"
      ]
     },
     "execution_count": 19,
     "metadata": {},
     "output_type": "execute_result"
    }
   ],
   "source": [
    "df['Installs']"
   ]
  },
  {
   "cell_type": "markdown",
   "id": "05238470",
   "metadata": {},
   "source": [
    "**4. Handle the app size field**"
   ]
  },
  {
   "cell_type": "code",
   "execution_count": 20,
   "id": "c7b90b16",
   "metadata": {},
   "outputs": [],
   "source": [
    "#Handling the app size field\n",
    "def change_size(size):\n",
    "    if 'M' in size:\n",
    "        x = size[:-1]\n",
    "        x = float(x)*1000\n",
    "        return(x)\n",
    "    elif 'k' == size[-1:]:\n",
    "        x = size[:-1]\n",
    "        x = float(x)\n",
    "        return(x)\n",
    "    else:\n",
    "        return None"
   ]
  },
  {
   "cell_type": "code",
   "execution_count": 21,
   "id": "c8f55901",
   "metadata": {},
   "outputs": [],
   "source": [
    "df[\"Size\"] = df[\"Size\"].map(change_size)"
   ]
  },
  {
   "cell_type": "code",
   "execution_count": 22,
   "id": "199c163d",
   "metadata": {},
   "outputs": [
    {
     "data": {
      "text/html": [
       "<div>\n",
       "<style scoped>\n",
       "    .dataframe tbody tr th:only-of-type {\n",
       "        vertical-align: middle;\n",
       "    }\n",
       "\n",
       "    .dataframe tbody tr th {\n",
       "        vertical-align: top;\n",
       "    }\n",
       "\n",
       "    .dataframe thead th {\n",
       "        text-align: right;\n",
       "    }\n",
       "</style>\n",
       "<table border=\"1\" class=\"dataframe\">\n",
       "  <thead>\n",
       "    <tr style=\"text-align: right;\">\n",
       "      <th></th>\n",
       "      <th>App</th>\n",
       "      <th>Category</th>\n",
       "      <th>Rating</th>\n",
       "      <th>Reviews</th>\n",
       "      <th>Size</th>\n",
       "      <th>Installs</th>\n",
       "      <th>Type</th>\n",
       "      <th>Price</th>\n",
       "      <th>Content Rating</th>\n",
       "      <th>Genres</th>\n",
       "      <th>Last Updated</th>\n",
       "      <th>Current Ver</th>\n",
       "      <th>Android Ver</th>\n",
       "    </tr>\n",
       "  </thead>\n",
       "  <tbody>\n",
       "    <tr>\n",
       "      <th>0</th>\n",
       "      <td>Photo Editor &amp; Candy Camera &amp; Grid &amp; ScrapBook</td>\n",
       "      <td>ART_AND_DESIGN</td>\n",
       "      <td>4.1</td>\n",
       "      <td>159</td>\n",
       "      <td>19000.0</td>\n",
       "      <td>10000</td>\n",
       "      <td>Free</td>\n",
       "      <td>0.0</td>\n",
       "      <td>Everyone</td>\n",
       "      <td>Art &amp; Design</td>\n",
       "      <td>January 7, 2018</td>\n",
       "      <td>1.0.0</td>\n",
       "      <td>4.0.3 and up</td>\n",
       "    </tr>\n",
       "    <tr>\n",
       "      <th>1</th>\n",
       "      <td>Coloring book moana</td>\n",
       "      <td>ART_AND_DESIGN</td>\n",
       "      <td>3.9</td>\n",
       "      <td>967</td>\n",
       "      <td>14000.0</td>\n",
       "      <td>500000</td>\n",
       "      <td>Free</td>\n",
       "      <td>0.0</td>\n",
       "      <td>Everyone</td>\n",
       "      <td>Art &amp; Design;Pretend Play</td>\n",
       "      <td>January 15, 2018</td>\n",
       "      <td>2.0.0</td>\n",
       "      <td>4.0.3 and up</td>\n",
       "    </tr>\n",
       "    <tr>\n",
       "      <th>2</th>\n",
       "      <td>U Launcher Lite – FREE Live Cool Themes, Hide ...</td>\n",
       "      <td>ART_AND_DESIGN</td>\n",
       "      <td>4.7</td>\n",
       "      <td>87510</td>\n",
       "      <td>8700.0</td>\n",
       "      <td>5000000</td>\n",
       "      <td>Free</td>\n",
       "      <td>0.0</td>\n",
       "      <td>Everyone</td>\n",
       "      <td>Art &amp; Design</td>\n",
       "      <td>August 1, 2018</td>\n",
       "      <td>1.2.4</td>\n",
       "      <td>4.0.3 and up</td>\n",
       "    </tr>\n",
       "    <tr>\n",
       "      <th>3</th>\n",
       "      <td>Sketch - Draw &amp; Paint</td>\n",
       "      <td>ART_AND_DESIGN</td>\n",
       "      <td>4.5</td>\n",
       "      <td>215644</td>\n",
       "      <td>25000.0</td>\n",
       "      <td>50000000</td>\n",
       "      <td>Free</td>\n",
       "      <td>0.0</td>\n",
       "      <td>Teen</td>\n",
       "      <td>Art &amp; Design</td>\n",
       "      <td>June 8, 2018</td>\n",
       "      <td>Varies with device</td>\n",
       "      <td>4.2 and up</td>\n",
       "    </tr>\n",
       "    <tr>\n",
       "      <th>4</th>\n",
       "      <td>Pixel Draw - Number Art Coloring Book</td>\n",
       "      <td>ART_AND_DESIGN</td>\n",
       "      <td>4.3</td>\n",
       "      <td>967</td>\n",
       "      <td>2800.0</td>\n",
       "      <td>100000</td>\n",
       "      <td>Free</td>\n",
       "      <td>0.0</td>\n",
       "      <td>Everyone</td>\n",
       "      <td>Art &amp; Design;Creativity</td>\n",
       "      <td>June 20, 2018</td>\n",
       "      <td>1.1</td>\n",
       "      <td>4.4 and up</td>\n",
       "    </tr>\n",
       "  </tbody>\n",
       "</table>\n",
       "</div>"
      ],
      "text/plain": [
       "                                                 App        Category  Rating  \\\n",
       "0     Photo Editor & Candy Camera & Grid & ScrapBook  ART_AND_DESIGN     4.1   \n",
       "1                                Coloring book moana  ART_AND_DESIGN     3.9   \n",
       "2  U Launcher Lite – FREE Live Cool Themes, Hide ...  ART_AND_DESIGN     4.7   \n",
       "3                              Sketch - Draw & Paint  ART_AND_DESIGN     4.5   \n",
       "4              Pixel Draw - Number Art Coloring Book  ART_AND_DESIGN     4.3   \n",
       "\n",
       "   Reviews     Size  Installs  Type  Price Content Rating  \\\n",
       "0      159  19000.0     10000  Free    0.0       Everyone   \n",
       "1      967  14000.0    500000  Free    0.0       Everyone   \n",
       "2    87510   8700.0   5000000  Free    0.0       Everyone   \n",
       "3   215644  25000.0  50000000  Free    0.0           Teen   \n",
       "4      967   2800.0    100000  Free    0.0       Everyone   \n",
       "\n",
       "                      Genres      Last Updated         Current Ver  \\\n",
       "0               Art & Design   January 7, 2018               1.0.0   \n",
       "1  Art & Design;Pretend Play  January 15, 2018               2.0.0   \n",
       "2               Art & Design    August 1, 2018               1.2.4   \n",
       "3               Art & Design      June 8, 2018  Varies with device   \n",
       "4    Art & Design;Creativity     June 20, 2018                 1.1   \n",
       "\n",
       "    Android Ver  \n",
       "0  4.0.3 and up  \n",
       "1  4.0.3 and up  \n",
       "2  4.0.3 and up  \n",
       "3    4.2 and up  \n",
       "4    4.4 and up  "
      ]
     },
     "execution_count": 22,
     "metadata": {},
     "output_type": "execute_result"
    }
   ],
   "source": [
    "df.head()"
   ]
  },
  {
   "cell_type": "code",
   "execution_count": 23,
   "id": "f3e91ef1",
   "metadata": {},
   "outputs": [],
   "source": [
    "#Filling Size which had NA\n",
    "df.Size.fillna(method = 'ffill', inplace = True)"
   ]
  },
  {
   "cell_type": "markdown",
   "id": "e6869dee",
   "metadata": {},
   "source": [
    "#### **Sanity checks**"
   ]
  },
  {
   "cell_type": "markdown",
   "id": "65553909",
   "metadata": {},
   "source": [
    "1. Average rating should be between 1 and 5, as only these values are allowed on Play Store. Drop any rows that have a value outside this range."
   ]
  },
  {
   "cell_type": "code",
   "execution_count": 24,
   "id": "b000af80",
   "metadata": {},
   "outputs": [
    {
     "data": {
      "text/plain": [
       "count    9360.000000\n",
       "mean        4.191838\n",
       "std         0.515263\n",
       "min         1.000000\n",
       "25%         4.000000\n",
       "50%         4.300000\n",
       "75%         4.500000\n",
       "max         5.000000\n",
       "Name: Rating, dtype: float64"
      ]
     },
     "execution_count": 24,
     "metadata": {},
     "output_type": "execute_result"
    }
   ],
   "source": [
    "#Checking the rating\n",
    "df.Rating.describe()"
   ]
  },
  {
   "cell_type": "markdown",
   "id": "6275e1f0",
   "metadata": {},
   "source": [
    "#### <b> Observations </b>"
   ]
  },
  {
   "cell_type": "markdown",
   "id": "5499ff1d",
   "metadata": {},
   "source": [
    "Min is 1 and max is 5. None of the values have rating outside the range."
   ]
  },
  {
   "cell_type": "markdown",
   "id": "11a824ab",
   "metadata": {},
   "source": [
    "2. Reviews should not be more than installs as only those who installed can review the app."
   ]
  },
  {
   "cell_type": "code",
   "execution_count": 25,
   "id": "d0c6fab8",
   "metadata": {},
   "outputs": [
    {
     "data": {
      "text/plain": [
       "7"
      ]
     },
     "execution_count": 25,
     "metadata": {},
     "output_type": "execute_result"
    }
   ],
   "source": [
    "#Checking and counting the rows\n",
    "len(df[df.Reviews > df.Installs])"
   ]
  },
  {
   "cell_type": "code",
   "execution_count": 26,
   "id": "77c4bd4e",
   "metadata": {},
   "outputs": [
    {
     "data": {
      "text/html": [
       "<div>\n",
       "<style scoped>\n",
       "    .dataframe tbody tr th:only-of-type {\n",
       "        vertical-align: middle;\n",
       "    }\n",
       "\n",
       "    .dataframe tbody tr th {\n",
       "        vertical-align: top;\n",
       "    }\n",
       "\n",
       "    .dataframe thead th {\n",
       "        text-align: right;\n",
       "    }\n",
       "</style>\n",
       "<table border=\"1\" class=\"dataframe\">\n",
       "  <thead>\n",
       "    <tr style=\"text-align: right;\">\n",
       "      <th></th>\n",
       "      <th>App</th>\n",
       "      <th>Category</th>\n",
       "      <th>Rating</th>\n",
       "      <th>Reviews</th>\n",
       "      <th>Size</th>\n",
       "      <th>Installs</th>\n",
       "      <th>Type</th>\n",
       "      <th>Price</th>\n",
       "      <th>Content Rating</th>\n",
       "      <th>Genres</th>\n",
       "      <th>Last Updated</th>\n",
       "      <th>Current Ver</th>\n",
       "      <th>Android Ver</th>\n",
       "    </tr>\n",
       "  </thead>\n",
       "  <tbody>\n",
       "    <tr>\n",
       "      <th>2454</th>\n",
       "      <td>KBA-EZ Health Guide</td>\n",
       "      <td>MEDICAL</td>\n",
       "      <td>5.0</td>\n",
       "      <td>4</td>\n",
       "      <td>25000.0</td>\n",
       "      <td>1</td>\n",
       "      <td>Free</td>\n",
       "      <td>0.00</td>\n",
       "      <td>Everyone</td>\n",
       "      <td>Medical</td>\n",
       "      <td>August 2, 2018</td>\n",
       "      <td>1.0.72</td>\n",
       "      <td>4.0.3 and up</td>\n",
       "    </tr>\n",
       "    <tr>\n",
       "      <th>4663</th>\n",
       "      <td>Alarmy (Sleep If U Can) - Pro</td>\n",
       "      <td>LIFESTYLE</td>\n",
       "      <td>4.8</td>\n",
       "      <td>10249</td>\n",
       "      <td>30000.0</td>\n",
       "      <td>10000</td>\n",
       "      <td>Paid</td>\n",
       "      <td>2.49</td>\n",
       "      <td>Everyone</td>\n",
       "      <td>Lifestyle</td>\n",
       "      <td>July 30, 2018</td>\n",
       "      <td>Varies with device</td>\n",
       "      <td>Varies with device</td>\n",
       "    </tr>\n",
       "    <tr>\n",
       "      <th>5917</th>\n",
       "      <td>Ra Ga Ba</td>\n",
       "      <td>GAME</td>\n",
       "      <td>5.0</td>\n",
       "      <td>2</td>\n",
       "      <td>20000.0</td>\n",
       "      <td>1</td>\n",
       "      <td>Paid</td>\n",
       "      <td>1.49</td>\n",
       "      <td>Everyone</td>\n",
       "      <td>Arcade</td>\n",
       "      <td>February 8, 2017</td>\n",
       "      <td>1.0.4</td>\n",
       "      <td>2.3 and up</td>\n",
       "    </tr>\n",
       "    <tr>\n",
       "      <th>6700</th>\n",
       "      <td>Brick Breaker BR</td>\n",
       "      <td>GAME</td>\n",
       "      <td>5.0</td>\n",
       "      <td>7</td>\n",
       "      <td>19000.0</td>\n",
       "      <td>5</td>\n",
       "      <td>Free</td>\n",
       "      <td>0.00</td>\n",
       "      <td>Everyone</td>\n",
       "      <td>Arcade</td>\n",
       "      <td>July 23, 2018</td>\n",
       "      <td>1</td>\n",
       "      <td>4.1 and up</td>\n",
       "    </tr>\n",
       "    <tr>\n",
       "      <th>7402</th>\n",
       "      <td>Trovami se ci riesci</td>\n",
       "      <td>GAME</td>\n",
       "      <td>5.0</td>\n",
       "      <td>11</td>\n",
       "      <td>6100.0</td>\n",
       "      <td>10</td>\n",
       "      <td>Free</td>\n",
       "      <td>0.00</td>\n",
       "      <td>Everyone</td>\n",
       "      <td>Arcade</td>\n",
       "      <td>March 11, 2017</td>\n",
       "      <td>0.1</td>\n",
       "      <td>2.3 and up</td>\n",
       "    </tr>\n",
       "    <tr>\n",
       "      <th>8591</th>\n",
       "      <td>DN Blog</td>\n",
       "      <td>SOCIAL</td>\n",
       "      <td>5.0</td>\n",
       "      <td>20</td>\n",
       "      <td>4200.0</td>\n",
       "      <td>10</td>\n",
       "      <td>Free</td>\n",
       "      <td>0.00</td>\n",
       "      <td>Teen</td>\n",
       "      <td>Social</td>\n",
       "      <td>July 23, 2018</td>\n",
       "      <td>1</td>\n",
       "      <td>4.0 and up</td>\n",
       "    </tr>\n",
       "    <tr>\n",
       "      <th>10697</th>\n",
       "      <td>Mu.F.O.</td>\n",
       "      <td>GAME</td>\n",
       "      <td>5.0</td>\n",
       "      <td>2</td>\n",
       "      <td>16000.0</td>\n",
       "      <td>1</td>\n",
       "      <td>Paid</td>\n",
       "      <td>0.99</td>\n",
       "      <td>Everyone</td>\n",
       "      <td>Arcade</td>\n",
       "      <td>March 3, 2017</td>\n",
       "      <td>1</td>\n",
       "      <td>2.3 and up</td>\n",
       "    </tr>\n",
       "  </tbody>\n",
       "</table>\n",
       "</div>"
      ],
      "text/plain": [
       "                                 App   Category  Rating  Reviews     Size  \\\n",
       "2454             KBA-EZ Health Guide    MEDICAL     5.0        4  25000.0   \n",
       "4663   Alarmy (Sleep If U Can) - Pro  LIFESTYLE     4.8    10249  30000.0   \n",
       "5917                        Ra Ga Ba       GAME     5.0        2  20000.0   \n",
       "6700                Brick Breaker BR       GAME     5.0        7  19000.0   \n",
       "7402            Trovami se ci riesci       GAME     5.0       11   6100.0   \n",
       "8591                         DN Blog     SOCIAL     5.0       20   4200.0   \n",
       "10697                        Mu.F.O.       GAME     5.0        2  16000.0   \n",
       "\n",
       "       Installs  Type  Price Content Rating     Genres      Last Updated  \\\n",
       "2454          1  Free   0.00       Everyone    Medical    August 2, 2018   \n",
       "4663      10000  Paid   2.49       Everyone  Lifestyle     July 30, 2018   \n",
       "5917          1  Paid   1.49       Everyone     Arcade  February 8, 2017   \n",
       "6700          5  Free   0.00       Everyone     Arcade     July 23, 2018   \n",
       "7402         10  Free   0.00       Everyone     Arcade    March 11, 2017   \n",
       "8591         10  Free   0.00           Teen     Social     July 23, 2018   \n",
       "10697         1  Paid   0.99       Everyone     Arcade     March 3, 2017   \n",
       "\n",
       "              Current Ver         Android Ver  \n",
       "2454               1.0.72        4.0.3 and up  \n",
       "4663   Varies with device  Varies with device  \n",
       "5917                1.0.4          2.3 and up  \n",
       "6700                    1          4.1 and up  \n",
       "7402                  0.1          2.3 and up  \n",
       "8591                    1          4.0 and up  \n",
       "10697                   1          2.3 and up  "
      ]
     },
     "execution_count": 26,
     "metadata": {},
     "output_type": "execute_result"
    }
   ],
   "source": [
    "df[df.Reviews > df.Installs]"
   ]
  },
  {
   "cell_type": "code",
   "execution_count": 27,
   "id": "ea3c3d62",
   "metadata": {},
   "outputs": [],
   "source": [
    "#copy is copying only those rows that satisfy the condition and removing rest.\n",
    "df = df[df.Reviews <= df.Installs].copy()"
   ]
  },
  {
   "cell_type": "code",
   "execution_count": 28,
   "id": "cd9d16e2",
   "metadata": {},
   "outputs": [
    {
     "data": {
      "text/plain": [
       "(9353, 13)"
      ]
     },
     "execution_count": 28,
     "metadata": {},
     "output_type": "execute_result"
    }
   ],
   "source": [
    "df.shape"
   ]
  },
  {
   "cell_type": "markdown",
   "id": "972d67ee",
   "metadata": {},
   "source": [
    "3. For free apps **(Type == “Free”)**, the price should not be **> 0**. Drop any such rows."
   ]
  },
  {
   "cell_type": "code",
   "execution_count": 29,
   "id": "8e5e5cc9",
   "metadata": {},
   "outputs": [
    {
     "data": {
      "text/plain": [
       "0"
      ]
     },
     "execution_count": 29,
     "metadata": {},
     "output_type": "execute_result"
    }
   ],
   "source": [
    "len(df[(df.Type == \"Free\") & (df.Price>0)])"
   ]
  },
  {
   "cell_type": "markdown",
   "id": "14535501",
   "metadata": {},
   "source": [
    "### **Exploratory Data Analysis**"
   ]
  },
  {
   "cell_type": "markdown",
   "id": "05dbb710",
   "metadata": {},
   "source": [
    "#### <b> Box Plot: Price</b>"
   ]
  },
  {
   "cell_type": "code",
   "execution_count": 30,
   "id": "112e4718",
   "metadata": {},
   "outputs": [
    {
     "name": "stderr",
     "output_type": "stream",
     "text": [
      "/Users/muskansharma/opt/anaconda3/lib/python3.8/site-packages/seaborn/_decorators.py:36: FutureWarning: Pass the following variable as a keyword arg: x. From version 0.12, the only valid positional argument will be `data`, and passing other arguments without an explicit keyword will result in an error or misinterpretation.\n",
      "  warnings.warn(\n"
     ]
    },
    {
     "data": {
      "image/png": "[encoded data removed]",
      "text/plain": [
       "<Figure size 432x288 with 1 Axes>"
      ]
     },
     "metadata": {
      "needs_background": "light"
     },
     "output_type": "display_data"
    }
   ],
   "source": [
    "#Are there any outliers? Think about the price of usual apps on the Play Store.\n",
    "sns.boxplot(df.Price)\n",
    "plt.show()"
   ]
  },
  {
   "cell_type": "markdown",
   "id": "854eacdf",
   "metadata": {},
   "source": [
    "#### <b> Box Plot: Reviews</b>"
   ]
  },
  {
   "cell_type": "code",
   "execution_count": 31,
   "id": "76035433",
   "metadata": {},
   "outputs": [
    {
     "name": "stderr",
     "output_type": "stream",
     "text": [
      "/Users/muskansharma/opt/anaconda3/lib/python3.8/site-packages/seaborn/_decorators.py:36: FutureWarning: Pass the following variable as a keyword arg: x. From version 0.12, the only valid positional argument will be `data`, and passing other arguments without an explicit keyword will result in an error or misinterpretation.\n",
      "  warnings.warn(\n"
     ]
    },
    {
     "data": {
      "image/png": "[encoded data removed]",
      "text/plain": [
       "<Figure size 432x288 with 1 Axes>"
      ]
     },
     "metadata": {
      "needs_background": "light"
     },
     "output_type": "display_data"
    }
   ],
   "source": [
    "#Are there any apps with very high number of reviews? Do the values seem right?\n",
    "sns.boxplot(df.Reviews)\n",
    "plt.show()"
   ]
  },
  {
   "cell_type": "markdown",
   "id": "17dc48c8",
   "metadata": {},
   "source": [
    "#### **Checking Distribution and Skewness:**\n",
    "\n",
    "How are the ratings distributed? Is it more toward higher ratings?"
   ]
  },
  {
   "cell_type": "markdown",
   "id": "3435b9a1",
   "metadata": {},
   "source": [
    "##### **Distribution of Ratings**"
   ]
  },
  {
   "cell_type": "code",
   "execution_count": 32,
   "id": "3e2bf587",
   "metadata": {},
   "outputs": [
    {
     "data": {
      "image/png": "[encoded data removed]",
      "text/plain": [
       "<Figure size 432x288 with 1 Axes>"
      ]
     },
     "metadata": {
      "needs_background": "light"
     },
     "output_type": "display_data"
    }
   ],
   "source": [
    "#Distributing the ratings\n",
    "df['Rating'].plot(kind='hist')\n",
    "#Show plot\n",
    "plt.show()"
   ]
  },
  {
   "cell_type": "markdown",
   "id": "ba2605e7",
   "metadata": {},
   "source": [
    "##### **Histogram: Size**"
   ]
  },
  {
   "cell_type": "code",
   "execution_count": 33,
   "id": "513f8955",
   "metadata": {},
   "outputs": [
    {
     "data": {
      "image/png": "[encoded data removed]",
      "text/plain": [
       "<Figure size 432x288 with 1 Axes>"
      ]
     },
     "metadata": {
      "needs_background": "light"
     },
     "output_type": "display_data"
    }
   ],
   "source": [
    "df['Size'].plot(kind='hist')\n",
    "#Show plot\n",
    "plt.show()"
   ]
  },
  {
   "cell_type": "markdown",
   "id": "f9f4f127",
   "metadata": {},
   "source": [
    "#### <b> Observations </b>\n",
    "A histogram is plotted with ratings on the x-axis and frequency on the y-axis, and the ratings are distributed."
   ]
  },
  {
   "cell_type": "code",
   "execution_count": 34,
   "id": "dcfffff2",
   "metadata": {},
   "outputs": [
    {
     "data": {
      "text/plain": [
       "<seaborn.axisgrid.PairGrid at 0x7f8788b84160>"
      ]
     },
     "execution_count": 34,
     "metadata": {},
     "output_type": "execute_result"
    },
    {
     "data": {
      "image/png": "[encoded data removed]",
      "text/plain": [
       "<Figure size 900x900 with 30 Axes>"
      ]
     },
     "metadata": {
      "needs_background": "light"
     },
     "output_type": "display_data"
    }
   ],
   "source": [
    "#Pair plot\n",
    "sns.pairplot(data=df)"
   ]
  },
  {
   "cell_type": "markdown",
   "id": "0b500314",
   "metadata": {},
   "source": [
    "##### **Outlier Treatment:**"
   ]
  },
  {
   "cell_type": "markdown",
   "id": "2ae3cd79",
   "metadata": {},
   "source": [
    "##### **1. Price:** \n",
    "\n",
    "From the box plot, it seems like there are some apps with very high prices. A price of $200 for an application on the Play Store is very high and suspicious.\n",
    "Check the records that have very high price:\n",
    "Is 200 a high price?"
   ]
  },
  {
   "cell_type": "code",
   "execution_count": 35,
   "id": "5c13a667",
   "metadata": {},
   "outputs": [
    {
     "data": {
      "text/plain": [
       "15"
      ]
     },
     "execution_count": 35,
     "metadata": {},
     "output_type": "execute_result"
    }
   ],
   "source": [
    "#Checking the records\n",
    "len(df[df.Price > 200])"
   ]
  },
  {
   "cell_type": "code",
   "execution_count": 36,
   "id": "5c9f6d6d",
   "metadata": {},
   "outputs": [
    {
     "data": {
      "text/html": [
       "<div>\n",
       "<style scoped>\n",
       "    .dataframe tbody tr th:only-of-type {\n",
       "        vertical-align: middle;\n",
       "    }\n",
       "\n",
       "    .dataframe tbody tr th {\n",
       "        vertical-align: top;\n",
       "    }\n",
       "\n",
       "    .dataframe thead th {\n",
       "        text-align: right;\n",
       "    }\n",
       "</style>\n",
       "<table border=\"1\" class=\"dataframe\">\n",
       "  <thead>\n",
       "    <tr style=\"text-align: right;\">\n",
       "      <th></th>\n",
       "      <th>App</th>\n",
       "      <th>Category</th>\n",
       "      <th>Rating</th>\n",
       "      <th>Reviews</th>\n",
       "      <th>Size</th>\n",
       "      <th>Installs</th>\n",
       "      <th>Type</th>\n",
       "      <th>Price</th>\n",
       "      <th>Content Rating</th>\n",
       "      <th>Genres</th>\n",
       "      <th>Last Updated</th>\n",
       "      <th>Current Ver</th>\n",
       "      <th>Android Ver</th>\n",
       "    </tr>\n",
       "  </thead>\n",
       "  <tbody>\n",
       "    <tr>\n",
       "      <th>4197</th>\n",
       "      <td>most expensive app (H)</td>\n",
       "      <td>FAMILY</td>\n",
       "      <td>4.3</td>\n",
       "      <td>6</td>\n",
       "      <td>1500.0</td>\n",
       "      <td>100</td>\n",
       "      <td>Paid</td>\n",
       "      <td>399.99</td>\n",
       "      <td>Everyone</td>\n",
       "      <td>Entertainment</td>\n",
       "      <td>July 16, 2018</td>\n",
       "      <td>1</td>\n",
       "      <td>7.0 and up</td>\n",
       "    </tr>\n",
       "    <tr>\n",
       "      <th>4362</th>\n",
       "      <td>💎 I'm rich</td>\n",
       "      <td>LIFESTYLE</td>\n",
       "      <td>3.8</td>\n",
       "      <td>718</td>\n",
       "      <td>26000.0</td>\n",
       "      <td>10000</td>\n",
       "      <td>Paid</td>\n",
       "      <td>399.99</td>\n",
       "      <td>Everyone</td>\n",
       "      <td>Lifestyle</td>\n",
       "      <td>March 11, 2018</td>\n",
       "      <td>1.0.0</td>\n",
       "      <td>4.4 and up</td>\n",
       "    </tr>\n",
       "    <tr>\n",
       "      <th>4367</th>\n",
       "      <td>I'm Rich - Trump Edition</td>\n",
       "      <td>LIFESTYLE</td>\n",
       "      <td>3.6</td>\n",
       "      <td>275</td>\n",
       "      <td>7300.0</td>\n",
       "      <td>10000</td>\n",
       "      <td>Paid</td>\n",
       "      <td>400.00</td>\n",
       "      <td>Everyone</td>\n",
       "      <td>Lifestyle</td>\n",
       "      <td>May 3, 2018</td>\n",
       "      <td>1.0.1</td>\n",
       "      <td>4.1 and up</td>\n",
       "    </tr>\n",
       "    <tr>\n",
       "      <th>5351</th>\n",
       "      <td>I am rich</td>\n",
       "      <td>LIFESTYLE</td>\n",
       "      <td>3.8</td>\n",
       "      <td>3547</td>\n",
       "      <td>1800.0</td>\n",
       "      <td>100000</td>\n",
       "      <td>Paid</td>\n",
       "      <td>399.99</td>\n",
       "      <td>Everyone</td>\n",
       "      <td>Lifestyle</td>\n",
       "      <td>January 12, 2018</td>\n",
       "      <td>2</td>\n",
       "      <td>4.0.3 and up</td>\n",
       "    </tr>\n",
       "    <tr>\n",
       "      <th>5354</th>\n",
       "      <td>I am Rich Plus</td>\n",
       "      <td>FAMILY</td>\n",
       "      <td>4.0</td>\n",
       "      <td>856</td>\n",
       "      <td>8700.0</td>\n",
       "      <td>10000</td>\n",
       "      <td>Paid</td>\n",
       "      <td>399.99</td>\n",
       "      <td>Everyone</td>\n",
       "      <td>Entertainment</td>\n",
       "      <td>May 19, 2018</td>\n",
       "      <td>3</td>\n",
       "      <td>4.4 and up</td>\n",
       "    </tr>\n",
       "    <tr>\n",
       "      <th>5355</th>\n",
       "      <td>I am rich VIP</td>\n",
       "      <td>LIFESTYLE</td>\n",
       "      <td>3.8</td>\n",
       "      <td>411</td>\n",
       "      <td>2600.0</td>\n",
       "      <td>10000</td>\n",
       "      <td>Paid</td>\n",
       "      <td>299.99</td>\n",
       "      <td>Everyone</td>\n",
       "      <td>Lifestyle</td>\n",
       "      <td>July 21, 2018</td>\n",
       "      <td>1.1.1</td>\n",
       "      <td>4.3 and up</td>\n",
       "    </tr>\n",
       "    <tr>\n",
       "      <th>5356</th>\n",
       "      <td>I Am Rich Premium</td>\n",
       "      <td>FINANCE</td>\n",
       "      <td>4.1</td>\n",
       "      <td>1867</td>\n",
       "      <td>4700.0</td>\n",
       "      <td>50000</td>\n",
       "      <td>Paid</td>\n",
       "      <td>399.99</td>\n",
       "      <td>Everyone</td>\n",
       "      <td>Finance</td>\n",
       "      <td>November 12, 2017</td>\n",
       "      <td>1.6</td>\n",
       "      <td>4.0 and up</td>\n",
       "    </tr>\n",
       "    <tr>\n",
       "      <th>5357</th>\n",
       "      <td>I am extremely Rich</td>\n",
       "      <td>LIFESTYLE</td>\n",
       "      <td>2.9</td>\n",
       "      <td>41</td>\n",
       "      <td>2900.0</td>\n",
       "      <td>1000</td>\n",
       "      <td>Paid</td>\n",
       "      <td>379.99</td>\n",
       "      <td>Everyone</td>\n",
       "      <td>Lifestyle</td>\n",
       "      <td>July 1, 2018</td>\n",
       "      <td>1</td>\n",
       "      <td>4.0 and up</td>\n",
       "    </tr>\n",
       "    <tr>\n",
       "      <th>5358</th>\n",
       "      <td>I am Rich!</td>\n",
       "      <td>FINANCE</td>\n",
       "      <td>3.8</td>\n",
       "      <td>93</td>\n",
       "      <td>22000.0</td>\n",
       "      <td>1000</td>\n",
       "      <td>Paid</td>\n",
       "      <td>399.99</td>\n",
       "      <td>Everyone</td>\n",
       "      <td>Finance</td>\n",
       "      <td>December 11, 2017</td>\n",
       "      <td>1</td>\n",
       "      <td>4.1 and up</td>\n",
       "    </tr>\n",
       "    <tr>\n",
       "      <th>5359</th>\n",
       "      <td>I am rich(premium)</td>\n",
       "      <td>FINANCE</td>\n",
       "      <td>3.5</td>\n",
       "      <td>472</td>\n",
       "      <td>965.0</td>\n",
       "      <td>5000</td>\n",
       "      <td>Paid</td>\n",
       "      <td>399.99</td>\n",
       "      <td>Everyone</td>\n",
       "      <td>Finance</td>\n",
       "      <td>May 1, 2017</td>\n",
       "      <td>3.4</td>\n",
       "      <td>4.4 and up</td>\n",
       "    </tr>\n",
       "    <tr>\n",
       "      <th>5362</th>\n",
       "      <td>I Am Rich Pro</td>\n",
       "      <td>FAMILY</td>\n",
       "      <td>4.4</td>\n",
       "      <td>201</td>\n",
       "      <td>2700.0</td>\n",
       "      <td>5000</td>\n",
       "      <td>Paid</td>\n",
       "      <td>399.99</td>\n",
       "      <td>Everyone</td>\n",
       "      <td>Entertainment</td>\n",
       "      <td>May 30, 2017</td>\n",
       "      <td>1.54</td>\n",
       "      <td>1.6 and up</td>\n",
       "    </tr>\n",
       "    <tr>\n",
       "      <th>5364</th>\n",
       "      <td>I am rich (Most expensive app)</td>\n",
       "      <td>FINANCE</td>\n",
       "      <td>4.1</td>\n",
       "      <td>129</td>\n",
       "      <td>2700.0</td>\n",
       "      <td>1000</td>\n",
       "      <td>Paid</td>\n",
       "      <td>399.99</td>\n",
       "      <td>Teen</td>\n",
       "      <td>Finance</td>\n",
       "      <td>December 6, 2017</td>\n",
       "      <td>2</td>\n",
       "      <td>4.0.3 and up</td>\n",
       "    </tr>\n",
       "    <tr>\n",
       "      <th>5366</th>\n",
       "      <td>I Am Rich</td>\n",
       "      <td>FAMILY</td>\n",
       "      <td>3.6</td>\n",
       "      <td>217</td>\n",
       "      <td>4900.0</td>\n",
       "      <td>10000</td>\n",
       "      <td>Paid</td>\n",
       "      <td>389.99</td>\n",
       "      <td>Everyone</td>\n",
       "      <td>Entertainment</td>\n",
       "      <td>June 22, 2018</td>\n",
       "      <td>1.5</td>\n",
       "      <td>4.2 and up</td>\n",
       "    </tr>\n",
       "    <tr>\n",
       "      <th>5369</th>\n",
       "      <td>I am Rich</td>\n",
       "      <td>FINANCE</td>\n",
       "      <td>4.3</td>\n",
       "      <td>180</td>\n",
       "      <td>3800.0</td>\n",
       "      <td>5000</td>\n",
       "      <td>Paid</td>\n",
       "      <td>399.99</td>\n",
       "      <td>Everyone</td>\n",
       "      <td>Finance</td>\n",
       "      <td>March 22, 2018</td>\n",
       "      <td>1</td>\n",
       "      <td>4.2 and up</td>\n",
       "    </tr>\n",
       "    <tr>\n",
       "      <th>5373</th>\n",
       "      <td>I AM RICH PRO PLUS</td>\n",
       "      <td>FINANCE</td>\n",
       "      <td>4.0</td>\n",
       "      <td>36</td>\n",
       "      <td>41000.0</td>\n",
       "      <td>1000</td>\n",
       "      <td>Paid</td>\n",
       "      <td>399.99</td>\n",
       "      <td>Everyone</td>\n",
       "      <td>Finance</td>\n",
       "      <td>June 25, 2018</td>\n",
       "      <td>1.0.2</td>\n",
       "      <td>4.1 and up</td>\n",
       "    </tr>\n",
       "  </tbody>\n",
       "</table>\n",
       "</div>"
      ],
      "text/plain": [
       "                                 App   Category  Rating  Reviews     Size  \\\n",
       "4197          most expensive app (H)     FAMILY     4.3        6   1500.0   \n",
       "4362                      💎 I'm rich  LIFESTYLE     3.8      718  26000.0   \n",
       "4367        I'm Rich - Trump Edition  LIFESTYLE     3.6      275   7300.0   \n",
       "5351                       I am rich  LIFESTYLE     3.8     3547   1800.0   \n",
       "5354                  I am Rich Plus     FAMILY     4.0      856   8700.0   \n",
       "5355                   I am rich VIP  LIFESTYLE     3.8      411   2600.0   \n",
       "5356               I Am Rich Premium    FINANCE     4.1     1867   4700.0   \n",
       "5357             I am extremely Rich  LIFESTYLE     2.9       41   2900.0   \n",
       "5358                      I am Rich!    FINANCE     3.8       93  22000.0   \n",
       "5359              I am rich(premium)    FINANCE     3.5      472    965.0   \n",
       "5362                   I Am Rich Pro     FAMILY     4.4      201   2700.0   \n",
       "5364  I am rich (Most expensive app)    FINANCE     4.1      129   2700.0   \n",
       "5366                       I Am Rich     FAMILY     3.6      217   4900.0   \n",
       "5369                       I am Rich    FINANCE     4.3      180   3800.0   \n",
       "5373              I AM RICH PRO PLUS    FINANCE     4.0       36  41000.0   \n",
       "\n",
       "      Installs  Type   Price Content Rating         Genres       Last Updated  \\\n",
       "4197       100  Paid  399.99       Everyone  Entertainment      July 16, 2018   \n",
       "4362     10000  Paid  399.99       Everyone      Lifestyle     March 11, 2018   \n",
       "4367     10000  Paid  400.00       Everyone      Lifestyle        May 3, 2018   \n",
       "5351    100000  Paid  399.99       Everyone      Lifestyle   January 12, 2018   \n",
       "5354     10000  Paid  399.99       Everyone  Entertainment       May 19, 2018   \n",
       "5355     10000  Paid  299.99       Everyone      Lifestyle      July 21, 2018   \n",
       "5356     50000  Paid  399.99       Everyone        Finance  November 12, 2017   \n",
       "5357      1000  Paid  379.99       Everyone      Lifestyle       July 1, 2018   \n",
       "5358      1000  Paid  399.99       Everyone        Finance  December 11, 2017   \n",
       "5359      5000  Paid  399.99       Everyone        Finance        May 1, 2017   \n",
       "5362      5000  Paid  399.99       Everyone  Entertainment       May 30, 2017   \n",
       "5364      1000  Paid  399.99           Teen        Finance   December 6, 2017   \n",
       "5366     10000  Paid  389.99       Everyone  Entertainment      June 22, 2018   \n",
       "5369      5000  Paid  399.99       Everyone        Finance     March 22, 2018   \n",
       "5373      1000  Paid  399.99       Everyone        Finance      June 25, 2018   \n",
       "\n",
       "     Current Ver   Android Ver  \n",
       "4197           1    7.0 and up  \n",
       "4362       1.0.0    4.4 and up  \n",
       "4367       1.0.1    4.1 and up  \n",
       "5351           2  4.0.3 and up  \n",
       "5354           3    4.4 and up  \n",
       "5355       1.1.1    4.3 and up  \n",
       "5356         1.6    4.0 and up  \n",
       "5357           1    4.0 and up  \n",
       "5358           1    4.1 and up  \n",
       "5359         3.4    4.4 and up  \n",
       "5362        1.54    1.6 and up  \n",
       "5364           2  4.0.3 and up  \n",
       "5366         1.5    4.2 and up  \n",
       "5369           1    4.2 and up  \n",
       "5373       1.0.2    4.1 and up  "
      ]
     },
     "execution_count": 36,
     "metadata": {},
     "output_type": "execute_result"
    }
   ],
   "source": [
    "df[df.Price > 200]"
   ]
  },
  {
   "cell_type": "code",
   "execution_count": 37,
   "id": "9236e358",
   "metadata": {},
   "outputs": [
    {
     "data": {
      "text/plain": [
       "(9338, 13)"
      ]
     },
     "execution_count": 37,
     "metadata": {},
     "output_type": "execute_result"
    }
   ],
   "source": [
    "df = df[df.Price <= 200].copy()\n",
    "\n",
    "df.shape"
   ]
  },
  {
   "cell_type": "markdown",
   "id": "2cf1276d",
   "metadata": {},
   "source": [
    "##### **2. Reviews:**\n",
    "\n",
    "Very few apps have very high number of reviews. These are all star apps that don’t help with the analysis and, in fact, will skew it. Drop records having more than 2 million reviews."
   ]
  },
  {
   "cell_type": "code",
   "execution_count": 38,
   "id": "fdf24f69",
   "metadata": {},
   "outputs": [
    {
     "data": {
      "text/plain": [
       "(8885, 13)"
      ]
     },
     "execution_count": 38,
     "metadata": {},
     "output_type": "execute_result"
    }
   ],
   "source": [
    "#Dropping the records with more than 2 million reviews\n",
    "df = df[df.Reviews <= 2000000]\n",
    "df.shape"
   ]
  },
  {
   "cell_type": "markdown",
   "id": "d9d6b181",
   "metadata": {},
   "source": [
    "##### **3. Installs:**\n",
    "\n",
    "There seem to be some outliers in this field too. Apps having a very high number of installs should be dropped from the analysis.\n",
    "Find out the different percentiles – 10, 25, 50, 70, 90, 95, 99.\n",
    "\n",
    "Decide a threshold as the cutoff for outliers and drop records having values more than the threshold."
   ]
  },
  {
   "cell_type": "code",
   "execution_count": 39,
   "id": "d0088fb0",
   "metadata": {},
   "outputs": [
    {
     "data": {
      "text/plain": [
       "0.10         1000.0\n",
       "0.25        10000.0\n",
       "0.50       500000.0\n",
       "0.70      1000000.0\n",
       "0.90     10000000.0\n",
       "0.95     10000000.0\n",
       "0.99    100000000.0\n",
       "Name: Installs, dtype: float64"
      ]
     },
     "execution_count": 39,
     "metadata": {},
     "output_type": "execute_result"
    }
   ],
   "source": [
    "#Dropping the apps that have a very high number of installs\n",
    "df.Installs.quantile([0.1, 0.25, 0.5, 0.70, 0.9, 0.95, 0.99])"
   ]
  },
  {
   "cell_type": "markdown",
   "id": "becca14e",
   "metadata": {},
   "source": [
    "#### <b> Observations </b>"
   ]
  },
  {
   "cell_type": "markdown",
   "id": "0f2b6684",
   "metadata": {},
   "source": [
    "Looks like there are just 1% of apps having more than 100M installs. These apps might be genuine, but will definitely skew our analysis.  \n",
    "We need to drop these.\n"
   ]
  },
  {
   "cell_type": "code",
   "execution_count": 40,
   "id": "b3a4281f",
   "metadata": {},
   "outputs": [
    {
     "data": {
      "text/plain": [
       "6"
      ]
     },
     "execution_count": 40,
     "metadata": {},
     "output_type": "execute_result"
    }
   ],
   "source": [
    "#Dropping the apps with more than 100M installs\n",
    "len(df[df.Installs >= 1000000000])"
   ]
  },
  {
   "cell_type": "code",
   "execution_count": 41,
   "id": "d118e3aa",
   "metadata": {},
   "outputs": [
    {
     "data": {
      "text/plain": [
       "(8879, 13)"
      ]
     },
     "execution_count": 41,
     "metadata": {},
     "output_type": "execute_result"
    }
   ],
   "source": [
    "df = df[df.Installs < 1000000000].copy()\n",
    "df.shape"
   ]
  },
  {
   "cell_type": "code",
   "execution_count": 42,
   "id": "ca29cbad",
   "metadata": {},
   "outputs": [],
   "source": [
    "#Importing warnings\n",
    "import warnings\n",
    "warnings.filterwarnings(\"ignore\")"
   ]
  },
  {
   "cell_type": "markdown",
   "id": "05ebdce8",
   "metadata": {},
   "source": [
    "#### **Bi-variate Analysis:**"
   ]
  },
  {
   "cell_type": "markdown",
   "id": "2c7fb929",
   "metadata": {},
   "source": [
    "Let’s look at how the available predictors relate to the variable of interest, i.e., our target variable rating. Make scatter plots (for numeric features) and box plots (for character features) to assess the relationhips between rating and the other features."
   ]
  },
  {
   "cell_type": "markdown",
   "id": "6810afa5",
   "metadata": {},
   "source": [
    "##### **1.\tMake scatter plot/joint plot for Rating vs. Price**"
   ]
  },
  {
   "cell_type": "code",
   "execution_count": 43,
   "id": "5a8926fa",
   "metadata": {},
   "outputs": [
    {
     "data": {
      "text/plain": [
       "<seaborn.axisgrid.JointGrid at 0x7f878c1c01c0>"
      ]
     },
     "execution_count": 43,
     "metadata": {},
     "output_type": "execute_result"
    },
    {
     "data": {
      "image/png": "[encoded data removed]",
      "text/plain": [
       "<Figure size 432x432 with 3 Axes>"
      ]
     },
     "metadata": {
      "needs_background": "light"
     },
     "output_type": "display_data"
    }
   ],
   "source": [
    "#What pattern do you observe? Does rating increase with price?\n",
    "sns.jointplot(df.Price, df.Rating)"
   ]
  },
  {
   "cell_type": "markdown",
   "id": "41879ab5",
   "metadata": {},
   "source": [
    "##### **2.\tMake scatter plot/joint plot for Rating vs Size**"
   ]
  },
  {
   "cell_type": "code",
   "execution_count": 44,
   "id": "3c847bec",
   "metadata": {},
   "outputs": [
    {
     "data": {
      "text/plain": [
       "<seaborn.axisgrid.JointGrid at 0x7f878c768910>"
      ]
     },
     "execution_count": 44,
     "metadata": {},
     "output_type": "execute_result"
    },
    {
     "data": {
      "image/png": "[encoded data removed]",
      "text/plain": [
       "<Figure size 432x432 with 3 Axes>"
      ]
     },
     "metadata": {
      "needs_background": "light"
     },
     "output_type": "display_data"
    }
   ],
   "source": [
    "#Are heavier apps rated better?\n",
    "sns.jointplot(df.Size, df.Rating)"
   ]
  },
  {
   "cell_type": "markdown",
   "id": "e7c19faf",
   "metadata": {},
   "source": [
    "##### **3.\tMake scatter plot/joint plot for Rating vs Reviews**"
   ]
  },
  {
   "cell_type": "code",
   "execution_count": 45,
   "id": "f0c8b1fa",
   "metadata": {},
   "outputs": [
    {
     "data": {
      "text/plain": [
       "<seaborn.axisgrid.JointGrid at 0x7f877f717250>"
      ]
     },
     "execution_count": 45,
     "metadata": {},
     "output_type": "execute_result"
    },
    {
     "data": {
      "image/png": "[encoded data removed]",
      "text/plain": [
       "<Figure size 432x432 with 3 Axes>"
      ]
     },
     "metadata": {
      "needs_background": "light"
     },
     "output_type": "display_data"
    }
   ],
   "source": [
    "# Does more review mean a better rating always?\n",
    "sns.jointplot(df.Reviews, df.Rating)"
   ]
  },
  {
   "cell_type": "markdown",
   "id": "835e250e",
   "metadata": {},
   "source": [
    "##### **4.\tMake boxplot for Rating vs Content Rating**"
   ]
  },
  {
   "cell_type": "code",
   "execution_count": 46,
   "id": "1414afce",
   "metadata": {},
   "outputs": [
    {
     "data": {
      "text/plain": [
       "<AxesSubplot:xlabel='Content Rating', ylabel='Rating'>"
      ]
     },
     "execution_count": 46,
     "metadata": {},
     "output_type": "execute_result"
    },
    {
     "data": {
      "image/png": "[encoded data removed]",
      "text/plain": [
       "<Figure size 576x432 with 1 Axes>"
      ]
     },
     "metadata": {
      "needs_background": "light"
     },
     "output_type": "display_data"
    }
   ],
   "source": [
    "#Is there any difference in the ratings? Are some types liked better?\n",
    "plt.figure(figsize=[8,6])\n",
    "sns.boxplot(df['Content Rating'], df.Rating)"
   ]
  },
  {
   "cell_type": "markdown",
   "id": "24aa6bde",
   "metadata": {},
   "source": [
    "##### **5. Make boxplot for Ratings vs. Category**"
   ]
  },
  {
   "cell_type": "code",
   "execution_count": 47,
   "id": "eb40c0d0",
   "metadata": {},
   "outputs": [
    {
     "data": {
      "text/plain": [
       "(array([ 0,  1,  2,  3,  4,  5,  6,  7,  8,  9, 10, 11, 12, 13, 14, 15, 16,\n",
       "        17, 18, 19, 20, 21, 22, 23, 24, 25, 26, 27, 28, 29, 30, 31, 32]),\n",
       " [Text(0, 0, 'ART_AND_DESIGN'),\n",
       "  Text(1, 0, 'AUTO_AND_VEHICLES'),\n",
       "  Text(2, 0, 'BEAUTY'),\n",
       "  Text(3, 0, 'BOOKS_AND_REFERENCE'),\n",
       "  Text(4, 0, 'BUSINESS'),\n",
       "  Text(5, 0, 'COMICS'),\n",
       "  Text(6, 0, 'COMMUNICATION'),\n",
       "  Text(7, 0, 'DATING'),\n",
       "  Text(8, 0, 'EDUCATION'),\n",
       "  Text(9, 0, 'ENTERTAINMENT'),\n",
       "  Text(10, 0, 'EVENTS'),\n",
       "  Text(11, 0, 'FINANCE'),\n",
       "  Text(12, 0, 'FOOD_AND_DRINK'),\n",
       "  Text(13, 0, 'HEALTH_AND_FITNESS'),\n",
       "  Text(14, 0, 'HOUSE_AND_HOME'),\n",
       "  Text(15, 0, 'LIBRARIES_AND_DEMO'),\n",
       "  Text(16, 0, 'LIFESTYLE'),\n",
       "  Text(17, 0, 'GAME'),\n",
       "  Text(18, 0, 'FAMILY'),\n",
       "  Text(19, 0, 'MEDICAL'),\n",
       "  Text(20, 0, 'SOCIAL'),\n",
       "  Text(21, 0, 'SHOPPING'),\n",
       "  Text(22, 0, 'PHOTOGRAPHY'),\n",
       "  Text(23, 0, 'SPORTS'),\n",
       "  Text(24, 0, 'TRAVEL_AND_LOCAL'),\n",
       "  Text(25, 0, 'TOOLS'),\n",
       "  Text(26, 0, 'PERSONALIZATION'),\n",
       "  Text(27, 0, 'PRODUCTIVITY'),\n",
       "  Text(28, 0, 'PARENTING'),\n",
       "  Text(29, 0, 'WEATHER'),\n",
       "  Text(30, 0, 'VIDEO_PLAYERS'),\n",
       "  Text(31, 0, 'NEWS_AND_MAGAZINES'),\n",
       "  Text(32, 0, 'MAPS_AND_NAVIGATION')])"
      ]
     },
     "execution_count": 47,
     "metadata": {},
     "output_type": "execute_result"
    },
    {
     "data": {
      "image/png": "[encoded data removed]",
      "text/plain": [
       "<Figure size 1296x432 with 1 Axes>"
      ]
     },
     "metadata": {
      "needs_background": "light"
     },
     "output_type": "display_data"
    }
   ],
   "source": [
    "#Which genre has the best ratings?\n",
    "plt.figure(figsize=[18,6])\n",
    "g = sns.boxplot(df.Category, df.Rating)\n",
    "plt.xticks(rotation=90)"
   ]
  },
  {
   "cell_type": "markdown",
   "id": "77323f03",
   "metadata": {},
   "source": [
    "### **Pre-processing the Dataset**"
   ]
  },
  {
   "cell_type": "markdown",
   "id": "136c21d8",
   "metadata": {},
   "source": [
    "##### **1. Make a copy of the dataset**"
   ]
  },
  {
   "cell_type": "code",
   "execution_count": 48,
   "id": "eefeae3d",
   "metadata": {},
   "outputs": [],
   "source": [
    "#Making a copy\n",
    "df1 = df.copy()"
   ]
  },
  {
   "cell_type": "markdown",
   "id": "1644a46d",
   "metadata": {},
   "source": [
    "##### **2. Apply log transformation (np.log1p) to Reviews and Installs**\n",
    "\n",
    "Reviews and Installs have some values that are still relatively very high.\n",
    "Before building a linear regression model, you need to reduce the skew."
   ]
  },
  {
   "cell_type": "code",
   "execution_count": 49,
   "id": "31c58874",
   "metadata": {},
   "outputs": [
    {
     "data": {
      "text/plain": [
       "count    8.879000e+03\n",
       "mean     5.595862e+06\n",
       "std      2.421042e+07\n",
       "min      5.000000e+00\n",
       "25%      1.000000e+04\n",
       "50%      5.000000e+05\n",
       "75%      5.000000e+06\n",
       "max      5.000000e+08\n",
       "Name: Installs, dtype: float64"
      ]
     },
     "execution_count": 49,
     "metadata": {},
     "output_type": "execute_result"
    }
   ],
   "source": [
    "#Reducing the skew\n",
    "df.Installs.describe()"
   ]
  },
  {
   "cell_type": "code",
   "execution_count": 50,
   "id": "28b1aa9e",
   "metadata": {},
   "outputs": [],
   "source": [
    "df1.Installs = df1.Installs.apply(np.log1p)"
   ]
  },
  {
   "cell_type": "code",
   "execution_count": 51,
   "id": "8f2ac4c8",
   "metadata": {},
   "outputs": [],
   "source": [
    "df1.Reviews = df1.Reviews.apply(np.log1p)"
   ]
  },
  {
   "cell_type": "code",
   "execution_count": 52,
   "id": "bf6d6f73",
   "metadata": {},
   "outputs": [
    {
     "data": {
      "text/plain": [
       "count    8879.000000\n",
       "mean       11.981171\n",
       "std         3.617244\n",
       "min         1.791759\n",
       "25%         9.210440\n",
       "50%        13.122365\n",
       "75%        15.424949\n",
       "max        20.030119\n",
       "Name: Installs, dtype: float64"
      ]
     },
     "execution_count": 52,
     "metadata": {},
     "output_type": "execute_result"
    }
   ],
   "source": [
    "df1.Installs.describe()"
   ]
  },
  {
   "cell_type": "code",
   "execution_count": 53,
   "id": "a23bd392",
   "metadata": {},
   "outputs": [
    {
     "data": {
      "text/plain": [
       "count    8879.000000\n",
       "mean        8.021438\n",
       "std         3.568712\n",
       "min         0.693147\n",
       "25%         5.075174\n",
       "50%         8.362175\n",
       "75%        10.943675\n",
       "max        14.501668\n",
       "Name: Reviews, dtype: float64"
      ]
     },
     "execution_count": 53,
     "metadata": {},
     "output_type": "execute_result"
    }
   ],
   "source": [
    "df1.Reviews.describe()"
   ]
  },
  {
   "cell_type": "markdown",
   "id": "c1bd1a90",
   "metadata": {},
   "source": [
    "##### **3. Drop columns App, Last Updated, Current Ver, and Android Ver**\n",
    "\n",
    " These variables are not useful for our task."
   ]
  },
  {
   "cell_type": "code",
   "execution_count": 54,
   "id": "67483c30",
   "metadata": {},
   "outputs": [
    {
     "data": {
      "text/plain": [
       "App                object\n",
       "Category           object\n",
       "Rating            float64\n",
       "Reviews           float64\n",
       "Size              float64\n",
       "Installs          float64\n",
       "Type               object\n",
       "Price             float64\n",
       "Content Rating     object\n",
       "Genres             object\n",
       "Last Updated       object\n",
       "Current Ver        object\n",
       "Android Ver        object\n",
       "dtype: object"
      ]
     },
     "execution_count": 54,
     "metadata": {},
     "output_type": "execute_result"
    }
   ],
   "source": [
    "df1.dtypes"
   ]
  },
  {
   "cell_type": "code",
   "execution_count": 55,
   "id": "f5de55f9",
   "metadata": {},
   "outputs": [
    {
     "data": {
      "text/plain": [
       "(8879, 9)"
      ]
     },
     "execution_count": 55,
     "metadata": {},
     "output_type": "execute_result"
    }
   ],
   "source": [
    "#Dropping the variables that are not useful for our task\n",
    "df1.drop([\"App\", \"Last Updated\", \"Current Ver\", \"Android Ver\"], axis=1, inplace=True)\n",
    "df1.shape"
   ]
  },
  {
   "cell_type": "markdown",
   "id": "1b204914",
   "metadata": {},
   "source": [
    "##### **4. Dummy Columns:**\n",
    "\n",
    "\n",
    "Get dummy columns for Category, Genres, and Content Rating. This needs to be done as the models do not understand categorical data, and all data should be numeric. Dummy encoding is one way to convert character fields to numeric fields. Name of the dataframe should be **df2**."
   ]
  },
  {
   "cell_type": "code",
   "execution_count": 56,
   "id": "031b2580",
   "metadata": {},
   "outputs": [],
   "source": [
    "df2 = pd.get_dummies(df1, drop_first=True)"
   ]
  },
  {
   "cell_type": "code",
   "execution_count": 57,
   "id": "a325efe6",
   "metadata": {},
   "outputs": [
    {
     "data": {
      "text/plain": [
       "Index(['Rating', 'Reviews', 'Size', 'Installs', 'Price',\n",
       "       'Category_AUTO_AND_VEHICLES', 'Category_BEAUTY',\n",
       "       'Category_BOOKS_AND_REFERENCE', 'Category_BUSINESS', 'Category_COMICS',\n",
       "       ...\n",
       "       'Genres_Tools', 'Genres_Tools;Education', 'Genres_Travel & Local',\n",
       "       'Genres_Travel & Local;Action & Adventure', 'Genres_Trivia',\n",
       "       'Genres_Video Players & Editors',\n",
       "       'Genres_Video Players & Editors;Creativity',\n",
       "       'Genres_Video Players & Editors;Music & Video', 'Genres_Weather',\n",
       "       'Genres_Word'],\n",
       "      dtype='object', length=157)"
      ]
     },
     "execution_count": 57,
     "metadata": {},
     "output_type": "execute_result"
    }
   ],
   "source": [
    "df2.columns"
   ]
  },
  {
   "cell_type": "code",
   "execution_count": 58,
   "id": "fe6bfe77",
   "metadata": {},
   "outputs": [
    {
     "data": {
      "text/plain": [
       "(8879, 157)"
      ]
     },
     "execution_count": 58,
     "metadata": {},
     "output_type": "execute_result"
    }
   ],
   "source": [
    "df2.shape"
   ]
  },
  {
   "cell_type": "markdown",
   "id": "96724ba3",
   "metadata": {},
   "source": [
    "#### **Train-test split**"
   ]
  },
  {
   "cell_type": "markdown",
   "id": "d38d2493",
   "metadata": {},
   "source": [
    "Let us distribute the data into **training** and **test** datasets using the **train_test_split()** function."
   ]
  },
  {
   "cell_type": "code",
   "execution_count": 59,
   "id": "a25e49d5",
   "metadata": {},
   "outputs": [],
   "source": [
    "from sklearn.model_selection import train_test_split"
   ]
  },
  {
   "cell_type": "code",
   "execution_count": 60,
   "id": "765f56fa",
   "metadata": {},
   "outputs": [],
   "source": [
    "df_train, df_test = train_test_split(df2, train_size = 0.7, random_state = 100)"
   ]
  },
  {
   "cell_type": "code",
   "execution_count": 61,
   "id": "96ca922b",
   "metadata": {},
   "outputs": [
    {
     "data": {
      "text/plain": [
       "((6215, 157), (2664, 157))"
      ]
     },
     "execution_count": 61,
     "metadata": {},
     "output_type": "execute_result"
    }
   ],
   "source": [
    "df_train.shape, df_test.shape"
   ]
  },
  {
   "cell_type": "markdown",
   "id": "b4083d3d",
   "metadata": {},
   "source": [
    "Let us separate the dataframes into **X_train, y_train, X_test, y_test.**"
   ]
  },
  {
   "cell_type": "code",
   "execution_count": 62,
   "id": "62da62fb",
   "metadata": {},
   "outputs": [],
   "source": [
    "y_train = df_train.pop(\"Rating\")\n",
    "X_train = df_train"
   ]
  },
  {
   "cell_type": "code",
   "execution_count": 63,
   "id": "ee7a2a41",
   "metadata": {},
   "outputs": [
    {
     "data": {
      "text/html": [
       "<div>\n",
       "<style scoped>\n",
       "    .dataframe tbody tr th:only-of-type {\n",
       "        vertical-align: middle;\n",
       "    }\n",
       "\n",
       "    .dataframe tbody tr th {\n",
       "        vertical-align: top;\n",
       "    }\n",
       "\n",
       "    .dataframe thead th {\n",
       "        text-align: right;\n",
       "    }\n",
       "</style>\n",
       "<table border=\"1\" class=\"dataframe\">\n",
       "  <thead>\n",
       "    <tr style=\"text-align: right;\">\n",
       "      <th></th>\n",
       "      <th>Reviews</th>\n",
       "      <th>Size</th>\n",
       "      <th>Installs</th>\n",
       "      <th>Price</th>\n",
       "      <th>Category_AUTO_AND_VEHICLES</th>\n",
       "      <th>Category_BEAUTY</th>\n",
       "      <th>Category_BOOKS_AND_REFERENCE</th>\n",
       "      <th>Category_BUSINESS</th>\n",
       "      <th>Category_COMICS</th>\n",
       "      <th>Category_COMMUNICATION</th>\n",
       "      <th>...</th>\n",
       "      <th>Genres_Tools</th>\n",
       "      <th>Genres_Tools;Education</th>\n",
       "      <th>Genres_Travel &amp; Local</th>\n",
       "      <th>Genres_Travel &amp; Local;Action &amp; Adventure</th>\n",
       "      <th>Genres_Trivia</th>\n",
       "      <th>Genres_Video Players &amp; Editors</th>\n",
       "      <th>Genres_Video Players &amp; Editors;Creativity</th>\n",
       "      <th>Genres_Video Players &amp; Editors;Music &amp; Video</th>\n",
       "      <th>Genres_Weather</th>\n",
       "      <th>Genres_Word</th>\n",
       "    </tr>\n",
       "  </thead>\n",
       "  <tbody>\n",
       "    <tr>\n",
       "      <th>1279</th>\n",
       "      <td>7.63627</td>\n",
       "      <td>6900.0</td>\n",
       "      <td>11.512935</td>\n",
       "      <td>0.0</td>\n",
       "      <td>0</td>\n",
       "      <td>0</td>\n",
       "      <td>0</td>\n",
       "      <td>0</td>\n",
       "      <td>0</td>\n",
       "      <td>0</td>\n",
       "      <td>...</td>\n",
       "      <td>0</td>\n",
       "      <td>0</td>\n",
       "      <td>0</td>\n",
       "      <td>0</td>\n",
       "      <td>0</td>\n",
       "      <td>0</td>\n",
       "      <td>0</td>\n",
       "      <td>0</td>\n",
       "      <td>0</td>\n",
       "      <td>0</td>\n",
       "    </tr>\n",
       "  </tbody>\n",
       "</table>\n",
       "<p>1 rows × 156 columns</p>\n",
       "</div>"
      ],
      "text/plain": [
       "      Reviews    Size   Installs  Price  Category_AUTO_AND_VEHICLES  \\\n",
       "1279  7.63627  6900.0  11.512935    0.0                           0   \n",
       "\n",
       "      Category_BEAUTY  Category_BOOKS_AND_REFERENCE  Category_BUSINESS  \\\n",
       "1279                0                             0                  0   \n",
       "\n",
       "      Category_COMICS  Category_COMMUNICATION  ...  Genres_Tools  \\\n",
       "1279                0                       0  ...             0   \n",
       "\n",
       "      Genres_Tools;Education  Genres_Travel & Local  \\\n",
       "1279                       0                      0   \n",
       "\n",
       "      Genres_Travel & Local;Action & Adventure  Genres_Trivia  \\\n",
       "1279                                         0              0   \n",
       "\n",
       "      Genres_Video Players & Editors  \\\n",
       "1279                               0   \n",
       "\n",
       "      Genres_Video Players & Editors;Creativity  \\\n",
       "1279                                          0   \n",
       "\n",
       "      Genres_Video Players & Editors;Music & Video  Genres_Weather  \\\n",
       "1279                                             0               0   \n",
       "\n",
       "      Genres_Word  \n",
       "1279            0  \n",
       "\n",
       "[1 rows x 156 columns]"
      ]
     },
     "execution_count": 63,
     "metadata": {},
     "output_type": "execute_result"
    }
   ],
   "source": [
    "X_train.head(1)"
   ]
  },
  {
   "cell_type": "code",
   "execution_count": 64,
   "id": "e0e5873c",
   "metadata": {},
   "outputs": [],
   "source": [
    "y_test = df_test.pop(\"Rating\")\n",
    "X_test = df_test"
   ]
  },
  {
   "cell_type": "code",
   "execution_count": 65,
   "id": "35251745",
   "metadata": {},
   "outputs": [
    {
     "data": {
      "text/html": [
       "<div>\n",
       "<style scoped>\n",
       "    .dataframe tbody tr th:only-of-type {\n",
       "        vertical-align: middle;\n",
       "    }\n",
       "\n",
       "    .dataframe tbody tr th {\n",
       "        vertical-align: top;\n",
       "    }\n",
       "\n",
       "    .dataframe thead th {\n",
       "        text-align: right;\n",
       "    }\n",
       "</style>\n",
       "<table border=\"1\" class=\"dataframe\">\n",
       "  <thead>\n",
       "    <tr style=\"text-align: right;\">\n",
       "      <th></th>\n",
       "      <th>Reviews</th>\n",
       "      <th>Size</th>\n",
       "      <th>Installs</th>\n",
       "      <th>Price</th>\n",
       "      <th>Category_AUTO_AND_VEHICLES</th>\n",
       "      <th>Category_BEAUTY</th>\n",
       "      <th>Category_BOOKS_AND_REFERENCE</th>\n",
       "      <th>Category_BUSINESS</th>\n",
       "      <th>Category_COMICS</th>\n",
       "      <th>Category_COMMUNICATION</th>\n",
       "      <th>...</th>\n",
       "      <th>Genres_Tools</th>\n",
       "      <th>Genres_Tools;Education</th>\n",
       "      <th>Genres_Travel &amp; Local</th>\n",
       "      <th>Genres_Travel &amp; Local;Action &amp; Adventure</th>\n",
       "      <th>Genres_Trivia</th>\n",
       "      <th>Genres_Video Players &amp; Editors</th>\n",
       "      <th>Genres_Video Players &amp; Editors;Creativity</th>\n",
       "      <th>Genres_Video Players &amp; Editors;Music &amp; Video</th>\n",
       "      <th>Genres_Weather</th>\n",
       "      <th>Genres_Word</th>\n",
       "    </tr>\n",
       "  </thead>\n",
       "  <tbody>\n",
       "    <tr>\n",
       "      <th>1161</th>\n",
       "      <td>9.329456</td>\n",
       "      <td>24000.0</td>\n",
       "      <td>13.815512</td>\n",
       "      <td>0.0</td>\n",
       "      <td>0</td>\n",
       "      <td>0</td>\n",
       "      <td>0</td>\n",
       "      <td>0</td>\n",
       "      <td>0</td>\n",
       "      <td>0</td>\n",
       "      <td>...</td>\n",
       "      <td>0</td>\n",
       "      <td>0</td>\n",
       "      <td>0</td>\n",
       "      <td>0</td>\n",
       "      <td>0</td>\n",
       "      <td>0</td>\n",
       "      <td>0</td>\n",
       "      <td>0</td>\n",
       "      <td>0</td>\n",
       "      <td>0</td>\n",
       "    </tr>\n",
       "  </tbody>\n",
       "</table>\n",
       "<p>1 rows × 156 columns</p>\n",
       "</div>"
      ],
      "text/plain": [
       "       Reviews     Size   Installs  Price  Category_AUTO_AND_VEHICLES  \\\n",
       "1161  9.329456  24000.0  13.815512    0.0                           0   \n",
       "\n",
       "      Category_BEAUTY  Category_BOOKS_AND_REFERENCE  Category_BUSINESS  \\\n",
       "1161                0                             0                  0   \n",
       "\n",
       "      Category_COMICS  Category_COMMUNICATION  ...  Genres_Tools  \\\n",
       "1161                0                       0  ...             0   \n",
       "\n",
       "      Genres_Tools;Education  Genres_Travel & Local  \\\n",
       "1161                       0                      0   \n",
       "\n",
       "      Genres_Travel & Local;Action & Adventure  Genres_Trivia  \\\n",
       "1161                                         0              0   \n",
       "\n",
       "      Genres_Video Players & Editors  \\\n",
       "1161                               0   \n",
       "\n",
       "      Genres_Video Players & Editors;Creativity  \\\n",
       "1161                                          0   \n",
       "\n",
       "      Genres_Video Players & Editors;Music & Video  Genres_Weather  \\\n",
       "1161                                             0               0   \n",
       "\n",
       "      Genres_Word  \n",
       "1161            0  \n",
       "\n",
       "[1 rows x 156 columns]"
      ]
     },
     "execution_count": 65,
     "metadata": {},
     "output_type": "execute_result"
    }
   ],
   "source": [
    "X_test.head(1)"
   ]
  },
  {
   "cell_type": "markdown",
   "id": "782269fe",
   "metadata": {},
   "source": [
    "## <b> **Regression Algorithms:**</b>"
   ]
  },
  {
   "cell_type": "markdown",
   "id": "b4d0dc0a",
   "metadata": {},
   "source": [
    "#### <b>Types of Regression Algorithms:</b>"
   ]
  },
  {
   "cell_type": "markdown",
   "id": "32351ec6",
   "metadata": {},
   "source": [
    "* Linear regression\n",
    "* Multiple linear regression\n",
    "* Polynomial regression\n",
    "* Ridge regression\n",
    "* Lasso regression\n",
    "* ElasticNet regression"
   ]
  },
  {
   "cell_type": "markdown",
   "id": "29826a76",
   "metadata": {},
   "source": [
    "#### **When to use regression?**"
   ]
  },
  {
   "cell_type": "markdown",
   "id": "2738a63a",
   "metadata": {},
   "source": [
    "If target variable is a continuous numeric variable (100–2000), then use a regression algorithm."
   ]
  },
  {
   "cell_type": "markdown",
   "id": "80b8b8c2",
   "metadata": {},
   "source": [
    "#### **Import *statsmodels* Library for Linear Regression**"
   ]
  },
  {
   "cell_type": "code",
   "execution_count": 66,
   "id": "3286a6a9",
   "metadata": {},
   "outputs": [],
   "source": [
    "#Importing the statsmodel library\n",
    "import statsmodels.api as sm"
   ]
  },
  {
   "cell_type": "code",
   "execution_count": 67,
   "id": "45f6cde5",
   "metadata": {},
   "outputs": [],
   "source": [
    "#Applying linear regression\n",
    "model1 = sm.OLS(y_train, X_train)"
   ]
  },
  {
   "cell_type": "code",
   "execution_count": 68,
   "id": "dc866871",
   "metadata": {},
   "outputs": [],
   "source": [
    "model1 = model1.fit()"
   ]
  },
  {
   "cell_type": "code",
   "execution_count": 69,
   "id": "ca1d2375",
   "metadata": {
    "scrolled": true
   },
   "outputs": [
    {
     "data": {
      "text/html": [
       "<table class=\"simpletable\">\n",
       "<caption>OLS Regression Results</caption>\n",
       "<tr>\n",
       "  <th>Dep. Variable:</th>         <td>Rating</td>      <th>  R-squared (uncentered):</th>      <td>   0.987</td>\n",
       "</tr>\n",
       "<tr>\n",
       "  <th>Model:</th>                   <td>OLS</td>       <th>  Adj. R-squared (uncentered):</th> <td>   0.987</td>\n",
       "</tr>\n",
       "<tr>\n",
       "  <th>Method:</th>             <td>Least Squares</td>  <th>  F-statistic:       </th>          <td>   3717.</td>\n",
       "</tr>\n",
       "<tr>\n",
       "  <th>Date:</th>             <td>Thu, 04 May 2023</td> <th>  Prob (F-statistic):</th>           <td>  0.00</td> \n",
       "</tr>\n",
       "<tr>\n",
       "  <th>Time:</th>                 <td>15:41:20</td>     <th>  Log-Likelihood:    </th>          <td> -4281.7</td>\n",
       "</tr>\n",
       "<tr>\n",
       "  <th>No. Observations:</th>      <td>  6215</td>      <th>  AIC:               </th>          <td>   8811.</td>\n",
       "</tr>\n",
       "<tr>\n",
       "  <th>Df Residuals:</th>          <td>  6091</td>      <th>  BIC:               </th>          <td>   9646.</td>\n",
       "</tr>\n",
       "<tr>\n",
       "  <th>Df Model:</th>              <td>   124</td>      <th>                     </th>              <td> </td>   \n",
       "</tr>\n",
       "<tr>\n",
       "  <th>Covariance Type:</th>      <td>nonrobust</td>    <th>                     </th>              <td> </td>   \n",
       "</tr>\n",
       "</table>\n",
       "<table class=\"simpletable\">\n",
       "<tr>\n",
       "                        <td></td>                          <th>coef</th>     <th>std err</th>      <th>t</th>      <th>P>|t|</th>  <th>[0.025</th>    <th>0.975]</th>  \n",
       "</tr>\n",
       "<tr>\n",
       "  <th>Reviews</th>                                      <td>    0.1752</td> <td>    0.006</td> <td>   28.037</td> <td> 0.000</td> <td>    0.163</td> <td>    0.187</td>\n",
       "</tr>\n",
       "<tr>\n",
       "  <th>Size</th>                                         <td>-2.896e-07</td> <td> 3.37e-07</td> <td>   -0.859</td> <td> 0.391</td> <td>-9.51e-07</td> <td> 3.72e-07</td>\n",
       "</tr>\n",
       "<tr>\n",
       "  <th>Installs</th>                                     <td>   -0.1499</td> <td>    0.006</td> <td>  -24.184</td> <td> 0.000</td> <td>   -0.162</td> <td>   -0.138</td>\n",
       "</tr>\n",
       "<tr>\n",
       "  <th>Price</th>                                        <td>    0.0006</td> <td>    0.003</td> <td>    0.177</td> <td> 0.860</td> <td>   -0.006</td> <td>    0.007</td>\n",
       "</tr>\n",
       "<tr>\n",
       "  <th>Category_AUTO_AND_VEHICLES</th>                   <td>    1.6381</td> <td>    0.125</td> <td>   13.136</td> <td> 0.000</td> <td>    1.394</td> <td>    1.883</td>\n",
       "</tr>\n",
       "<tr>\n",
       "  <th>Category_BEAUTY</th>                              <td>    1.7213</td> <td>    0.128</td> <td>   13.462</td> <td> 0.000</td> <td>    1.471</td> <td>    1.972</td>\n",
       "</tr>\n",
       "<tr>\n",
       "  <th>Category_BOOKS_AND_REFERENCE</th>                 <td>    1.6843</td> <td>    0.122</td> <td>   13.826</td> <td> 0.000</td> <td>    1.445</td> <td>    1.923</td>\n",
       "</tr>\n",
       "<tr>\n",
       "  <th>Category_BUSINESS</th>                            <td>    1.6046</td> <td>    0.121</td> <td>   13.272</td> <td> 0.000</td> <td>    1.368</td> <td>    1.842</td>\n",
       "</tr>\n",
       "<tr>\n",
       "  <th>Category_COMICS</th>                              <td>    2.3786</td> <td>    0.226</td> <td>   10.517</td> <td> 0.000</td> <td>    1.935</td> <td>    2.822</td>\n",
       "</tr>\n",
       "<tr>\n",
       "  <th>Category_COMMUNICATION</th>                       <td>    1.5478</td> <td>    0.121</td> <td>   12.765</td> <td> 0.000</td> <td>    1.310</td> <td>    1.786</td>\n",
       "</tr>\n",
       "<tr>\n",
       "  <th>Category_DATING</th>                              <td>    1.5013</td> <td>    0.122</td> <td>   12.262</td> <td> 0.000</td> <td>    1.261</td> <td>    1.741</td>\n",
       "</tr>\n",
       "<tr>\n",
       "  <th>Category_EDUCATION</th>                           <td>    2.8642</td> <td>    0.251</td> <td>   11.419</td> <td> 0.000</td> <td>    2.373</td> <td>    3.356</td>\n",
       "</tr>\n",
       "<tr>\n",
       "  <th>Category_ENTERTAINMENT</th>                       <td>    2.7757</td> <td>    0.251</td> <td>   11.065</td> <td> 0.000</td> <td>    2.284</td> <td>    3.267</td>\n",
       "</tr>\n",
       "<tr>\n",
       "  <th>Category_EVENTS</th>                              <td>    1.7447</td> <td>    0.126</td> <td>   13.792</td> <td> 0.000</td> <td>    1.497</td> <td>    1.993</td>\n",
       "</tr>\n",
       "<tr>\n",
       "  <th>Category_FAMILY</th>                              <td>    2.8988</td> <td>    0.243</td> <td>   11.920</td> <td> 0.000</td> <td>    2.422</td> <td>    3.376</td>\n",
       "</tr>\n",
       "<tr>\n",
       "  <th>Category_FINANCE</th>                             <td>    1.5685</td> <td>    0.121</td> <td>   12.976</td> <td> 0.000</td> <td>    1.332</td> <td>    1.806</td>\n",
       "</tr>\n",
       "<tr>\n",
       "  <th>Category_FOOD_AND_DRINK</th>                      <td>    1.5993</td> <td>    0.123</td> <td>   13.006</td> <td> 0.000</td> <td>    1.358</td> <td>    1.840</td>\n",
       "</tr>\n",
       "<tr>\n",
       "  <th>Category_GAME</th>                                <td>    3.1390</td> <td>    0.241</td> <td>   13.046</td> <td> 0.000</td> <td>    2.667</td> <td>    3.611</td>\n",
       "</tr>\n",
       "<tr>\n",
       "  <th>Category_HEALTH_AND_FITNESS</th>                  <td>    1.6296</td> <td>    0.121</td> <td>   13.464</td> <td> 0.000</td> <td>    1.392</td> <td>    1.867</td>\n",
       "</tr>\n",
       "<tr>\n",
       "  <th>Category_HOUSE_AND_HOME</th>                      <td>    1.6151</td> <td>    0.124</td> <td>   13.002</td> <td> 0.000</td> <td>    1.372</td> <td>    1.859</td>\n",
       "</tr>\n",
       "<tr>\n",
       "  <th>Category_LIBRARIES_AND_DEMO</th>                  <td>    1.6541</td> <td>    0.125</td> <td>   13.247</td> <td> 0.000</td> <td>    1.409</td> <td>    1.899</td>\n",
       "</tr>\n",
       "<tr>\n",
       "  <th>Category_LIFESTYLE</th>                           <td>    1.5913</td> <td>    0.121</td> <td>   13.156</td> <td> 0.000</td> <td>    1.354</td> <td>    1.828</td>\n",
       "</tr>\n",
       "<tr>\n",
       "  <th>Category_MAPS_AND_NAVIGATION</th>                 <td>    1.5212</td> <td>    0.123</td> <td>   12.399</td> <td> 0.000</td> <td>    1.281</td> <td>    1.762</td>\n",
       "</tr>\n",
       "<tr>\n",
       "  <th>Category_MEDICAL</th>                             <td>    1.6353</td> <td>    0.121</td> <td>   13.543</td> <td> 0.000</td> <td>    1.399</td> <td>    1.872</td>\n",
       "</tr>\n",
       "<tr>\n",
       "  <th>Category_NEWS_AND_MAGAZINES</th>                  <td>    1.5639</td> <td>    0.121</td> <td>   12.897</td> <td> 0.000</td> <td>    1.326</td> <td>    1.802</td>\n",
       "</tr>\n",
       "<tr>\n",
       "  <th>Category_PARENTING</th>                           <td>    2.5348</td> <td>    0.213</td> <td>   11.914</td> <td> 0.000</td> <td>    2.118</td> <td>    2.952</td>\n",
       "</tr>\n",
       "<tr>\n",
       "  <th>Category_PERSONALIZATION</th>                     <td>    1.6774</td> <td>    0.121</td> <td>   13.866</td> <td> 0.000</td> <td>    1.440</td> <td>    1.915</td>\n",
       "</tr>\n",
       "<tr>\n",
       "  <th>Category_PHOTOGRAPHY</th>                         <td>    1.5848</td> <td>    0.121</td> <td>   13.077</td> <td> 0.000</td> <td>    1.347</td> <td>    1.822</td>\n",
       "</tr>\n",
       "<tr>\n",
       "  <th>Category_PRODUCTIVITY</th>                        <td>    1.6213</td> <td>    0.121</td> <td>   13.399</td> <td> 0.000</td> <td>    1.384</td> <td>    1.859</td>\n",
       "</tr>\n",
       "<tr>\n",
       "  <th>Category_SHOPPING</th>                            <td>    1.6088</td> <td>    0.121</td> <td>   13.245</td> <td> 0.000</td> <td>    1.371</td> <td>    1.847</td>\n",
       "</tr>\n",
       "<tr>\n",
       "  <th>Category_SOCIAL</th>                              <td>    1.6116</td> <td>    0.121</td> <td>   13.299</td> <td> 0.000</td> <td>    1.374</td> <td>    1.849</td>\n",
       "</tr>\n",
       "<tr>\n",
       "  <th>Category_SPORTS</th>                              <td>    3.0934</td> <td>    0.421</td> <td>    7.352</td> <td> 0.000</td> <td>    2.269</td> <td>    3.918</td>\n",
       "</tr>\n",
       "<tr>\n",
       "  <th>Category_TOOLS</th>                               <td>    2.1455</td> <td>    0.228</td> <td>    9.412</td> <td> 0.000</td> <td>    1.699</td> <td>    2.592</td>\n",
       "</tr>\n",
       "<tr>\n",
       "  <th>Category_TRAVEL_AND_LOCAL</th>                    <td>    2.1361</td> <td>    0.228</td> <td>    9.359</td> <td> 0.000</td> <td>    1.689</td> <td>    2.583</td>\n",
       "</tr>\n",
       "<tr>\n",
       "  <th>Category_VIDEO_PLAYERS</th>                       <td>    2.8638</td> <td>    0.644</td> <td>    4.444</td> <td> 0.000</td> <td>    1.601</td> <td>    4.127</td>\n",
       "</tr>\n",
       "<tr>\n",
       "  <th>Category_WEATHER</th>                             <td>    1.6195</td> <td>    0.125</td> <td>   12.999</td> <td> 0.000</td> <td>    1.375</td> <td>    1.864</td>\n",
       "</tr>\n",
       "<tr>\n",
       "  <th>Type_Paid</th>                                    <td>   -0.0839</td> <td>    0.032</td> <td>   -2.641</td> <td> 0.008</td> <td>   -0.146</td> <td>   -0.022</td>\n",
       "</tr>\n",
       "<tr>\n",
       "  <th>Content Rating_Everyone</th>                      <td>    1.3855</td> <td>    0.239</td> <td>    5.807</td> <td> 0.000</td> <td>    0.918</td> <td>    1.853</td>\n",
       "</tr>\n",
       "<tr>\n",
       "  <th>Content Rating_Everyone 10+</th>                  <td>    1.3848</td> <td>    0.240</td> <td>    5.760</td> <td> 0.000</td> <td>    0.913</td> <td>    1.856</td>\n",
       "</tr>\n",
       "<tr>\n",
       "  <th>Content Rating_Mature 17+</th>                    <td>    1.3697</td> <td>    0.241</td> <td>    5.689</td> <td> 0.000</td> <td>    0.898</td> <td>    1.842</td>\n",
       "</tr>\n",
       "<tr>\n",
       "  <th>Content Rating_Teen</th>                          <td>    1.3954</td> <td>    0.239</td> <td>    5.843</td> <td> 0.000</td> <td>    0.927</td> <td>    1.864</td>\n",
       "</tr>\n",
       "<tr>\n",
       "  <th>Content Rating_Unrated</th>                       <td>    1.3438</td> <td>    0.543</td> <td>    2.477</td> <td> 0.013</td> <td>    0.280</td> <td>    2.407</td>\n",
       "</tr>\n",
       "<tr>\n",
       "  <th>Genres_Action;Action & Adventure</th>             <td>    0.2739</td> <td>    0.153</td> <td>    1.793</td> <td> 0.073</td> <td>   -0.026</td> <td>    0.573</td>\n",
       "</tr>\n",
       "<tr>\n",
       "  <th>Genres_Adventure</th>                             <td>   -0.0817</td> <td>    0.078</td> <td>   -1.053</td> <td> 0.292</td> <td>   -0.234</td> <td>    0.070</td>\n",
       "</tr>\n",
       "<tr>\n",
       "  <th>Genres_Adventure;Action & Adventure</th>          <td>    0.3259</td> <td>    0.352</td> <td>    0.925</td> <td> 0.355</td> <td>   -0.364</td> <td>    1.016</td>\n",
       "</tr>\n",
       "<tr>\n",
       "  <th>Genres_Adventure;Brain Games</th>                 <td>    0.5704</td> <td>    0.493</td> <td>    1.157</td> <td> 0.247</td> <td>   -0.396</td> <td>    1.537</td>\n",
       "</tr>\n",
       "<tr>\n",
       "  <th>Genres_Adventure;Education</th>                   <td>    0.0545</td> <td>    0.353</td> <td>    0.155</td> <td> 0.877</td> <td>   -0.637</td> <td>    0.746</td>\n",
       "</tr>\n",
       "<tr>\n",
       "  <th>Genres_Arcade</th>                                <td>    0.0809</td> <td>    0.055</td> <td>    1.466</td> <td> 0.143</td> <td>   -0.027</td> <td>    0.189</td>\n",
       "</tr>\n",
       "<tr>\n",
       "  <th>Genres_Arcade;Action & Adventure</th>             <td>    0.2865</td> <td>    0.164</td> <td>    1.746</td> <td> 0.081</td> <td>   -0.035</td> <td>    0.608</td>\n",
       "</tr>\n",
       "<tr>\n",
       "  <th>Genres_Arcade;Pretend Play</th>                   <td>    0.5474</td> <td>    0.493</td> <td>    1.111</td> <td> 0.267</td> <td>   -0.419</td> <td>    1.513</td>\n",
       "</tr>\n",
       "<tr>\n",
       "  <th>Genres_Art & Design</th>                          <td>    3.4662</td> <td>    0.253</td> <td>   13.711</td> <td> 0.000</td> <td>    2.971</td> <td>    3.962</td>\n",
       "</tr>\n",
       "<tr>\n",
       "  <th>Genres_Art & Design;Creativity</th>               <td>    2.5998</td> <td>    0.258</td> <td>   10.079</td> <td> 0.000</td> <td>    2.094</td> <td>    3.105</td>\n",
       "</tr>\n",
       "<tr>\n",
       "  <th>Genres_Art & Design;Pretend Play</th>             <td>    3.2802</td> <td>    0.543</td> <td>    6.039</td> <td> 0.000</td> <td>    2.215</td> <td>    4.345</td>\n",
       "</tr>\n",
       "<tr>\n",
       "  <th>Genres_Auto & Vehicles</th>                       <td>    1.6381</td> <td>    0.125</td> <td>   13.136</td> <td> 0.000</td> <td>    1.394</td> <td>    1.883</td>\n",
       "</tr>\n",
       "<tr>\n",
       "  <th>Genres_Beauty</th>                                <td>    1.7213</td> <td>    0.128</td> <td>   13.462</td> <td> 0.000</td> <td>    1.471</td> <td>    1.972</td>\n",
       "</tr>\n",
       "<tr>\n",
       "  <th>Genres_Board</th>                                 <td>    0.0196</td> <td>    0.093</td> <td>    0.210</td> <td> 0.834</td> <td>   -0.163</td> <td>    0.202</td>\n",
       "</tr>\n",
       "<tr>\n",
       "  <th>Genres_Board;Action & Adventure</th>              <td>    0.0976</td> <td>    0.493</td> <td>    0.198</td> <td> 0.843</td> <td>   -0.868</td> <td>    1.063</td>\n",
       "</tr>\n",
       "<tr>\n",
       "  <th>Genres_Board;Brain Games</th>                     <td>    0.4762</td> <td>    0.171</td> <td>    2.782</td> <td> 0.005</td> <td>    0.141</td> <td>    0.812</td>\n",
       "</tr>\n",
       "<tr>\n",
       "  <th>Genres_Board;Pretend Play</th>                    <td> 2.081e-11</td> <td> 4.49e-11</td> <td>    0.463</td> <td> 0.643</td> <td>-6.73e-11</td> <td> 1.09e-10</td>\n",
       "</tr>\n",
       "<tr>\n",
       "  <th>Genres_Books & Reference</th>                     <td>    1.6843</td> <td>    0.122</td> <td>   13.826</td> <td> 0.000</td> <td>    1.445</td> <td>    1.923</td>\n",
       "</tr>\n",
       "<tr>\n",
       "  <th>Genres_Books & Reference;Education</th>           <td>    0.3094</td> <td>    0.352</td> <td>    0.879</td> <td> 0.380</td> <td>   -0.381</td> <td>    1.000</td>\n",
       "</tr>\n",
       "<tr>\n",
       "  <th>Genres_Business</th>                              <td>    1.6046</td> <td>    0.121</td> <td>   13.272</td> <td> 0.000</td> <td>    1.368</td> <td>    1.842</td>\n",
       "</tr>\n",
       "<tr>\n",
       "  <th>Genres_Card</th>                                  <td>   -0.1032</td> <td>    0.088</td> <td>   -1.175</td> <td> 0.240</td> <td>   -0.275</td> <td>    0.069</td>\n",
       "</tr>\n",
       "<tr>\n",
       "  <th>Genres_Card;Action & Adventure</th>               <td>    0.0730</td> <td>    0.353</td> <td>    0.207</td> <td> 0.836</td> <td>   -0.619</td> <td>    0.765</td>\n",
       "</tr>\n",
       "<tr>\n",
       "  <th>Genres_Card;Brain Games</th>                      <td>    0.7041</td> <td>    0.492</td> <td>    1.430</td> <td> 0.153</td> <td>   -0.261</td> <td>    1.669</td>\n",
       "</tr>\n",
       "<tr>\n",
       "  <th>Genres_Casino</th>                                <td>    0.0818</td> <td>    0.097</td> <td>    0.845</td> <td> 0.398</td> <td>   -0.108</td> <td>    0.272</td>\n",
       "</tr>\n",
       "<tr>\n",
       "  <th>Genres_Casual</th>                                <td>    0.1815</td> <td>    0.082</td> <td>    2.226</td> <td> 0.026</td> <td>    0.022</td> <td>    0.341</td>\n",
       "</tr>\n",
       "<tr>\n",
       "  <th>Genres_Casual;Action & Adventure</th>             <td>    0.4097</td> <td>    0.159</td> <td>    2.577</td> <td> 0.010</td> <td>    0.098</td> <td>    0.721</td>\n",
       "</tr>\n",
       "<tr>\n",
       "  <th>Genres_Casual;Brain Games</th>                    <td>    0.6562</td> <td>    0.185</td> <td>    3.550</td> <td> 0.000</td> <td>    0.294</td> <td>    1.018</td>\n",
       "</tr>\n",
       "<tr>\n",
       "  <th>Genres_Casual;Creativity</th>                     <td>    0.3377</td> <td>    0.227</td> <td>    1.489</td> <td> 0.136</td> <td>   -0.107</td> <td>    0.782</td>\n",
       "</tr>\n",
       "<tr>\n",
       "  <th>Genres_Casual;Education</th>                      <td>    0.3845</td> <td>    0.352</td> <td>    1.092</td> <td> 0.275</td> <td>   -0.306</td> <td>    1.075</td>\n",
       "</tr>\n",
       "<tr>\n",
       "  <th>Genres_Casual;Music & Video</th>                  <td>    0.3886</td> <td>    0.493</td> <td>    0.789</td> <td> 0.430</td> <td>   -0.577</td> <td>    1.354</td>\n",
       "</tr>\n",
       "<tr>\n",
       "  <th>Genres_Casual;Pretend Play</th>                   <td>    0.2678</td> <td>    0.126</td> <td>    2.123</td> <td> 0.034</td> <td>    0.020</td> <td>    0.515</td>\n",
       "</tr>\n",
       "<tr>\n",
       "  <th>Genres_Comics</th>                                <td>    0.8128</td> <td>    0.185</td> <td>    4.385</td> <td> 0.000</td> <td>    0.449</td> <td>    1.176</td>\n",
       "</tr>\n",
       "<tr>\n",
       "  <th>Genres_Comics;Creativity</th>                     <td>    1.5659</td> <td>    0.337</td> <td>    4.653</td> <td> 0.000</td> <td>    0.906</td> <td>    2.226</td>\n",
       "</tr>\n",
       "<tr>\n",
       "  <th>Genres_Communication</th>                         <td>    1.5478</td> <td>    0.121</td> <td>   12.765</td> <td> 0.000</td> <td>    1.310</td> <td>    1.786</td>\n",
       "</tr>\n",
       "<tr>\n",
       "  <th>Genres_Communication;Creativity</th>              <td>    0.4552</td> <td>    0.493</td> <td>    0.924</td> <td> 0.355</td> <td>   -0.510</td> <td>    1.421</td>\n",
       "</tr>\n",
       "<tr>\n",
       "  <th>Genres_Dating</th>                                <td>    1.5013</td> <td>    0.122</td> <td>   12.262</td> <td> 0.000</td> <td>    1.261</td> <td>    1.741</td>\n",
       "</tr>\n",
       "<tr>\n",
       "  <th>Genres_Education</th>                             <td>    0.4813</td> <td>    0.080</td> <td>    5.998</td> <td> 0.000</td> <td>    0.324</td> <td>    0.639</td>\n",
       "</tr>\n",
       "<tr>\n",
       "  <th>Genres_Education;Action & Adventure</th>          <td>    0.8246</td> <td>    0.292</td> <td>    2.826</td> <td> 0.005</td> <td>    0.253</td> <td>    1.397</td>\n",
       "</tr>\n",
       "<tr>\n",
       "  <th>Genres_Education;Brain Games</th>                 <td>    0.3587</td> <td>    0.293</td> <td>    1.223</td> <td> 0.222</td> <td>   -0.216</td> <td>    0.934</td>\n",
       "</tr>\n",
       "<tr>\n",
       "  <th>Genres_Education;Creativity</th>                  <td>    0.7808</td> <td>    0.232</td> <td>    3.370</td> <td> 0.001</td> <td>    0.327</td> <td>    1.235</td>\n",
       "</tr>\n",
       "<tr>\n",
       "  <th>Genres_Education;Education</th>                   <td>    0.5631</td> <td>    0.115</td> <td>    4.894</td> <td> 0.000</td> <td>    0.338</td> <td>    0.789</td>\n",
       "</tr>\n",
       "<tr>\n",
       "  <th>Genres_Education;Music & Video</th>               <td>    0.3892</td> <td>    0.493</td> <td>    0.790</td> <td> 0.430</td> <td>   -0.577</td> <td>    1.355</td>\n",
       "</tr>\n",
       "<tr>\n",
       "  <th>Genres_Education;Pretend Play</th>                <td>    0.5627</td> <td>    0.133</td> <td>    4.236</td> <td> 0.000</td> <td>    0.302</td> <td>    0.823</td>\n",
       "</tr>\n",
       "<tr>\n",
       "  <th>Genres_Educational</th>                           <td>    0.0147</td> <td>    0.125</td> <td>    0.118</td> <td> 0.906</td> <td>   -0.230</td> <td>    0.260</td>\n",
       "</tr>\n",
       "<tr>\n",
       "  <th>Genres_Educational;Action & Adventure</th>        <td>    0.3506</td> <td>    0.255</td> <td>    1.377</td> <td> 0.169</td> <td>   -0.149</td> <td>    0.850</td>\n",
       "</tr>\n",
       "<tr>\n",
       "  <th>Genres_Educational;Brain Games</th>               <td>    0.4424</td> <td>    0.255</td> <td>    1.737</td> <td> 0.082</td> <td>   -0.057</td> <td>    0.942</td>\n",
       "</tr>\n",
       "<tr>\n",
       "  <th>Genres_Educational;Creativity</th>                <td>    0.2078</td> <td>    0.291</td> <td>    0.713</td> <td> 0.476</td> <td>   -0.364</td> <td>    0.779</td>\n",
       "</tr>\n",
       "<tr>\n",
       "  <th>Genres_Educational;Education</th>                 <td>    0.4526</td> <td>    0.118</td> <td>    3.822</td> <td> 0.000</td> <td>    0.221</td> <td>    0.685</td>\n",
       "</tr>\n",
       "<tr>\n",
       "  <th>Genres_Educational;Pretend Play</th>              <td>    0.3586</td> <td>    0.150</td> <td>    2.391</td> <td> 0.017</td> <td>    0.065</td> <td>    0.653</td>\n",
       "</tr>\n",
       "<tr>\n",
       "  <th>Genres_Entertainment</th>                         <td>    0.2606</td> <td>    0.079</td> <td>    3.294</td> <td> 0.001</td> <td>    0.106</td> <td>    0.416</td>\n",
       "</tr>\n",
       "<tr>\n",
       "  <th>Genres_Entertainment;Action & Adventure</th>      <td>    0.3654</td> <td>    0.291</td> <td>    1.256</td> <td> 0.209</td> <td>   -0.205</td> <td>    0.935</td>\n",
       "</tr>\n",
       "<tr>\n",
       "  <th>Genres_Entertainment;Brain Games</th>             <td>    0.4481</td> <td>    0.199</td> <td>    2.248</td> <td> 0.025</td> <td>    0.057</td> <td>    0.839</td>\n",
       "</tr>\n",
       "<tr>\n",
       "  <th>Genres_Entertainment;Creativity</th>              <td>    0.7096</td> <td>    0.354</td> <td>    2.007</td> <td> 0.045</td> <td>    0.017</td> <td>    1.403</td>\n",
       "</tr>\n",
       "<tr>\n",
       "  <th>Genres_Entertainment;Education</th>               <td>    0.6296</td> <td>    0.493</td> <td>    1.278</td> <td> 0.201</td> <td>   -0.336</td> <td>    1.595</td>\n",
       "</tr>\n",
       "<tr>\n",
       "  <th>Genres_Entertainment;Music & Video</th>           <td>    0.4017</td> <td>    0.155</td> <td>    2.598</td> <td> 0.009</td> <td>    0.099</td> <td>    0.705</td>\n",
       "</tr>\n",
       "<tr>\n",
       "  <th>Genres_Entertainment;Pretend Play</th>            <td>    0.0043</td> <td>    0.352</td> <td>    0.012</td> <td> 0.990</td> <td>   -0.686</td> <td>    0.695</td>\n",
       "</tr>\n",
       "<tr>\n",
       "  <th>Genres_Events</th>                                <td>    1.7447</td> <td>    0.126</td> <td>   13.792</td> <td> 0.000</td> <td>    1.497</td> <td>    1.993</td>\n",
       "</tr>\n",
       "<tr>\n",
       "  <th>Genres_Finance</th>                               <td>    1.5685</td> <td>    0.121</td> <td>   12.976</td> <td> 0.000</td> <td>    1.332</td> <td>    1.806</td>\n",
       "</tr>\n",
       "<tr>\n",
       "  <th>Genres_Food & Drink</th>                          <td>    1.5993</td> <td>    0.123</td> <td>   13.006</td> <td> 0.000</td> <td>    1.358</td> <td>    1.840</td>\n",
       "</tr>\n",
       "<tr>\n",
       "  <th>Genres_Health & Fitness</th>                      <td>    1.6296</td> <td>    0.121</td> <td>   13.464</td> <td> 0.000</td> <td>    1.392</td> <td>    1.867</td>\n",
       "</tr>\n",
       "<tr>\n",
       "  <th>Genres_Health & Fitness;Action & Adventure</th>   <td>   -0.1025</td> <td>    0.493</td> <td>   -0.208</td> <td> 0.835</td> <td>   -1.068</td> <td>    0.863</td>\n",
       "</tr>\n",
       "<tr>\n",
       "  <th>Genres_Health & Fitness;Education</th>            <td>    0.5455</td> <td>    0.492</td> <td>    1.108</td> <td> 0.268</td> <td>   -0.420</td> <td>    1.511</td>\n",
       "</tr>\n",
       "<tr>\n",
       "  <th>Genres_House & Home</th>                          <td>    1.6151</td> <td>    0.124</td> <td>   13.002</td> <td> 0.000</td> <td>    1.372</td> <td>    1.859</td>\n",
       "</tr>\n",
       "<tr>\n",
       "  <th>Genres_Libraries & Demo</th>                      <td>    1.6541</td> <td>    0.125</td> <td>   13.247</td> <td> 0.000</td> <td>    1.409</td> <td>    1.899</td>\n",
       "</tr>\n",
       "<tr>\n",
       "  <th>Genres_Lifestyle</th>                             <td>    1.5913</td> <td>    0.121</td> <td>   13.156</td> <td> 0.000</td> <td>    1.354</td> <td>    1.828</td>\n",
       "</tr>\n",
       "<tr>\n",
       "  <th>Genres_Lifestyle;Education</th>                   <td>-7.615e-13</td> <td> 3.03e-12</td> <td>   -0.252</td> <td> 0.801</td> <td>-6.69e-12</td> <td> 5.17e-12</td>\n",
       "</tr>\n",
       "<tr>\n",
       "  <th>Genres_Lifestyle;Pretend Play</th>                <td>-2.314e-12</td> <td> 4.21e-12</td> <td>   -0.549</td> <td> 0.583</td> <td>-1.06e-11</td> <td> 5.95e-12</td>\n",
       "</tr>\n",
       "<tr>\n",
       "  <th>Genres_Maps & Navigation</th>                     <td>    1.5212</td> <td>    0.123</td> <td>   12.399</td> <td> 0.000</td> <td>    1.281</td> <td>    1.762</td>\n",
       "</tr>\n",
       "<tr>\n",
       "  <th>Genres_Medical</th>                               <td>    1.6353</td> <td>    0.121</td> <td>   13.543</td> <td> 0.000</td> <td>    1.399</td> <td>    1.872</td>\n",
       "</tr>\n",
       "<tr>\n",
       "  <th>Genres_Music</th>                                 <td>   -0.0491</td> <td>    0.134</td> <td>   -0.365</td> <td> 0.715</td> <td>   -0.313</td> <td>    0.215</td>\n",
       "</tr>\n",
       "<tr>\n",
       "  <th>Genres_Music & Audio;Music & Video</th>           <td>    0.7194</td> <td>    0.493</td> <td>    1.460</td> <td> 0.144</td> <td>   -0.246</td> <td>    1.685</td>\n",
       "</tr>\n",
       "<tr>\n",
       "  <th>Genres_Music;Music & Video</th>                   <td>    0.7628</td> <td>    0.352</td> <td>    2.166</td> <td> 0.030</td> <td>    0.072</td> <td>    1.453</td>\n",
       "</tr>\n",
       "<tr>\n",
       "  <th>Genres_News & Magazines</th>                      <td>    1.5639</td> <td>    0.121</td> <td>   12.897</td> <td> 0.000</td> <td>    1.326</td> <td>    1.802</td>\n",
       "</tr>\n",
       "<tr>\n",
       "  <th>Genres_Parenting</th>                             <td>    0.8856</td> <td>    0.142</td> <td>    6.229</td> <td> 0.000</td> <td>    0.607</td> <td>    1.164</td>\n",
       "</tr>\n",
       "<tr>\n",
       "  <th>Genres_Parenting;Brain Games</th>                 <td>-3.042e-12</td> <td> 5.13e-12</td> <td>   -0.593</td> <td> 0.553</td> <td>-1.31e-11</td> <td> 7.02e-12</td>\n",
       "</tr>\n",
       "<tr>\n",
       "  <th>Genres_Parenting;Education</th>                   <td>    0.6841</td> <td>    0.275</td> <td>    2.485</td> <td> 0.013</td> <td>    0.144</td> <td>    1.224</td>\n",
       "</tr>\n",
       "<tr>\n",
       "  <th>Genres_Parenting;Music & Video</th>               <td>    0.9651</td> <td>    0.236</td> <td>    4.081</td> <td> 0.000</td> <td>    0.502</td> <td>    1.429</td>\n",
       "</tr>\n",
       "<tr>\n",
       "  <th>Genres_Personalization</th>                       <td>    1.6774</td> <td>    0.121</td> <td>   13.866</td> <td> 0.000</td> <td>    1.440</td> <td>    1.915</td>\n",
       "</tr>\n",
       "<tr>\n",
       "  <th>Genres_Photography</th>                           <td>    1.5848</td> <td>    0.121</td> <td>   13.077</td> <td> 0.000</td> <td>    1.347</td> <td>    1.822</td>\n",
       "</tr>\n",
       "<tr>\n",
       "  <th>Genres_Productivity</th>                          <td>    1.6213</td> <td>    0.121</td> <td>   13.399</td> <td> 0.000</td> <td>    1.384</td> <td>    1.859</td>\n",
       "</tr>\n",
       "<tr>\n",
       "  <th>Genres_Puzzle</th>                                <td>    0.3274</td> <td>    0.077</td> <td>    4.254</td> <td> 0.000</td> <td>    0.177</td> <td>    0.478</td>\n",
       "</tr>\n",
       "<tr>\n",
       "  <th>Genres_Puzzle;Action & Adventure</th>             <td>    0.3040</td> <td>    0.230</td> <td>    1.320</td> <td> 0.187</td> <td>   -0.147</td> <td>    0.755</td>\n",
       "</tr>\n",
       "<tr>\n",
       "  <th>Genres_Puzzle;Brain Games</th>                    <td>    0.4838</td> <td>    0.146</td> <td>    3.311</td> <td> 0.001</td> <td>    0.197</td> <td>    0.770</td>\n",
       "</tr>\n",
       "<tr>\n",
       "  <th>Genres_Puzzle;Creativity</th>                     <td>    0.5716</td> <td>    0.493</td> <td>    1.160</td> <td> 0.246</td> <td>   -0.394</td> <td>    1.537</td>\n",
       "</tr>\n",
       "<tr>\n",
       "  <th>Genres_Puzzle;Education</th>                      <td>    0.8685</td> <td>    0.492</td> <td>    1.764</td> <td> 0.078</td> <td>   -0.097</td> <td>    1.834</td>\n",
       "</tr>\n",
       "<tr>\n",
       "  <th>Genres_Racing</th>                                <td>   -0.0124</td> <td>    0.076</td> <td>   -0.162</td> <td> 0.871</td> <td>   -0.162</td> <td>    0.137</td>\n",
       "</tr>\n",
       "<tr>\n",
       "  <th>Genres_Racing;Action & Adventure</th>             <td>    0.4695</td> <td>    0.150</td> <td>    3.126</td> <td> 0.002</td> <td>    0.175</td> <td>    0.764</td>\n",
       "</tr>\n",
       "<tr>\n",
       "  <th>Genres_Racing;Pretend Play</th>                   <td>    0.9584</td> <td>    0.493</td> <td>    1.945</td> <td> 0.052</td> <td>   -0.008</td> <td>    1.925</td>\n",
       "</tr>\n",
       "<tr>\n",
       "  <th>Genres_Role Playing</th>                          <td>    0.1774</td> <td>    0.085</td> <td>    2.094</td> <td> 0.036</td> <td>    0.011</td> <td>    0.344</td>\n",
       "</tr>\n",
       "<tr>\n",
       "  <th>Genres_Role Playing;Action & Adventure</th>       <td>    0.3217</td> <td>    0.230</td> <td>    1.399</td> <td> 0.162</td> <td>   -0.129</td> <td>    0.772</td>\n",
       "</tr>\n",
       "<tr>\n",
       "  <th>Genres_Role Playing;Brain Games</th>              <td>         0</td> <td>        0</td> <td>      nan</td> <td>   nan</td> <td>        0</td> <td>        0</td>\n",
       "</tr>\n",
       "<tr>\n",
       "  <th>Genres_Role Playing;Pretend Play</th>             <td>    0.7804</td> <td>    0.493</td> <td>    1.584</td> <td> 0.113</td> <td>   -0.186</td> <td>    1.746</td>\n",
       "</tr>\n",
       "<tr>\n",
       "  <th>Genres_Shopping</th>                              <td>    1.6088</td> <td>    0.121</td> <td>   13.245</td> <td> 0.000</td> <td>    1.371</td> <td>    1.847</td>\n",
       "</tr>\n",
       "<tr>\n",
       "  <th>Genres_Simulation</th>                            <td>    0.2076</td> <td>    0.082</td> <td>    2.538</td> <td> 0.011</td> <td>    0.047</td> <td>    0.368</td>\n",
       "</tr>\n",
       "<tr>\n",
       "  <th>Genres_Simulation;Action & Adventure</th>         <td>    0.4333</td> <td>    0.176</td> <td>    2.460</td> <td> 0.014</td> <td>    0.088</td> <td>    0.779</td>\n",
       "</tr>\n",
       "<tr>\n",
       "  <th>Genres_Simulation;Education</th>                  <td>    0.2594</td> <td>    0.287</td> <td>    0.904</td> <td> 0.366</td> <td>   -0.303</td> <td>    0.822</td>\n",
       "</tr>\n",
       "<tr>\n",
       "  <th>Genres_Simulation;Pretend Play</th>               <td>    0.2141</td> <td>    0.291</td> <td>    0.737</td> <td> 0.461</td> <td>   -0.355</td> <td>    0.784</td>\n",
       "</tr>\n",
       "<tr>\n",
       "  <th>Genres_Social</th>                                <td>    1.6116</td> <td>    0.121</td> <td>   13.299</td> <td> 0.000</td> <td>    1.374</td> <td>    1.849</td>\n",
       "</tr>\n",
       "<tr>\n",
       "  <th>Genres_Sports</th>                                <td>    0.0669</td> <td>    0.346</td> <td>    0.193</td> <td> 0.847</td> <td>   -0.612</td> <td>    0.746</td>\n",
       "</tr>\n",
       "<tr>\n",
       "  <th>Genres_Sports;Action & Adventure</th>             <td>    0.2767</td> <td>    0.291</td> <td>    0.951</td> <td> 0.342</td> <td>   -0.294</td> <td>    0.847</td>\n",
       "</tr>\n",
       "<tr>\n",
       "  <th>Genres_Strategy</th>                              <td>    0.1675</td> <td>    0.095</td> <td>    1.768</td> <td> 0.077</td> <td>   -0.018</td> <td>    0.353</td>\n",
       "</tr>\n",
       "<tr>\n",
       "  <th>Genres_Strategy;Action & Adventure</th>           <td>    0.3910</td> <td>    0.493</td> <td>    0.793</td> <td> 0.428</td> <td>   -0.576</td> <td>    1.358</td>\n",
       "</tr>\n",
       "<tr>\n",
       "  <th>Genres_Strategy;Creativity</th>                   <td>         0</td> <td>        0</td> <td>      nan</td> <td>   nan</td> <td>        0</td> <td>        0</td>\n",
       "</tr>\n",
       "<tr>\n",
       "  <th>Genres_Strategy;Education</th>                    <td>    0.8569</td> <td>    0.493</td> <td>    1.740</td> <td> 0.082</td> <td>   -0.109</td> <td>    1.822</td>\n",
       "</tr>\n",
       "<tr>\n",
       "  <th>Genres_Tools</th>                                 <td>    0.9933</td> <td>    0.181</td> <td>    5.473</td> <td> 0.000</td> <td>    0.638</td> <td>    1.349</td>\n",
       "</tr>\n",
       "<tr>\n",
       "  <th>Genres_Tools;Education</th>                       <td>    1.1522</td> <td>    0.334</td> <td>    3.445</td> <td> 0.001</td> <td>    0.497</td> <td>    1.808</td>\n",
       "</tr>\n",
       "<tr>\n",
       "  <th>Genres_Travel & Local</th>                        <td>    1.0204</td> <td>    0.183</td> <td>    5.578</td> <td> 0.000</td> <td>    0.662</td> <td>    1.379</td>\n",
       "</tr>\n",
       "<tr>\n",
       "  <th>Genres_Travel & Local;Action & Adventure</th>     <td>    1.1156</td> <td>    0.335</td> <td>    3.335</td> <td> 0.001</td> <td>    0.460</td> <td>    1.771</td>\n",
       "</tr>\n",
       "<tr>\n",
       "  <th>Genres_Trivia</th>                                <td>   -0.1316</td> <td>    0.108</td> <td>   -1.221</td> <td> 0.222</td> <td>   -0.343</td> <td>    0.080</td>\n",
       "</tr>\n",
       "<tr>\n",
       "  <th>Genres_Video Players & Editors</th>               <td>    0.2532</td> <td>    0.603</td> <td>    0.420</td> <td> 0.675</td> <td>   -0.930</td> <td>    1.436</td>\n",
       "</tr>\n",
       "<tr>\n",
       "  <th>Genres_Video Players & Editors;Creativity</th>    <td>    0.0344</td> <td>    0.493</td> <td>    0.070</td> <td> 0.944</td> <td>   -0.931</td> <td>    1.000</td>\n",
       "</tr>\n",
       "<tr>\n",
       "  <th>Genres_Video Players & Editors;Music & Video</th> <td>    0.1329</td> <td>    0.352</td> <td>    0.377</td> <td> 0.706</td> <td>   -0.558</td> <td>    0.823</td>\n",
       "</tr>\n",
       "<tr>\n",
       "  <th>Genres_Weather</th>                               <td>    1.6195</td> <td>    0.125</td> <td>   12.999</td> <td> 0.000</td> <td>    1.375</td> <td>    1.864</td>\n",
       "</tr>\n",
       "<tr>\n",
       "  <th>Genres_Word</th>                                  <td>    0.1096</td> <td>    0.109</td> <td>    1.001</td> <td> 0.317</td> <td>   -0.105</td> <td>    0.324</td>\n",
       "</tr>\n",
       "</table>\n",
       "<table class=\"simpletable\">\n",
       "<tr>\n",
       "  <th>Omnibus:</th>       <td>2313.775</td> <th>  Durbin-Watson:     </th> <td>   2.022</td> \n",
       "</tr>\n",
       "<tr>\n",
       "  <th>Prob(Omnibus):</th>  <td> 0.000</td>  <th>  Jarque-Bera (JB):  </th> <td>13556.581</td>\n",
       "</tr>\n",
       "<tr>\n",
       "  <th>Skew:</th>           <td>-1.673</td>  <th>  Prob(JB):          </th> <td>    0.00</td> \n",
       "</tr>\n",
       "<tr>\n",
       "  <th>Kurtosis:</th>       <td> 9.416</td>  <th>  Cond. No.          </th> <td>5.96e+20</td> \n",
       "</tr>\n",
       "</table><br/><br/>Notes:<br/>[1] R² is computed without centering (uncentered) since the model does not contain a constant.<br/>[2] Standard Errors assume that the covariance matrix of the errors is correctly specified.<br/>[3] The smallest eigenvalue is 1.73e-29. This might indicate that there are<br/>strong multicollinearity problems or that the design matrix is singular."
      ],
      "text/plain": [
       "<class 'statsmodels.iolib.summary.Summary'>\n",
       "\"\"\"\n",
       "                                 OLS Regression Results                                \n",
       "=======================================================================================\n",
       "Dep. Variable:                 Rating   R-squared (uncentered):                   0.987\n",
       "Model:                            OLS   Adj. R-squared (uncentered):              0.987\n",
       "Method:                 Least Squares   F-statistic:                              3717.\n",
       "Date:                Thu, 04 May 2023   Prob (F-statistic):                        0.00\n",
       "Time:                        15:41:20   Log-Likelihood:                         -4281.7\n",
       "No. Observations:                6215   AIC:                                      8811.\n",
       "Df Residuals:                    6091   BIC:                                      9646.\n",
       "Df Model:                         124                                                  \n",
       "Covariance Type:            nonrobust                                                  \n",
       "================================================================================================================\n",
       "                                                   coef    std err          t      P>|t|      [0.025      0.975]\n",
       "----------------------------------------------------------------------------------------------------------------\n",
       "Reviews                                          0.1752      0.006     28.037      0.000       0.163       0.187\n",
       "Size                                         -2.896e-07   3.37e-07     -0.859      0.391   -9.51e-07    3.72e-07\n",
       "Installs                                        -0.1499      0.006    -24.184      0.000      -0.162      -0.138\n",
       "Price                                            0.0006      0.003      0.177      0.860      -0.006       0.007\n",
       "Category_AUTO_AND_VEHICLES                       1.6381      0.125     13.136      0.000       1.394       1.883\n",
       "Category_BEAUTY                                  1.7213      0.128     13.462      0.000       1.471       1.972\n",
       "Category_BOOKS_AND_REFERENCE                     1.6843      0.122     13.826      0.000       1.445       1.923\n",
       "Category_BUSINESS                                1.6046      0.121     13.272      0.000       1.368       1.842\n",
       "Category_COMICS                                  2.3786      0.226     10.517      0.000       1.935       2.822\n",
       "Category_COMMUNICATION                           1.5478      0.121     12.765      0.000       1.310       1.786\n",
       "Category_DATING                                  1.5013      0.122     12.262      0.000       1.261       1.741\n",
       "Category_EDUCATION                               2.8642      0.251     11.419      0.000       2.373       3.356\n",
       "Category_ENTERTAINMENT                           2.7757      0.251     11.065      0.000       2.284       3.267\n",
       "Category_EVENTS                                  1.7447      0.126     13.792      0.000       1.497       1.993\n",
       "Category_FAMILY                                  2.8988      0.243     11.920      0.000       2.422       3.376\n",
       "Category_FINANCE                                 1.5685      0.121     12.976      0.000       1.332       1.806\n",
       "Category_FOOD_AND_DRINK                          1.5993      0.123     13.006      0.000       1.358       1.840\n",
       "Category_GAME                                    3.1390      0.241     13.046      0.000       2.667       3.611\n",
       "Category_HEALTH_AND_FITNESS                      1.6296      0.121     13.464      0.000       1.392       1.867\n",
       "Category_HOUSE_AND_HOME                          1.6151      0.124     13.002      0.000       1.372       1.859\n",
       "Category_LIBRARIES_AND_DEMO                      1.6541      0.125     13.247      0.000       1.409       1.899\n",
       "Category_LIFESTYLE                               1.5913      0.121     13.156      0.000       1.354       1.828\n",
       "Category_MAPS_AND_NAVIGATION                     1.5212      0.123     12.399      0.000       1.281       1.762\n",
       "Category_MEDICAL                                 1.6353      0.121     13.543      0.000       1.399       1.872\n",
       "Category_NEWS_AND_MAGAZINES                      1.5639      0.121     12.897      0.000       1.326       1.802\n",
       "Category_PARENTING                               2.5348      0.213     11.914      0.000       2.118       2.952\n",
       "Category_PERSONALIZATION                         1.6774      0.121     13.866      0.000       1.440       1.915\n",
       "Category_PHOTOGRAPHY                             1.5848      0.121     13.077      0.000       1.347       1.822\n",
       "Category_PRODUCTIVITY                            1.6213      0.121     13.399      0.000       1.384       1.859\n",
       "Category_SHOPPING                                1.6088      0.121     13.245      0.000       1.371       1.847\n",
       "Category_SOCIAL                                  1.6116      0.121     13.299      0.000       1.374       1.849\n",
       "Category_SPORTS                                  3.0934      0.421      7.352      0.000       2.269       3.918\n",
       "Category_TOOLS                                   2.1455      0.228      9.412      0.000       1.699       2.592\n",
       "Category_TRAVEL_AND_LOCAL                        2.1361      0.228      9.359      0.000       1.689       2.583\n",
       "Category_VIDEO_PLAYERS                           2.8638      0.644      4.444      0.000       1.601       4.127\n",
       "Category_WEATHER                                 1.6195      0.125     12.999      0.000       1.375       1.864\n",
       "Type_Paid                                       -0.0839      0.032     -2.641      0.008      -0.146      -0.022\n",
       "Content Rating_Everyone                          1.3855      0.239      5.807      0.000       0.918       1.853\n",
       "Content Rating_Everyone 10+                      1.3848      0.240      5.760      0.000       0.913       1.856\n",
       "Content Rating_Mature 17+                        1.3697      0.241      5.689      0.000       0.898       1.842\n",
       "Content Rating_Teen                              1.3954      0.239      5.843      0.000       0.927       1.864\n",
       "Content Rating_Unrated                           1.3438      0.543      2.477      0.013       0.280       2.407\n",
       "Genres_Action;Action & Adventure                 0.2739      0.153      1.793      0.073      -0.026       0.573\n",
       "Genres_Adventure                                -0.0817      0.078     -1.053      0.292      -0.234       0.070\n",
       "Genres_Adventure;Action & Adventure              0.3259      0.352      0.925      0.355      -0.364       1.016\n",
       "Genres_Adventure;Brain Games                     0.5704      0.493      1.157      0.247      -0.396       1.537\n",
       "Genres_Adventure;Education                       0.0545      0.353      0.155      0.877      -0.637       0.746\n",
       "Genres_Arcade                                    0.0809      0.055      1.466      0.143      -0.027       0.189\n",
       "Genres_Arcade;Action & Adventure                 0.2865      0.164      1.746      0.081      -0.035       0.608\n",
       "Genres_Arcade;Pretend Play                       0.5474      0.493      1.111      0.267      -0.419       1.513\n",
       "Genres_Art & Design                              3.4662      0.253     13.711      0.000       2.971       3.962\n",
       "Genres_Art & Design;Creativity                   2.5998      0.258     10.079      0.000       2.094       3.105\n",
       "Genres_Art & Design;Pretend Play                 3.2802      0.543      6.039      0.000       2.215       4.345\n",
       "Genres_Auto & Vehicles                           1.6381      0.125     13.136      0.000       1.394       1.883\n",
       "Genres_Beauty                                    1.7213      0.128     13.462      0.000       1.471       1.972\n",
       "Genres_Board                                     0.0196      0.093      0.210      0.834      -0.163       0.202\n",
       "Genres_Board;Action & Adventure                  0.0976      0.493      0.198      0.843      -0.868       1.063\n",
       "Genres_Board;Brain Games                         0.4762      0.171      2.782      0.005       0.141       0.812\n",
       "Genres_Board;Pretend Play                     2.081e-11   4.49e-11      0.463      0.643   -6.73e-11    1.09e-10\n",
       "Genres_Books & Reference                         1.6843      0.122     13.826      0.000       1.445       1.923\n",
       "Genres_Books & Reference;Education               0.3094      0.352      0.879      0.380      -0.381       1.000\n",
       "Genres_Business                                  1.6046      0.121     13.272      0.000       1.368       1.842\n",
       "Genres_Card                                     -0.1032      0.088     -1.175      0.240      -0.275       0.069\n",
       "Genres_Card;Action & Adventure                   0.0730      0.353      0.207      0.836      -0.619       0.765\n",
       "Genres_Card;Brain Games                          0.7041      0.492      1.430      0.153      -0.261       1.669\n",
       "Genres_Casino                                    0.0818      0.097      0.845      0.398      -0.108       0.272\n",
       "Genres_Casual                                    0.1815      0.082      2.226      0.026       0.022       0.341\n",
       "Genres_Casual;Action & Adventure                 0.4097      0.159      2.577      0.010       0.098       0.721\n",
       "Genres_Casual;Brain Games                        0.6562      0.185      3.550      0.000       0.294       1.018\n",
       "Genres_Casual;Creativity                         0.3377      0.227      1.489      0.136      -0.107       0.782\n",
       "Genres_Casual;Education                          0.3845      0.352      1.092      0.275      -0.306       1.075\n",
       "Genres_Casual;Music & Video                      0.3886      0.493      0.789      0.430      -0.577       1.354\n",
       "Genres_Casual;Pretend Play                       0.2678      0.126      2.123      0.034       0.020       0.515\n",
       "Genres_Comics                                    0.8128      0.185      4.385      0.000       0.449       1.176\n",
       "Genres_Comics;Creativity                         1.5659      0.337      4.653      0.000       0.906       2.226\n",
       "Genres_Communication                             1.5478      0.121     12.765      0.000       1.310       1.786\n",
       "Genres_Communication;Creativity                  0.4552      0.493      0.924      0.355      -0.510       1.421\n",
       "Genres_Dating                                    1.5013      0.122     12.262      0.000       1.261       1.741\n",
       "Genres_Education                                 0.4813      0.080      5.998      0.000       0.324       0.639\n",
       "Genres_Education;Action & Adventure              0.8246      0.292      2.826      0.005       0.253       1.397\n",
       "Genres_Education;Brain Games                     0.3587      0.293      1.223      0.222      -0.216       0.934\n",
       "Genres_Education;Creativity                      0.7808      0.232      3.370      0.001       0.327       1.235\n",
       "Genres_Education;Education                       0.5631      0.115      4.894      0.000       0.338       0.789\n",
       "Genres_Education;Music & Video                   0.3892      0.493      0.790      0.430      -0.577       1.355\n",
       "Genres_Education;Pretend Play                    0.5627      0.133      4.236      0.000       0.302       0.823\n",
       "Genres_Educational                               0.0147      0.125      0.118      0.906      -0.230       0.260\n",
       "Genres_Educational;Action & Adventure            0.3506      0.255      1.377      0.169      -0.149       0.850\n",
       "Genres_Educational;Brain Games                   0.4424      0.255      1.737      0.082      -0.057       0.942\n",
       "Genres_Educational;Creativity                    0.2078      0.291      0.713      0.476      -0.364       0.779\n",
       "Genres_Educational;Education                     0.4526      0.118      3.822      0.000       0.221       0.685\n",
       "Genres_Educational;Pretend Play                  0.3586      0.150      2.391      0.017       0.065       0.653\n",
       "Genres_Entertainment                             0.2606      0.079      3.294      0.001       0.106       0.416\n",
       "Genres_Entertainment;Action & Adventure          0.3654      0.291      1.256      0.209      -0.205       0.935\n",
       "Genres_Entertainment;Brain Games                 0.4481      0.199      2.248      0.025       0.057       0.839\n",
       "Genres_Entertainment;Creativity                  0.7096      0.354      2.007      0.045       0.017       1.403\n",
       "Genres_Entertainment;Education                   0.6296      0.493      1.278      0.201      -0.336       1.595\n",
       "Genres_Entertainment;Music & Video               0.4017      0.155      2.598      0.009       0.099       0.705\n",
       "Genres_Entertainment;Pretend Play                0.0043      0.352      0.012      0.990      -0.686       0.695\n",
       "Genres_Events                                    1.7447      0.126     13.792      0.000       1.497       1.993\n",
       "Genres_Finance                                   1.5685      0.121     12.976      0.000       1.332       1.806\n",
       "Genres_Food & Drink                              1.5993      0.123     13.006      0.000       1.358       1.840\n",
       "Genres_Health & Fitness                          1.6296      0.121     13.464      0.000       1.392       1.867\n",
       "Genres_Health & Fitness;Action & Adventure      -0.1025      0.493     -0.208      0.835      -1.068       0.863\n",
       "Genres_Health & Fitness;Education                0.5455      0.492      1.108      0.268      -0.420       1.511\n",
       "Genres_House & Home                              1.6151      0.124     13.002      0.000       1.372       1.859\n",
       "Genres_Libraries & Demo                          1.6541      0.125     13.247      0.000       1.409       1.899\n",
       "Genres_Lifestyle                                 1.5913      0.121     13.156      0.000       1.354       1.828\n",
       "Genres_Lifestyle;Education                   -7.615e-13   3.03e-12     -0.252      0.801   -6.69e-12    5.17e-12\n",
       "Genres_Lifestyle;Pretend Play                -2.314e-12   4.21e-12     -0.549      0.583   -1.06e-11    5.95e-12\n",
       "Genres_Maps & Navigation                         1.5212      0.123     12.399      0.000       1.281       1.762\n",
       "Genres_Medical                                   1.6353      0.121     13.543      0.000       1.399       1.872\n",
       "Genres_Music                                    -0.0491      0.134     -0.365      0.715      -0.313       0.215\n",
       "Genres_Music & Audio;Music & Video               0.7194      0.493      1.460      0.144      -0.246       1.685\n",
       "Genres_Music;Music & Video                       0.7628      0.352      2.166      0.030       0.072       1.453\n",
       "Genres_News & Magazines                          1.5639      0.121     12.897      0.000       1.326       1.802\n",
       "Genres_Parenting                                 0.8856      0.142      6.229      0.000       0.607       1.164\n",
       "Genres_Parenting;Brain Games                 -3.042e-12   5.13e-12     -0.593      0.553   -1.31e-11    7.02e-12\n",
       "Genres_Parenting;Education                       0.6841      0.275      2.485      0.013       0.144       1.224\n",
       "Genres_Parenting;Music & Video                   0.9651      0.236      4.081      0.000       0.502       1.429\n",
       "Genres_Personalization                           1.6774      0.121     13.866      0.000       1.440       1.915\n",
       "Genres_Photography                               1.5848      0.121     13.077      0.000       1.347       1.822\n",
       "Genres_Productivity                              1.6213      0.121     13.399      0.000       1.384       1.859\n",
       "Genres_Puzzle                                    0.3274      0.077      4.254      0.000       0.177       0.478\n",
       "Genres_Puzzle;Action & Adventure                 0.3040      0.230      1.320      0.187      -0.147       0.755\n",
       "Genres_Puzzle;Brain Games                        0.4838      0.146      3.311      0.001       0.197       0.770\n",
       "Genres_Puzzle;Creativity                         0.5716      0.493      1.160      0.246      -0.394       1.537\n",
       "Genres_Puzzle;Education                          0.8685      0.492      1.764      0.078      -0.097       1.834\n",
       "Genres_Racing                                   -0.0124      0.076     -0.162      0.871      -0.162       0.137\n",
       "Genres_Racing;Action & Adventure                 0.4695      0.150      3.126      0.002       0.175       0.764\n",
       "Genres_Racing;Pretend Play                       0.9584      0.493      1.945      0.052      -0.008       1.925\n",
       "Genres_Role Playing                              0.1774      0.085      2.094      0.036       0.011       0.344\n",
       "Genres_Role Playing;Action & Adventure           0.3217      0.230      1.399      0.162      -0.129       0.772\n",
       "Genres_Role Playing;Brain Games                       0          0        nan        nan           0           0\n",
       "Genres_Role Playing;Pretend Play                 0.7804      0.493      1.584      0.113      -0.186       1.746\n",
       "Genres_Shopping                                  1.6088      0.121     13.245      0.000       1.371       1.847\n",
       "Genres_Simulation                                0.2076      0.082      2.538      0.011       0.047       0.368\n",
       "Genres_Simulation;Action & Adventure             0.4333      0.176      2.460      0.014       0.088       0.779\n",
       "Genres_Simulation;Education                      0.2594      0.287      0.904      0.366      -0.303       0.822\n",
       "Genres_Simulation;Pretend Play                   0.2141      0.291      0.737      0.461      -0.355       0.784\n",
       "Genres_Social                                    1.6116      0.121     13.299      0.000       1.374       1.849\n",
       "Genres_Sports                                    0.0669      0.346      0.193      0.847      -0.612       0.746\n",
       "Genres_Sports;Action & Adventure                 0.2767      0.291      0.951      0.342      -0.294       0.847\n",
       "Genres_Strategy                                  0.1675      0.095      1.768      0.077      -0.018       0.353\n",
       "Genres_Strategy;Action & Adventure               0.3910      0.493      0.793      0.428      -0.576       1.358\n",
       "Genres_Strategy;Creativity                            0          0        nan        nan           0           0\n",
       "Genres_Strategy;Education                        0.8569      0.493      1.740      0.082      -0.109       1.822\n",
       "Genres_Tools                                     0.9933      0.181      5.473      0.000       0.638       1.349\n",
       "Genres_Tools;Education                           1.1522      0.334      3.445      0.001       0.497       1.808\n",
       "Genres_Travel & Local                            1.0204      0.183      5.578      0.000       0.662       1.379\n",
       "Genres_Travel & Local;Action & Adventure         1.1156      0.335      3.335      0.001       0.460       1.771\n",
       "Genres_Trivia                                   -0.1316      0.108     -1.221      0.222      -0.343       0.080\n",
       "Genres_Video Players & Editors                   0.2532      0.603      0.420      0.675      -0.930       1.436\n",
       "Genres_Video Players & Editors;Creativity        0.0344      0.493      0.070      0.944      -0.931       1.000\n",
       "Genres_Video Players & Editors;Music & Video     0.1329      0.352      0.377      0.706      -0.558       0.823\n",
       "Genres_Weather                                   1.6195      0.125     12.999      0.000       1.375       1.864\n",
       "Genres_Word                                      0.1096      0.109      1.001      0.317      -0.105       0.324\n",
       "==============================================================================\n",
       "Omnibus:                     2313.775   Durbin-Watson:                   2.022\n",
       "Prob(Omnibus):                  0.000   Jarque-Bera (JB):            13556.581\n",
       "Skew:                          -1.673   Prob(JB):                         0.00\n",
       "Kurtosis:                       9.416   Cond. No.                     5.96e+20\n",
       "==============================================================================\n",
       "\n",
       "Notes:\n",
       "[1] R² is computed without centering (uncentered) since the model does not contain a constant.\n",
       "[2] Standard Errors assume that the covariance matrix of the errors is correctly specified.\n",
       "[3] The smallest eigenvalue is 1.73e-29. This might indicate that there are\n",
       "strong multicollinearity problems or that the design matrix is singular.\n",
       "\"\"\""
      ]
     },
     "execution_count": 69,
     "metadata": {},
     "output_type": "execute_result"
    }
   ],
   "source": [
    "#Finding the summary\n",
    "model1.summary()"
   ]
  },
  {
   "cell_type": "markdown",
   "id": "31802e12",
   "metadata": {},
   "source": [
    "#### **Prediction and evaluation using \"model1\"**"
   ]
  },
  {
   "cell_type": "code",
   "execution_count": 71,
   "id": "06478b84",
   "metadata": {},
   "outputs": [],
   "source": [
    "#Prediction and evaluation\n",
    "import sklearn.metrics as metrics\n",
    "y_test_pred= model1.predict(X_test)"
   ]
  },
  {
   "cell_type": "code",
   "execution_count": 72,
   "id": "8851196f",
   "metadata": {},
   "outputs": [
    {
     "name": "stdout",
     "output_type": "stream",
     "text": [
      "0.4920332628198254\n"
     ]
    }
   ],
   "source": [
    "#Assessing the model using RMSE\n",
    "print(np.sqrt(metrics.mean_squared_error(y_test, y_test_pred)))"
   ]
  },
  {
   "cell_type": "markdown",
   "id": "e9eac034",
   "metadata": {},
   "source": [
    "Lower values of RMSE indicate better fit."
   ]
  },
  {
   "cell_type": "code",
   "execution_count": 73,
   "id": "6970ce09",
   "metadata": {},
   "outputs": [
    {
     "name": "stdout",
     "output_type": "stream",
     "text": [
      "MPE: -2.5730378350636323\n"
     ]
    }
   ],
   "source": [
    "#Calculating MPE\n",
    "def MPE(y_test_pred,y_test):\n",
    "    return ( ((y_test - y_test_pred) / y_test).mean()) * 100\n",
    "\n",
    "print ('MPE: ' + str(MPE(y_test_pred,y_test)) )"
   ]
  },
  {
   "cell_type": "code",
   "execution_count": 74,
   "id": "ff41b2e1",
   "metadata": {},
   "outputs": [
    {
     "name": "stdout",
     "output_type": "stream",
     "text": [
      "MAPE: 9.490934337925152\n"
     ]
    }
   ],
   "source": [
    "#Calculating MAPE\n",
    "#Mean Absolute Percentage Error measures the prediction accuracy of a model.\n",
    "def MAPE(y_test_pred,y_test):\n",
    "    return np.mean(np.abs((y_test - y_test_pred) / y_test)) * 100\n",
    "    \n",
    "print ('MAPE: ' + str(MAPE(y_test_pred,y_test)) )"
   ]
  },
  {
   "cell_type": "markdown",
   "id": "2f4e4dea",
   "metadata": {},
   "source": [
    "#### **Reiterating the Model**"
   ]
  },
  {
   "cell_type": "markdown",
   "id": "312293d7",
   "metadata": {},
   "source": [
    "1. Feature selection using p-value:"
   ]
  },
  {
   "cell_type": "markdown",
   "id": "f3c6ff3d",
   "metadata": {},
   "source": [
    "In regression analysis, p-values and coefficients together indicate which relationships in the model are statistically significant and the nature of those relationships.\n",
    "\n",
    "\n",
    "Coefficients describe the mathematical relationship between each independent variable and the dependent variable.\n",
    "\n",
    "p-values for the coefficients indicate whether these relationships are statistically significant."
   ]
  },
  {
   "cell_type": "markdown",
   "id": "c8ba7867",
   "metadata": {},
   "source": [
    "In general, the threshold for the p-value is taken as $\\leq$ 0.05.\n",
    "\n",
    "\n",
    "Let's find the variable with value $\\leq$ 0.05."
   ]
  },
  {
   "cell_type": "markdown",
   "id": "69a04f59",
   "metadata": {},
   "source": [
    "**2. List:**\n",
    "\n",
    "Identified 99 variables that have p-value $\\leq$ 0.05."
   ]
  },
  {
   "cell_type": "code",
   "execution_count": 80,
   "id": "2fba2329",
   "metadata": {},
   "outputs": [],
   "source": [
    "df3=df2[['Rating','Reviews','Installs','Category_AUTO_AND_VEHICLES','Category_BEAUTY','Category_BOOKS_AND_REFERENCE','Category_BUSINESS','Category_COMICS',\n",
    "'Category_COMMUNICATION','Category_DATING','Category_EDUCATION','Category_ENTERTAINMENT','Category_EVENTS','Category_FAMILY','Category_FINANCE',\n",
    "'Category_FOOD_AND_DRINK','Category_GAME','Category_HEALTH_AND_FITNESS','Category_HOUSE_AND_HOME','Category_LIBRARIES_AND_DEMO','Category_LIFESTYLE','Category_MAPS_AND_NAVIGATION','Category_MEDICAL','Category_NEWS_AND_MAGAZINES','Category_PARENTING','Category_PERSONALIZATION',\n",
    "'Category_PHOTOGRAPHY','Category_PRODUCTIVITY','Category_SHOPPING','Category_SOCIAL','Category_SPORTS','Category_TOOLS','Category_TRAVEL_AND_LOCAL','Category_VIDEO_PLAYERS','Category_WEATHER','Type_Paid','Content Rating_Everyone','Content Rating_Everyone 10+','Content Rating_Mature 17+',\n",
    "'Content Rating_Teen','Content Rating_Unrated','Genres_Art & Design','Genres_Art & Design;Creativity','Genres_Art & Design;Pretend Play','Genres_Auto & Vehicles','Genres_Beauty','Genres_Board;Brain Games','Genres_Books & Reference', \n",
    "'Genres_Business','Genres_Casual','Genres_Casual;Action & Adventure','Genres_Casual;Brain Games',\n",
    "'Genres_Casual;Pretend Play','Genres_Comics','Genres_Comics;Creativity',\n",
    "'Genres_Communication','Genres_Dating','Genres_Education','Genres_Education;Creativity','Genres_Education;Education','Genres_Education;Pretend Play',\n",
    "'Genres_Educational;Education','Genres_Educational;Pretend Play','Genres_Entertainment','Genres_Entertainment;Brain Games',\n",
    "'Genres_Entertainment;Creativity','Genres_Entertainment;Music & Video','Genres_Events',\n",
    "'Genres_Finance','Genres_Food & Drink','Genres_Health & Fitness','Genres_House & Home',\n",
    "'Genres_Libraries & Demo','Genres_Lifestyle','Genres_Maps & Navigation','Genres_Medical',\n",
    "'Genres_Music;Music & Video','Genres_News & Magazines','Genres_Parenting','Genres_Parenting;Education',\n",
    "'Genres_Parenting;Music & Video','Genres_Personalization','Genres_Photography','Genres_Productivity',\n",
    "'Genres_Puzzle','Genres_Puzzle;Brain Games','Genres_Racing;Action & Adventure','Genres_Role Playing','Genres_Shopping','Genres_Simulation','Genres_Simulation;Action & Adventure'\n",
    ",'Genres_Social',\n",
    "'Genres_Strategy','Genres_Tools',\n",
    "'Genres_Tools;Education','Genres_Travel & Local','Genres_Travel & Local;Action & Adventure','Genres_Weather']]"
   ]
  },
  {
   "cell_type": "code",
   "execution_count": 81,
   "id": "6553218c",
   "metadata": {},
   "outputs": [
    {
     "data": {
      "text/plain": [
       "Rating                                      float64\n",
       "Reviews                                     float64\n",
       "Installs                                    float64\n",
       "Category_AUTO_AND_VEHICLES                    uint8\n",
       "Category_BEAUTY                               uint8\n",
       "                                             ...   \n",
       "Genres_Tools                                  uint8\n",
       "Genres_Tools;Education                        uint8\n",
       "Genres_Travel & Local                         uint8\n",
       "Genres_Travel & Local;Action & Adventure      uint8\n",
       "Genres_Weather                                uint8\n",
       "Length: 98, dtype: object"
      ]
     },
     "execution_count": 81,
     "metadata": {},
     "output_type": "execute_result"
    }
   ],
   "source": [
    "#Checking datatypes\n",
    "df3.dtypes"
   ]
  },
  {
   "cell_type": "code",
   "execution_count": 82,
   "id": "2834db38",
   "metadata": {},
   "outputs": [
    {
     "data": {
      "text/plain": [
       "(8879, 98)"
      ]
     },
     "execution_count": 82,
     "metadata": {},
     "output_type": "execute_result"
    }
   ],
   "source": [
    "df3.shape"
   ]
  },
  {
   "cell_type": "code",
   "execution_count": 84,
   "id": "f212f9ab",
   "metadata": {},
   "outputs": [],
   "source": [
    "#split df3\n",
    "df_train, df_test = train_test_split(df3, train_size = 0.7, random_state = 100)"
   ]
  },
  {
   "cell_type": "code",
   "execution_count": 85,
   "id": "1adee691",
   "metadata": {},
   "outputs": [
    {
     "data": {
      "text/plain": [
       "((6215, 98), (2664, 98))"
      ]
     },
     "execution_count": 85,
     "metadata": {},
     "output_type": "execute_result"
    }
   ],
   "source": [
    "df_train.shape, df_test.shape"
   ]
  },
  {
   "cell_type": "markdown",
   "id": "a8cf01a9",
   "metadata": {},
   "source": [
    "**4. Separate the new dataframes into X_train, y_train, X_test, y_test**"
   ]
  },
  {
   "cell_type": "code",
   "execution_count": 86,
   "id": "72ec021a",
   "metadata": {},
   "outputs": [],
   "source": [
    "#Separating the new dataframes\n",
    "y_train1 = df_train.pop(\"Rating\")\n",
    "X_train1 = df_train"
   ]
  },
  {
   "cell_type": "code",
   "execution_count": 87,
   "id": "a7480b32",
   "metadata": {},
   "outputs": [
    {
     "data": {
      "text/html": [
       "<div>\n",
       "<style scoped>\n",
       "    .dataframe tbody tr th:only-of-type {\n",
       "        vertical-align: middle;\n",
       "    }\n",
       "\n",
       "    .dataframe tbody tr th {\n",
       "        vertical-align: top;\n",
       "    }\n",
       "\n",
       "    .dataframe thead th {\n",
       "        text-align: right;\n",
       "    }\n",
       "</style>\n",
       "<table border=\"1\" class=\"dataframe\">\n",
       "  <thead>\n",
       "    <tr style=\"text-align: right;\">\n",
       "      <th></th>\n",
       "      <th>Reviews</th>\n",
       "      <th>Installs</th>\n",
       "      <th>Category_AUTO_AND_VEHICLES</th>\n",
       "      <th>Category_BEAUTY</th>\n",
       "      <th>Category_BOOKS_AND_REFERENCE</th>\n",
       "      <th>Category_BUSINESS</th>\n",
       "      <th>Category_COMICS</th>\n",
       "      <th>Category_COMMUNICATION</th>\n",
       "      <th>Category_DATING</th>\n",
       "      <th>Category_EDUCATION</th>\n",
       "      <th>...</th>\n",
       "      <th>Genres_Shopping</th>\n",
       "      <th>Genres_Simulation</th>\n",
       "      <th>Genres_Simulation;Action &amp; Adventure</th>\n",
       "      <th>Genres_Social</th>\n",
       "      <th>Genres_Strategy</th>\n",
       "      <th>Genres_Tools</th>\n",
       "      <th>Genres_Tools;Education</th>\n",
       "      <th>Genres_Travel &amp; Local</th>\n",
       "      <th>Genres_Travel &amp; Local;Action &amp; Adventure</th>\n",
       "      <th>Genres_Weather</th>\n",
       "    </tr>\n",
       "  </thead>\n",
       "  <tbody>\n",
       "    <tr>\n",
       "      <th>1279</th>\n",
       "      <td>7.63627</td>\n",
       "      <td>11.512935</td>\n",
       "      <td>0</td>\n",
       "      <td>0</td>\n",
       "      <td>0</td>\n",
       "      <td>0</td>\n",
       "      <td>0</td>\n",
       "      <td>0</td>\n",
       "      <td>0</td>\n",
       "      <td>0</td>\n",
       "      <td>...</td>\n",
       "      <td>0</td>\n",
       "      <td>0</td>\n",
       "      <td>0</td>\n",
       "      <td>0</td>\n",
       "      <td>0</td>\n",
       "      <td>0</td>\n",
       "      <td>0</td>\n",
       "      <td>0</td>\n",
       "      <td>0</td>\n",
       "      <td>0</td>\n",
       "    </tr>\n",
       "  </tbody>\n",
       "</table>\n",
       "<p>1 rows × 97 columns</p>\n",
       "</div>"
      ],
      "text/plain": [
       "      Reviews   Installs  Category_AUTO_AND_VEHICLES  Category_BEAUTY  \\\n",
       "1279  7.63627  11.512935                           0                0   \n",
       "\n",
       "      Category_BOOKS_AND_REFERENCE  Category_BUSINESS  Category_COMICS  \\\n",
       "1279                             0                  0                0   \n",
       "\n",
       "      Category_COMMUNICATION  Category_DATING  Category_EDUCATION  ...  \\\n",
       "1279                       0                0                   0  ...   \n",
       "\n",
       "      Genres_Shopping  Genres_Simulation  \\\n",
       "1279                0                  0   \n",
       "\n",
       "      Genres_Simulation;Action & Adventure  Genres_Social  Genres_Strategy  \\\n",
       "1279                                     0              0                0   \n",
       "\n",
       "      Genres_Tools  Genres_Tools;Education  Genres_Travel & Local  \\\n",
       "1279             0                       0                      0   \n",
       "\n",
       "      Genres_Travel & Local;Action & Adventure  Genres_Weather  \n",
       "1279                                         0               0  \n",
       "\n",
       "[1 rows x 97 columns]"
      ]
     },
     "execution_count": 87,
     "metadata": {},
     "output_type": "execute_result"
    }
   ],
   "source": [
    "X_train1.head(1)"
   ]
  },
  {
   "cell_type": "code",
   "execution_count": 88,
   "id": "0902395f",
   "metadata": {},
   "outputs": [],
   "source": [
    "y_test1 = df_test.pop(\"Rating\")\n",
    "X_test1 = df_test"
   ]
  },
  {
   "cell_type": "code",
   "execution_count": 89,
   "id": "84ed1d57",
   "metadata": {},
   "outputs": [
    {
     "data": {
      "text/html": [
       "<div>\n",
       "<style scoped>\n",
       "    .dataframe tbody tr th:only-of-type {\n",
       "        vertical-align: middle;\n",
       "    }\n",
       "\n",
       "    .dataframe tbody tr th {\n",
       "        vertical-align: top;\n",
       "    }\n",
       "\n",
       "    .dataframe thead th {\n",
       "        text-align: right;\n",
       "    }\n",
       "</style>\n",
       "<table border=\"1\" class=\"dataframe\">\n",
       "  <thead>\n",
       "    <tr style=\"text-align: right;\">\n",
       "      <th></th>\n",
       "      <th>Reviews</th>\n",
       "      <th>Installs</th>\n",
       "      <th>Category_AUTO_AND_VEHICLES</th>\n",
       "      <th>Category_BEAUTY</th>\n",
       "      <th>Category_BOOKS_AND_REFERENCE</th>\n",
       "      <th>Category_BUSINESS</th>\n",
       "      <th>Category_COMICS</th>\n",
       "      <th>Category_COMMUNICATION</th>\n",
       "      <th>Category_DATING</th>\n",
       "      <th>Category_EDUCATION</th>\n",
       "      <th>...</th>\n",
       "      <th>Genres_Shopping</th>\n",
       "      <th>Genres_Simulation</th>\n",
       "      <th>Genres_Simulation;Action &amp; Adventure</th>\n",
       "      <th>Genres_Social</th>\n",
       "      <th>Genres_Strategy</th>\n",
       "      <th>Genres_Tools</th>\n",
       "      <th>Genres_Tools;Education</th>\n",
       "      <th>Genres_Travel &amp; Local</th>\n",
       "      <th>Genres_Travel &amp; Local;Action &amp; Adventure</th>\n",
       "      <th>Genres_Weather</th>\n",
       "    </tr>\n",
       "  </thead>\n",
       "  <tbody>\n",
       "    <tr>\n",
       "      <th>1161</th>\n",
       "      <td>9.329456</td>\n",
       "      <td>13.815512</td>\n",
       "      <td>0</td>\n",
       "      <td>0</td>\n",
       "      <td>0</td>\n",
       "      <td>0</td>\n",
       "      <td>0</td>\n",
       "      <td>0</td>\n",
       "      <td>0</td>\n",
       "      <td>0</td>\n",
       "      <td>...</td>\n",
       "      <td>0</td>\n",
       "      <td>0</td>\n",
       "      <td>0</td>\n",
       "      <td>0</td>\n",
       "      <td>0</td>\n",
       "      <td>0</td>\n",
       "      <td>0</td>\n",
       "      <td>0</td>\n",
       "      <td>0</td>\n",
       "      <td>0</td>\n",
       "    </tr>\n",
       "  </tbody>\n",
       "</table>\n",
       "<p>1 rows × 97 columns</p>\n",
       "</div>"
      ],
      "text/plain": [
       "       Reviews   Installs  Category_AUTO_AND_VEHICLES  Category_BEAUTY  \\\n",
       "1161  9.329456  13.815512                           0                0   \n",
       "\n",
       "      Category_BOOKS_AND_REFERENCE  Category_BUSINESS  Category_COMICS  \\\n",
       "1161                             0                  0                0   \n",
       "\n",
       "      Category_COMMUNICATION  Category_DATING  Category_EDUCATION  ...  \\\n",
       "1161                       0                0                   0  ...   \n",
       "\n",
       "      Genres_Shopping  Genres_Simulation  \\\n",
       "1161                0                  0   \n",
       "\n",
       "      Genres_Simulation;Action & Adventure  Genres_Social  Genres_Strategy  \\\n",
       "1161                                     0              0                0   \n",
       "\n",
       "      Genres_Tools  Genres_Tools;Education  Genres_Travel & Local  \\\n",
       "1161             0                       0                      0   \n",
       "\n",
       "      Genres_Travel & Local;Action & Adventure  Genres_Weather  \n",
       "1161                                         0               0  \n",
       "\n",
       "[1 rows x 97 columns]"
      ]
     },
     "execution_count": 89,
     "metadata": {},
     "output_type": "execute_result"
    }
   ],
   "source": [
    "X_test1.head(1)"
   ]
  },
  {
   "cell_type": "markdown",
   "id": "e545b4c0",
   "metadata": {},
   "source": [
    "**5. Create the second model**"
   ]
  },
  {
   "cell_type": "code",
   "execution_count": 90,
   "id": "364acc9f",
   "metadata": {},
   "outputs": [],
   "source": [
    "#Apply linear regression\n",
    "model2 = sm.OLS(y_train1, X_train1)"
   ]
  },
  {
   "cell_type": "code",
   "execution_count": 91,
   "id": "b3cd34ef",
   "metadata": {},
   "outputs": [],
   "source": [
    "model2 = model2.fit()"
   ]
  },
  {
   "cell_type": "code",
   "execution_count": 92,
   "id": "3d4def13",
   "metadata": {},
   "outputs": [
    {
     "data": {
      "text/html": [
       "<table class=\"simpletable\">\n",
       "<caption>OLS Regression Results</caption>\n",
       "<tr>\n",
       "  <th>Dep. Variable:</th>         <td>Rating</td>      <th>  R-squared (uncentered):</th>      <td>   0.987</td>\n",
       "</tr>\n",
       "<tr>\n",
       "  <th>Model:</th>                   <td>OLS</td>       <th>  Adj. R-squared (uncentered):</th> <td>   0.987</td>\n",
       "</tr>\n",
       "<tr>\n",
       "  <th>Method:</th>             <td>Least Squares</td>  <th>  F-statistic:       </th>          <td>   6499.</td>\n",
       "</tr>\n",
       "<tr>\n",
       "  <th>Date:</th>             <td>Thu, 04 May 2023</td> <th>  Prob (F-statistic):</th>           <td>  0.00</td> \n",
       "</tr>\n",
       "<tr>\n",
       "  <th>Time:</th>                 <td>18:14:49</td>     <th>  Log-Likelihood:    </th>          <td> -4305.1</td>\n",
       "</tr>\n",
       "<tr>\n",
       "  <th>No. Observations:</th>      <td>  6215</td>      <th>  AIC:               </th>          <td>   8752.</td>\n",
       "</tr>\n",
       "<tr>\n",
       "  <th>Df Residuals:</th>          <td>  6144</td>      <th>  BIC:               </th>          <td>   9230.</td>\n",
       "</tr>\n",
       "<tr>\n",
       "  <th>Df Model:</th>              <td>    71</td>      <th>                     </th>              <td> </td>   \n",
       "</tr>\n",
       "<tr>\n",
       "  <th>Covariance Type:</th>      <td>nonrobust</td>    <th>                     </th>              <td> </td>   \n",
       "</tr>\n",
       "</table>\n",
       "<table class=\"simpletable\">\n",
       "<tr>\n",
       "                      <td></td>                        <th>coef</th>     <th>std err</th>      <th>t</th>      <th>P>|t|</th>  <th>[0.025</th>    <th>0.975]</th>  \n",
       "</tr>\n",
       "<tr>\n",
       "  <th>Reviews</th>                                  <td>    0.1731</td> <td>    0.006</td> <td>   28.034</td> <td> 0.000</td> <td>    0.161</td> <td>    0.185</td>\n",
       "</tr>\n",
       "<tr>\n",
       "  <th>Installs</th>                                 <td>   -0.1472</td> <td>    0.006</td> <td>  -23.962</td> <td> 0.000</td> <td>   -0.159</td> <td>   -0.135</td>\n",
       "</tr>\n",
       "<tr>\n",
       "  <th>Category_AUTO_AND_VEHICLES</th>               <td>    1.5967</td> <td>    0.124</td> <td>   12.865</td> <td> 0.000</td> <td>    1.353</td> <td>    1.840</td>\n",
       "</tr>\n",
       "<tr>\n",
       "  <th>Category_BEAUTY</th>                          <td>    1.6812</td> <td>    0.127</td> <td>   13.205</td> <td> 0.000</td> <td>    1.432</td> <td>    1.931</td>\n",
       "</tr>\n",
       "<tr>\n",
       "  <th>Category_BOOKS_AND_REFERENCE</th>             <td>    1.6451</td> <td>    0.121</td> <td>   13.567</td> <td> 0.000</td> <td>    1.407</td> <td>    1.883</td>\n",
       "</tr>\n",
       "<tr>\n",
       "  <th>Category_BUSINESS</th>                        <td>    1.5644</td> <td>    0.120</td> <td>   13.003</td> <td> 0.000</td> <td>    1.329</td> <td>    1.800</td>\n",
       "</tr>\n",
       "<tr>\n",
       "  <th>Category_COMICS</th>                          <td>    2.3284</td> <td>    0.226</td> <td>   10.321</td> <td> 0.000</td> <td>    1.886</td> <td>    2.771</td>\n",
       "</tr>\n",
       "<tr>\n",
       "  <th>Category_COMMUNICATION</th>                   <td>    1.5080</td> <td>    0.121</td> <td>   12.497</td> <td> 0.000</td> <td>    1.271</td> <td>    1.745</td>\n",
       "</tr>\n",
       "<tr>\n",
       "  <th>Category_DATING</th>                          <td>    1.4662</td> <td>    0.122</td> <td>   12.021</td> <td> 0.000</td> <td>    1.227</td> <td>    1.705</td>\n",
       "</tr>\n",
       "<tr>\n",
       "  <th>Category_EDUCATION</th>                       <td>    2.9911</td> <td>    0.247</td> <td>   12.109</td> <td> 0.000</td> <td>    2.507</td> <td>    3.475</td>\n",
       "</tr>\n",
       "<tr>\n",
       "  <th>Category_ENTERTAINMENT</th>                   <td>    2.8963</td> <td>    0.247</td> <td>   11.721</td> <td> 0.000</td> <td>    2.412</td> <td>    3.381</td>\n",
       "</tr>\n",
       "<tr>\n",
       "  <th>Category_EVENTS</th>                          <td>    1.7063</td> <td>    0.126</td> <td>   13.546</td> <td> 0.000</td> <td>    1.459</td> <td>    1.953</td>\n",
       "</tr>\n",
       "<tr>\n",
       "  <th>Category_FAMILY</th>                          <td>    3.0155</td> <td>    0.240</td> <td>   12.590</td> <td> 0.000</td> <td>    2.546</td> <td>    3.485</td>\n",
       "</tr>\n",
       "<tr>\n",
       "  <th>Category_FINANCE</th>                         <td>    1.5279</td> <td>    0.120</td> <td>   12.702</td> <td> 0.000</td> <td>    1.292</td> <td>    1.764</td>\n",
       "</tr>\n",
       "<tr>\n",
       "  <th>Category_FOOD_AND_DRINK</th>                  <td>    1.5579</td> <td>    0.122</td> <td>   12.731</td> <td> 0.000</td> <td>    1.318</td> <td>    1.798</td>\n",
       "</tr>\n",
       "<tr>\n",
       "  <th>Category_GAME</th>                            <td>    3.0808</td> <td>    0.239</td> <td>   12.885</td> <td> 0.000</td> <td>    2.612</td> <td>    3.550</td>\n",
       "</tr>\n",
       "<tr>\n",
       "  <th>Category_HEALTH_AND_FITNESS</th>              <td>    1.5880</td> <td>    0.120</td> <td>   13.186</td> <td> 0.000</td> <td>    1.352</td> <td>    1.824</td>\n",
       "</tr>\n",
       "<tr>\n",
       "  <th>Category_HOUSE_AND_HOME</th>                  <td>    1.5738</td> <td>    0.124</td> <td>   12.730</td> <td> 0.000</td> <td>    1.331</td> <td>    1.816</td>\n",
       "</tr>\n",
       "<tr>\n",
       "  <th>Category_LIBRARIES_AND_DEMO</th>              <td>    1.6136</td> <td>    0.124</td> <td>   12.983</td> <td> 0.000</td> <td>    1.370</td> <td>    1.857</td>\n",
       "</tr>\n",
       "<tr>\n",
       "  <th>Category_LIFESTYLE</th>                       <td>    1.5515</td> <td>    0.120</td> <td>   12.888</td> <td> 0.000</td> <td>    1.316</td> <td>    1.787</td>\n",
       "</tr>\n",
       "<tr>\n",
       "  <th>Category_MAPS_AND_NAVIGATION</th>             <td>    1.4803</td> <td>    0.122</td> <td>   12.124</td> <td> 0.000</td> <td>    1.241</td> <td>    1.720</td>\n",
       "</tr>\n",
       "<tr>\n",
       "  <th>Category_MEDICAL</th>                         <td>    1.5955</td> <td>    0.120</td> <td>   13.281</td> <td> 0.000</td> <td>    1.360</td> <td>    1.831</td>\n",
       "</tr>\n",
       "<tr>\n",
       "  <th>Category_NEWS_AND_MAGAZINES</th>              <td>    1.5259</td> <td>    0.121</td> <td>   12.641</td> <td> 0.000</td> <td>    1.289</td> <td>    1.763</td>\n",
       "</tr>\n",
       "<tr>\n",
       "  <th>Category_PARENTING</th>                       <td>    2.4690</td> <td>    0.212</td> <td>   11.651</td> <td> 0.000</td> <td>    2.054</td> <td>    2.884</td>\n",
       "</tr>\n",
       "<tr>\n",
       "  <th>Category_PERSONALIZATION</th>                 <td>    1.6382</td> <td>    0.120</td> <td>   13.608</td> <td> 0.000</td> <td>    1.402</td> <td>    1.874</td>\n",
       "</tr>\n",
       "<tr>\n",
       "  <th>Category_PHOTOGRAPHY</th>                     <td>    1.5441</td> <td>    0.121</td> <td>   12.804</td> <td> 0.000</td> <td>    1.308</td> <td>    1.781</td>\n",
       "</tr>\n",
       "<tr>\n",
       "  <th>Category_PRODUCTIVITY</th>                    <td>    1.5806</td> <td>    0.120</td> <td>   13.128</td> <td> 0.000</td> <td>    1.345</td> <td>    1.817</td>\n",
       "</tr>\n",
       "<tr>\n",
       "  <th>Category_SHOPPING</th>                        <td>    1.5688</td> <td>    0.121</td> <td>   12.977</td> <td> 0.000</td> <td>    1.332</td> <td>    1.806</td>\n",
       "</tr>\n",
       "<tr>\n",
       "  <th>Category_SOCIAL</th>                          <td>    1.5748</td> <td>    0.121</td> <td>   13.049</td> <td> 0.000</td> <td>    1.338</td> <td>    1.811</td>\n",
       "</tr>\n",
       "<tr>\n",
       "  <th>Category_SPORTS</th>                          <td>    3.0786</td> <td>    0.240</td> <td>   12.849</td> <td> 0.000</td> <td>    2.609</td> <td>    3.548</td>\n",
       "</tr>\n",
       "<tr>\n",
       "  <th>Category_TOOLS</th>                           <td>    2.0928</td> <td>    0.227</td> <td>    9.207</td> <td> 0.000</td> <td>    1.647</td> <td>    2.538</td>\n",
       "</tr>\n",
       "<tr>\n",
       "  <th>Category_TRAVEL_AND_LOCAL</th>                <td>    2.0809</td> <td>    0.228</td> <td>    9.143</td> <td> 0.000</td> <td>    1.635</td> <td>    2.527</td>\n",
       "</tr>\n",
       "<tr>\n",
       "  <th>Category_VIDEO_PLAYERS</th>                   <td>    3.0350</td> <td>    0.243</td> <td>   12.477</td> <td> 0.000</td> <td>    2.558</td> <td>    3.512</td>\n",
       "</tr>\n",
       "<tr>\n",
       "  <th>Category_WEATHER</th>                         <td>    1.5790</td> <td>    0.124</td> <td>   12.734</td> <td> 0.000</td> <td>    1.336</td> <td>    1.822</td>\n",
       "</tr>\n",
       "<tr>\n",
       "  <th>Type_Paid</th>                                <td>   -0.0791</td> <td>    0.027</td> <td>   -2.919</td> <td> 0.004</td> <td>   -0.132</td> <td>   -0.026</td>\n",
       "</tr>\n",
       "<tr>\n",
       "  <th>Content Rating_Everyone</th>                  <td>    1.4475</td> <td>    0.238</td> <td>    6.093</td> <td> 0.000</td> <td>    0.982</td> <td>    1.913</td>\n",
       "</tr>\n",
       "<tr>\n",
       "  <th>Content Rating_Everyone 10+</th>              <td>    1.4362</td> <td>    0.240</td> <td>    5.995</td> <td> 0.000</td> <td>    0.967</td> <td>    1.906</td>\n",
       "</tr>\n",
       "<tr>\n",
       "  <th>Content Rating_Mature 17+</th>                <td>    1.4198</td> <td>    0.240</td> <td>    5.916</td> <td> 0.000</td> <td>    0.949</td> <td>    1.890</td>\n",
       "</tr>\n",
       "<tr>\n",
       "  <th>Content Rating_Teen</th>                      <td>    1.4416</td> <td>    0.238</td> <td>    6.057</td> <td> 0.000</td> <td>    0.975</td> <td>    1.908</td>\n",
       "</tr>\n",
       "<tr>\n",
       "  <th>Content Rating_Unrated</th>                   <td>    1.4080</td> <td>    0.542</td> <td>    2.599</td> <td> 0.009</td> <td>    0.346</td> <td>    2.470</td>\n",
       "</tr>\n",
       "<tr>\n",
       "  <th>Genres_Art & Design</th>                      <td>    3.3853</td> <td>    0.252</td> <td>   13.452</td> <td> 0.000</td> <td>    2.892</td> <td>    3.879</td>\n",
       "</tr>\n",
       "<tr>\n",
       "  <th>Genres_Art & Design;Creativity</th>           <td>    2.4777</td> <td>    0.255</td> <td>    9.708</td> <td> 0.000</td> <td>    1.977</td> <td>    2.978</td>\n",
       "</tr>\n",
       "<tr>\n",
       "  <th>Genres_Art & Design;Pretend Play</th>         <td>    3.1940</td> <td>    0.542</td> <td>    5.889</td> <td> 0.000</td> <td>    2.131</td> <td>    4.257</td>\n",
       "</tr>\n",
       "<tr>\n",
       "  <th>Genres_Auto & Vehicles</th>                   <td>    1.5967</td> <td>    0.124</td> <td>   12.865</td> <td> 0.000</td> <td>    1.353</td> <td>    1.840</td>\n",
       "</tr>\n",
       "<tr>\n",
       "  <th>Genres_Beauty</th>                            <td>    1.6812</td> <td>    0.127</td> <td>   13.205</td> <td> 0.000</td> <td>    1.432</td> <td>    1.931</td>\n",
       "</tr>\n",
       "<tr>\n",
       "  <th>Genres_Board;Brain Games</th>                 <td>    0.2779</td> <td>    0.159</td> <td>    1.746</td> <td> 0.081</td> <td>   -0.034</td> <td>    0.590</td>\n",
       "</tr>\n",
       "<tr>\n",
       "  <th>Genres_Books & Reference</th>                 <td>    1.6451</td> <td>    0.121</td> <td>   13.567</td> <td> 0.000</td> <td>    1.407</td> <td>    1.883</td>\n",
       "</tr>\n",
       "<tr>\n",
       "  <th>Genres_Business</th>                          <td>    1.5644</td> <td>    0.120</td> <td>   13.003</td> <td> 0.000</td> <td>    1.329</td> <td>    1.800</td>\n",
       "</tr>\n",
       "<tr>\n",
       "  <th>Genres_Casual</th>                            <td>    0.0048</td> <td>    0.059</td> <td>    0.082</td> <td> 0.935</td> <td>   -0.110</td> <td>    0.120</td>\n",
       "</tr>\n",
       "<tr>\n",
       "  <th>Genres_Casual;Action & Adventure</th>         <td>    0.1999</td> <td>    0.146</td> <td>    1.373</td> <td> 0.170</td> <td>   -0.086</td> <td>    0.485</td>\n",
       "</tr>\n",
       "<tr>\n",
       "  <th>Genres_Casual;Brain Games</th>                <td>    0.4758</td> <td>    0.175</td> <td>    2.712</td> <td> 0.007</td> <td>    0.132</td> <td>    0.820</td>\n",
       "</tr>\n",
       "<tr>\n",
       "  <th>Genres_Casual;Pretend Play</th>               <td>    0.0699</td> <td>    0.110</td> <td>    0.635</td> <td> 0.526</td> <td>   -0.146</td> <td>    0.286</td>\n",
       "</tr>\n",
       "<tr>\n",
       "  <th>Genres_Comics</th>                            <td>    0.7932</td> <td>    0.185</td> <td>    4.284</td> <td> 0.000</td> <td>    0.430</td> <td>    1.156</td>\n",
       "</tr>\n",
       "<tr>\n",
       "  <th>Genres_Comics;Creativity</th>                 <td>    1.5352</td> <td>    0.336</td> <td>    4.566</td> <td> 0.000</td> <td>    0.876</td> <td>    2.194</td>\n",
       "</tr>\n",
       "<tr>\n",
       "  <th>Genres_Communication</th>                     <td>    1.5080</td> <td>    0.121</td> <td>   12.497</td> <td> 0.000</td> <td>    1.271</td> <td>    1.745</td>\n",
       "</tr>\n",
       "<tr>\n",
       "  <th>Genres_Dating</th>                            <td>    1.4662</td> <td>    0.122</td> <td>   12.021</td> <td> 0.000</td> <td>    1.227</td> <td>    1.705</td>\n",
       "</tr>\n",
       "<tr>\n",
       "  <th>Genres_Education</th>                         <td>    0.2830</td> <td>    0.049</td> <td>    5.723</td> <td> 0.000</td> <td>    0.186</td> <td>    0.380</td>\n",
       "</tr>\n",
       "<tr>\n",
       "  <th>Genres_Education;Creativity</th>              <td>    0.5646</td> <td>    0.222</td> <td>    2.538</td> <td> 0.011</td> <td>    0.129</td> <td>    1.001</td>\n",
       "</tr>\n",
       "<tr>\n",
       "  <th>Genres_Education;Education</th>               <td>    0.3551</td> <td>    0.096</td> <td>    3.703</td> <td> 0.000</td> <td>    0.167</td> <td>    0.543</td>\n",
       "</tr>\n",
       "<tr>\n",
       "  <th>Genres_Education;Pretend Play</th>            <td>    0.3507</td> <td>    0.116</td> <td>    3.012</td> <td> 0.003</td> <td>    0.122</td> <td>    0.579</td>\n",
       "</tr>\n",
       "<tr>\n",
       "  <th>Genres_Educational;Education</th>             <td>    0.2444</td> <td>    0.100</td> <td>    2.448</td> <td> 0.014</td> <td>    0.049</td> <td>    0.440</td>\n",
       "</tr>\n",
       "<tr>\n",
       "  <th>Genres_Educational;Pretend Play</th>          <td>    0.1471</td> <td>    0.136</td> <td>    1.085</td> <td> 0.278</td> <td>   -0.119</td> <td>    0.413</td>\n",
       "</tr>\n",
       "<tr>\n",
       "  <th>Genres_Entertainment</th>                     <td>    0.0674</td> <td>    0.049</td> <td>    1.385</td> <td> 0.166</td> <td>   -0.028</td> <td>    0.163</td>\n",
       "</tr>\n",
       "<tr>\n",
       "  <th>Genres_Entertainment;Brain Games</th>         <td>    0.2443</td> <td>    0.189</td> <td>    1.295</td> <td> 0.195</td> <td>   -0.126</td> <td>    0.614</td>\n",
       "</tr>\n",
       "<tr>\n",
       "  <th>Genres_Entertainment;Creativity</th>          <td>    0.5048</td> <td>    0.347</td> <td>    1.453</td> <td> 0.146</td> <td>   -0.176</td> <td>    1.186</td>\n",
       "</tr>\n",
       "<tr>\n",
       "  <th>Genres_Entertainment;Music & Video</th>       <td>    0.1973</td> <td>    0.141</td> <td>    1.399</td> <td> 0.162</td> <td>   -0.079</td> <td>    0.474</td>\n",
       "</tr>\n",
       "<tr>\n",
       "  <th>Genres_Events</th>                            <td>    1.7063</td> <td>    0.126</td> <td>   13.546</td> <td> 0.000</td> <td>    1.459</td> <td>    1.953</td>\n",
       "</tr>\n",
       "<tr>\n",
       "  <th>Genres_Finance</th>                           <td>    1.5279</td> <td>    0.120</td> <td>   12.702</td> <td> 0.000</td> <td>    1.292</td> <td>    1.764</td>\n",
       "</tr>\n",
       "<tr>\n",
       "  <th>Genres_Food & Drink</th>                      <td>    1.5579</td> <td>    0.122</td> <td>   12.731</td> <td> 0.000</td> <td>    1.318</td> <td>    1.798</td>\n",
       "</tr>\n",
       "<tr>\n",
       "  <th>Genres_Health & Fitness</th>                  <td>    1.5880</td> <td>    0.120</td> <td>   13.186</td> <td> 0.000</td> <td>    1.352</td> <td>    1.824</td>\n",
       "</tr>\n",
       "<tr>\n",
       "  <th>Genres_House & Home</th>                      <td>    1.5738</td> <td>    0.124</td> <td>   12.730</td> <td> 0.000</td> <td>    1.331</td> <td>    1.816</td>\n",
       "</tr>\n",
       "<tr>\n",
       "  <th>Genres_Libraries & Demo</th>                  <td>    1.6136</td> <td>    0.124</td> <td>   12.983</td> <td> 0.000</td> <td>    1.370</td> <td>    1.857</td>\n",
       "</tr>\n",
       "<tr>\n",
       "  <th>Genres_Lifestyle</th>                         <td>    1.5515</td> <td>    0.120</td> <td>   12.888</td> <td> 0.000</td> <td>    1.316</td> <td>    1.787</td>\n",
       "</tr>\n",
       "<tr>\n",
       "  <th>Genres_Maps & Navigation</th>                 <td>    1.4803</td> <td>    0.122</td> <td>   12.124</td> <td> 0.000</td> <td>    1.241</td> <td>    1.720</td>\n",
       "</tr>\n",
       "<tr>\n",
       "  <th>Genres_Medical</th>                           <td>    1.5955</td> <td>    0.120</td> <td>   13.281</td> <td> 0.000</td> <td>    1.360</td> <td>    1.831</td>\n",
       "</tr>\n",
       "<tr>\n",
       "  <th>Genres_Music;Music & Video</th>               <td>    0.5605</td> <td>    0.346</td> <td>    1.619</td> <td> 0.106</td> <td>   -0.118</td> <td>    1.239</td>\n",
       "</tr>\n",
       "<tr>\n",
       "  <th>Genres_News & Magazines</th>                  <td>    1.5259</td> <td>    0.121</td> <td>   12.641</td> <td> 0.000</td> <td>    1.289</td> <td>    1.763</td>\n",
       "</tr>\n",
       "<tr>\n",
       "  <th>Genres_Parenting</th>                         <td>    0.8710</td> <td>    0.142</td> <td>    6.136</td> <td> 0.000</td> <td>    0.593</td> <td>    1.149</td>\n",
       "</tr>\n",
       "<tr>\n",
       "  <th>Genres_Parenting;Education</th>               <td>    0.6559</td> <td>    0.275</td> <td>    2.385</td> <td> 0.017</td> <td>    0.117</td> <td>    1.195</td>\n",
       "</tr>\n",
       "<tr>\n",
       "  <th>Genres_Parenting;Music & Video</th>           <td>    0.9421</td> <td>    0.236</td> <td>    3.987</td> <td> 0.000</td> <td>    0.479</td> <td>    1.405</td>\n",
       "</tr>\n",
       "<tr>\n",
       "  <th>Genres_Personalization</th>                   <td>    1.6382</td> <td>    0.120</td> <td>   13.608</td> <td> 0.000</td> <td>    1.402</td> <td>    1.874</td>\n",
       "</tr>\n",
       "<tr>\n",
       "  <th>Genres_Photography</th>                       <td>    1.5441</td> <td>    0.121</td> <td>   12.804</td> <td> 0.000</td> <td>    1.308</td> <td>    1.781</td>\n",
       "</tr>\n",
       "<tr>\n",
       "  <th>Genres_Productivity</th>                      <td>    1.5806</td> <td>    0.120</td> <td>   13.128</td> <td> 0.000</td> <td>    1.345</td> <td>    1.817</td>\n",
       "</tr>\n",
       "<tr>\n",
       "  <th>Genres_Puzzle</th>                            <td>    0.1862</td> <td>    0.060</td> <td>    3.080</td> <td> 0.002</td> <td>    0.068</td> <td>    0.305</td>\n",
       "</tr>\n",
       "<tr>\n",
       "  <th>Genres_Puzzle;Brain Games</th>                <td>    0.2743</td> <td>    0.131</td> <td>    2.087</td> <td> 0.037</td> <td>    0.017</td> <td>    0.532</td>\n",
       "</tr>\n",
       "<tr>\n",
       "  <th>Genres_Racing;Action & Adventure</th>         <td>    0.2556</td> <td>    0.136</td> <td>    1.884</td> <td> 0.060</td> <td>   -0.010</td> <td>    0.522</td>\n",
       "</tr>\n",
       "<tr>\n",
       "  <th>Genres_Role Playing</th>                      <td>    0.0066</td> <td>    0.065</td> <td>    0.102</td> <td> 0.919</td> <td>   -0.120</td> <td>    0.133</td>\n",
       "</tr>\n",
       "<tr>\n",
       "  <th>Genres_Shopping</th>                          <td>    1.5688</td> <td>    0.121</td> <td>   12.977</td> <td> 0.000</td> <td>    1.332</td> <td>    1.806</td>\n",
       "</tr>\n",
       "<tr>\n",
       "  <th>Genres_Simulation</th>                        <td>    0.0134</td> <td>    0.055</td> <td>    0.242</td> <td> 0.808</td> <td>   -0.095</td> <td>    0.122</td>\n",
       "</tr>\n",
       "<tr>\n",
       "  <th>Genres_Simulation;Action & Adventure</th>     <td>    0.2430</td> <td>    0.166</td> <td>    1.464</td> <td> 0.143</td> <td>   -0.082</td> <td>    0.568</td>\n",
       "</tr>\n",
       "<tr>\n",
       "  <th>Genres_Social</th>                            <td>    1.5748</td> <td>    0.121</td> <td>   13.049</td> <td> 0.000</td> <td>    1.338</td> <td>    1.811</td>\n",
       "</tr>\n",
       "<tr>\n",
       "  <th>Genres_Strategy</th>                          <td>   -0.0132</td> <td>    0.076</td> <td>   -0.175</td> <td> 0.861</td> <td>   -0.161</td> <td>    0.135</td>\n",
       "</tr>\n",
       "<tr>\n",
       "  <th>Genres_Tools</th>                             <td>    0.9665</td> <td>    0.181</td> <td>    5.333</td> <td> 0.000</td> <td>    0.611</td> <td>    1.322</td>\n",
       "</tr>\n",
       "<tr>\n",
       "  <th>Genres_Tools;Education</th>                   <td>    1.1264</td> <td>    0.334</td> <td>    3.371</td> <td> 0.001</td> <td>    0.471</td> <td>    1.781</td>\n",
       "</tr>\n",
       "<tr>\n",
       "  <th>Genres_Travel & Local</th>                    <td>    0.9904</td> <td>    0.183</td> <td>    5.423</td> <td> 0.000</td> <td>    0.632</td> <td>    1.348</td>\n",
       "</tr>\n",
       "<tr>\n",
       "  <th>Genres_Travel & Local;Action & Adventure</th> <td>    1.0905</td> <td>    0.334</td> <td>    3.263</td> <td> 0.001</td> <td>    0.435</td> <td>    1.746</td>\n",
       "</tr>\n",
       "<tr>\n",
       "  <th>Genres_Weather</th>                           <td>    1.5790</td> <td>    0.124</td> <td>   12.734</td> <td> 0.000</td> <td>    1.336</td> <td>    1.822</td>\n",
       "</tr>\n",
       "</table>\n",
       "<table class=\"simpletable\">\n",
       "<tr>\n",
       "  <th>Omnibus:</th>       <td>2308.098</td> <th>  Durbin-Watson:     </th> <td>   2.020</td> \n",
       "</tr>\n",
       "<tr>\n",
       "  <th>Prob(Omnibus):</th>  <td> 0.000</td>  <th>  Jarque-Bera (JB):  </th> <td>13479.157</td>\n",
       "</tr>\n",
       "<tr>\n",
       "  <th>Skew:</th>           <td>-1.669</td>  <th>  Prob(JB):          </th> <td>    0.00</td> \n",
       "</tr>\n",
       "<tr>\n",
       "  <th>Kurtosis:</th>       <td> 9.396</td>  <th>  Cond. No.          </th> <td>1.23e+16</td> \n",
       "</tr>\n",
       "</table><br/><br/>Notes:<br/>[1] R² is computed without centering (uncentered) since the model does not contain a constant.<br/>[2] Standard Errors assume that the covariance matrix of the errors is correctly specified.<br/>[3] The smallest eigenvalue is 9.48e-27. This might indicate that there are<br/>strong multicollinearity problems or that the design matrix is singular."
      ],
      "text/plain": [
       "<class 'statsmodels.iolib.summary.Summary'>\n",
       "\"\"\"\n",
       "                                 OLS Regression Results                                \n",
       "=======================================================================================\n",
       "Dep. Variable:                 Rating   R-squared (uncentered):                   0.987\n",
       "Model:                            OLS   Adj. R-squared (uncentered):              0.987\n",
       "Method:                 Least Squares   F-statistic:                              6499.\n",
       "Date:                Thu, 04 May 2023   Prob (F-statistic):                        0.00\n",
       "Time:                        18:14:49   Log-Likelihood:                         -4305.1\n",
       "No. Observations:                6215   AIC:                                      8752.\n",
       "Df Residuals:                    6144   BIC:                                      9230.\n",
       "Df Model:                          71                                                  \n",
       "Covariance Type:            nonrobust                                                  \n",
       "============================================================================================================\n",
       "                                               coef    std err          t      P>|t|      [0.025      0.975]\n",
       "------------------------------------------------------------------------------------------------------------\n",
       "Reviews                                      0.1731      0.006     28.034      0.000       0.161       0.185\n",
       "Installs                                    -0.1472      0.006    -23.962      0.000      -0.159      -0.135\n",
       "Category_AUTO_AND_VEHICLES                   1.5967      0.124     12.865      0.000       1.353       1.840\n",
       "Category_BEAUTY                              1.6812      0.127     13.205      0.000       1.432       1.931\n",
       "Category_BOOKS_AND_REFERENCE                 1.6451      0.121     13.567      0.000       1.407       1.883\n",
       "Category_BUSINESS                            1.5644      0.120     13.003      0.000       1.329       1.800\n",
       "Category_COMICS                              2.3284      0.226     10.321      0.000       1.886       2.771\n",
       "Category_COMMUNICATION                       1.5080      0.121     12.497      0.000       1.271       1.745\n",
       "Category_DATING                              1.4662      0.122     12.021      0.000       1.227       1.705\n",
       "Category_EDUCATION                           2.9911      0.247     12.109      0.000       2.507       3.475\n",
       "Category_ENTERTAINMENT                       2.8963      0.247     11.721      0.000       2.412       3.381\n",
       "Category_EVENTS                              1.7063      0.126     13.546      0.000       1.459       1.953\n",
       "Category_FAMILY                              3.0155      0.240     12.590      0.000       2.546       3.485\n",
       "Category_FINANCE                             1.5279      0.120     12.702      0.000       1.292       1.764\n",
       "Category_FOOD_AND_DRINK                      1.5579      0.122     12.731      0.000       1.318       1.798\n",
       "Category_GAME                                3.0808      0.239     12.885      0.000       2.612       3.550\n",
       "Category_HEALTH_AND_FITNESS                  1.5880      0.120     13.186      0.000       1.352       1.824\n",
       "Category_HOUSE_AND_HOME                      1.5738      0.124     12.730      0.000       1.331       1.816\n",
       "Category_LIBRARIES_AND_DEMO                  1.6136      0.124     12.983      0.000       1.370       1.857\n",
       "Category_LIFESTYLE                           1.5515      0.120     12.888      0.000       1.316       1.787\n",
       "Category_MAPS_AND_NAVIGATION                 1.4803      0.122     12.124      0.000       1.241       1.720\n",
       "Category_MEDICAL                             1.5955      0.120     13.281      0.000       1.360       1.831\n",
       "Category_NEWS_AND_MAGAZINES                  1.5259      0.121     12.641      0.000       1.289       1.763\n",
       "Category_PARENTING                           2.4690      0.212     11.651      0.000       2.054       2.884\n",
       "Category_PERSONALIZATION                     1.6382      0.120     13.608      0.000       1.402       1.874\n",
       "Category_PHOTOGRAPHY                         1.5441      0.121     12.804      0.000       1.308       1.781\n",
       "Category_PRODUCTIVITY                        1.5806      0.120     13.128      0.000       1.345       1.817\n",
       "Category_SHOPPING                            1.5688      0.121     12.977      0.000       1.332       1.806\n",
       "Category_SOCIAL                              1.5748      0.121     13.049      0.000       1.338       1.811\n",
       "Category_SPORTS                              3.0786      0.240     12.849      0.000       2.609       3.548\n",
       "Category_TOOLS                               2.0928      0.227      9.207      0.000       1.647       2.538\n",
       "Category_TRAVEL_AND_LOCAL                    2.0809      0.228      9.143      0.000       1.635       2.527\n",
       "Category_VIDEO_PLAYERS                       3.0350      0.243     12.477      0.000       2.558       3.512\n",
       "Category_WEATHER                             1.5790      0.124     12.734      0.000       1.336       1.822\n",
       "Type_Paid                                   -0.0791      0.027     -2.919      0.004      -0.132      -0.026\n",
       "Content Rating_Everyone                      1.4475      0.238      6.093      0.000       0.982       1.913\n",
       "Content Rating_Everyone 10+                  1.4362      0.240      5.995      0.000       0.967       1.906\n",
       "Content Rating_Mature 17+                    1.4198      0.240      5.916      0.000       0.949       1.890\n",
       "Content Rating_Teen                          1.4416      0.238      6.057      0.000       0.975       1.908\n",
       "Content Rating_Unrated                       1.4080      0.542      2.599      0.009       0.346       2.470\n",
       "Genres_Art & Design                          3.3853      0.252     13.452      0.000       2.892       3.879\n",
       "Genres_Art & Design;Creativity               2.4777      0.255      9.708      0.000       1.977       2.978\n",
       "Genres_Art & Design;Pretend Play             3.1940      0.542      5.889      0.000       2.131       4.257\n",
       "Genres_Auto & Vehicles                       1.5967      0.124     12.865      0.000       1.353       1.840\n",
       "Genres_Beauty                                1.6812      0.127     13.205      0.000       1.432       1.931\n",
       "Genres_Board;Brain Games                     0.2779      0.159      1.746      0.081      -0.034       0.590\n",
       "Genres_Books & Reference                     1.6451      0.121     13.567      0.000       1.407       1.883\n",
       "Genres_Business                              1.5644      0.120     13.003      0.000       1.329       1.800\n",
       "Genres_Casual                                0.0048      0.059      0.082      0.935      -0.110       0.120\n",
       "Genres_Casual;Action & Adventure             0.1999      0.146      1.373      0.170      -0.086       0.485\n",
       "Genres_Casual;Brain Games                    0.4758      0.175      2.712      0.007       0.132       0.820\n",
       "Genres_Casual;Pretend Play                   0.0699      0.110      0.635      0.526      -0.146       0.286\n",
       "Genres_Comics                                0.7932      0.185      4.284      0.000       0.430       1.156\n",
       "Genres_Comics;Creativity                     1.5352      0.336      4.566      0.000       0.876       2.194\n",
       "Genres_Communication                         1.5080      0.121     12.497      0.000       1.271       1.745\n",
       "Genres_Dating                                1.4662      0.122     12.021      0.000       1.227       1.705\n",
       "Genres_Education                             0.2830      0.049      5.723      0.000       0.186       0.380\n",
       "Genres_Education;Creativity                  0.5646      0.222      2.538      0.011       0.129       1.001\n",
       "Genres_Education;Education                   0.3551      0.096      3.703      0.000       0.167       0.543\n",
       "Genres_Education;Pretend Play                0.3507      0.116      3.012      0.003       0.122       0.579\n",
       "Genres_Educational;Education                 0.2444      0.100      2.448      0.014       0.049       0.440\n",
       "Genres_Educational;Pretend Play              0.1471      0.136      1.085      0.278      -0.119       0.413\n",
       "Genres_Entertainment                         0.0674      0.049      1.385      0.166      -0.028       0.163\n",
       "Genres_Entertainment;Brain Games             0.2443      0.189      1.295      0.195      -0.126       0.614\n",
       "Genres_Entertainment;Creativity              0.5048      0.347      1.453      0.146      -0.176       1.186\n",
       "Genres_Entertainment;Music & Video           0.1973      0.141      1.399      0.162      -0.079       0.474\n",
       "Genres_Events                                1.7063      0.126     13.546      0.000       1.459       1.953\n",
       "Genres_Finance                               1.5279      0.120     12.702      0.000       1.292       1.764\n",
       "Genres_Food & Drink                          1.5579      0.122     12.731      0.000       1.318       1.798\n",
       "Genres_Health & Fitness                      1.5880      0.120     13.186      0.000       1.352       1.824\n",
       "Genres_House & Home                          1.5738      0.124     12.730      0.000       1.331       1.816\n",
       "Genres_Libraries & Demo                      1.6136      0.124     12.983      0.000       1.370       1.857\n",
       "Genres_Lifestyle                             1.5515      0.120     12.888      0.000       1.316       1.787\n",
       "Genres_Maps & Navigation                     1.4803      0.122     12.124      0.000       1.241       1.720\n",
       "Genres_Medical                               1.5955      0.120     13.281      0.000       1.360       1.831\n",
       "Genres_Music;Music & Video                   0.5605      0.346      1.619      0.106      -0.118       1.239\n",
       "Genres_News & Magazines                      1.5259      0.121     12.641      0.000       1.289       1.763\n",
       "Genres_Parenting                             0.8710      0.142      6.136      0.000       0.593       1.149\n",
       "Genres_Parenting;Education                   0.6559      0.275      2.385      0.017       0.117       1.195\n",
       "Genres_Parenting;Music & Video               0.9421      0.236      3.987      0.000       0.479       1.405\n",
       "Genres_Personalization                       1.6382      0.120     13.608      0.000       1.402       1.874\n",
       "Genres_Photography                           1.5441      0.121     12.804      0.000       1.308       1.781\n",
       "Genres_Productivity                          1.5806      0.120     13.128      0.000       1.345       1.817\n",
       "Genres_Puzzle                                0.1862      0.060      3.080      0.002       0.068       0.305\n",
       "Genres_Puzzle;Brain Games                    0.2743      0.131      2.087      0.037       0.017       0.532\n",
       "Genres_Racing;Action & Adventure             0.2556      0.136      1.884      0.060      -0.010       0.522\n",
       "Genres_Role Playing                          0.0066      0.065      0.102      0.919      -0.120       0.133\n",
       "Genres_Shopping                              1.5688      0.121     12.977      0.000       1.332       1.806\n",
       "Genres_Simulation                            0.0134      0.055      0.242      0.808      -0.095       0.122\n",
       "Genres_Simulation;Action & Adventure         0.2430      0.166      1.464      0.143      -0.082       0.568\n",
       "Genres_Social                                1.5748      0.121     13.049      0.000       1.338       1.811\n",
       "Genres_Strategy                             -0.0132      0.076     -0.175      0.861      -0.161       0.135\n",
       "Genres_Tools                                 0.9665      0.181      5.333      0.000       0.611       1.322\n",
       "Genres_Tools;Education                       1.1264      0.334      3.371      0.001       0.471       1.781\n",
       "Genres_Travel & Local                        0.9904      0.183      5.423      0.000       0.632       1.348\n",
       "Genres_Travel & Local;Action & Adventure     1.0905      0.334      3.263      0.001       0.435       1.746\n",
       "Genres_Weather                               1.5790      0.124     12.734      0.000       1.336       1.822\n",
       "==============================================================================\n",
       "Omnibus:                     2308.098   Durbin-Watson:                   2.020\n",
       "Prob(Omnibus):                  0.000   Jarque-Bera (JB):            13479.157\n",
       "Skew:                          -1.669   Prob(JB):                         0.00\n",
       "Kurtosis:                       9.396   Cond. No.                     1.23e+16\n",
       "==============================================================================\n",
       "\n",
       "Notes:\n",
       "[1] R² is computed without centering (uncentered) since the model does not contain a constant.\n",
       "[2] Standard Errors assume that the covariance matrix of the errors is correctly specified.\n",
       "[3] The smallest eigenvalue is 9.48e-27. This might indicate that there are\n",
       "strong multicollinearity problems or that the design matrix is singular.\n",
       "\"\"\""
      ]
     },
     "execution_count": 92,
     "metadata": {},
     "output_type": "execute_result"
    }
   ],
   "source": [
    "#Find the summary\n",
    "model2.summary()"
   ]
  },
  {
   "cell_type": "markdown",
   "id": "aba6c6a9",
   "metadata": {},
   "source": [
    "* Rating\tR-squared (uncentered):\t0.987\n",
    "\n",
    "* Adj. R-squared (uncentered): 0.987\n",
    "\n",
    "* F-statistic: 6499\n",
    "\n",
    "* AIC: 8752\n",
    "\n",
    "* BIC: 9230"
   ]
  },
  {
   "cell_type": "markdown",
   "id": "4494298a",
   "metadata": {},
   "source": [
    "#### **How Well Does the Model Fit the Data?**\n",
    " ***model2* performs better:**\n",
    "\n",
    "\n",
    "* R-squared value:<br>\n",
    "\n",
    "  The most common way to evaluate the overall fit of a linear model is by the **R-squared** value.<br>\n",
    "\n",
    "  R-squared is between 0 and 1 (or between 0 to 100%), and higher is better because it means that more variance is explained by the model.<br>\n",
    "\n",
    "  In case of our models, model1 and model2 have same R-squared values.\n",
    "\n",
    "* F-statistics:<br>\n",
    "\n",
    "  In case of dataset that only have numerical values, it is said higher the F-statistic better the model.\n",
    "\n",
    "  In case of our models, model2 has more F-statistic value than model1.\n",
    "\n",
    "* AIC and BIC: <br>\n",
    "\n",
    "  In case of models, lesser the AIC and BIC, better the model.\n",
    "\n",
    "  In case of models, model2 has lesser AIC and BIC values than the model1."
   ]
  },
  {
   "cell_type": "markdown",
   "id": "c596006a",
   "metadata": {},
   "source": [
    "**Prediction using \"model2\"**"
   ]
  },
  {
   "cell_type": "markdown",
   "id": "ae5b5b7c",
   "metadata": {},
   "source": [
    "Let us perform prediction using model2 by importing **sklearn.metrics**"
   ]
  },
  {
   "cell_type": "code",
   "execution_count": 94,
   "id": "ddb6fc60",
   "metadata": {},
   "outputs": [
    {
     "name": "stdout",
     "output_type": "stream",
     "text": [
      "0.4909223287649665\n"
     ]
    }
   ],
   "source": [
    "#Importing sklearn.metrics\n",
    "import sklearn.metrics as metrics\n",
    "y_test_pred1= model2.predict(X_test1)\n",
    "print(np.sqrt(metrics.mean_squared_error(y_test, y_test_pred1)))"
   ]
  },
  {
   "cell_type": "code",
   "execution_count": 95,
   "id": "c03ee383",
   "metadata": {},
   "outputs": [
    {
     "name": "stdout",
     "output_type": "stream",
     "text": [
      "MAPE: 9.464940093716761\n"
     ]
    }
   ],
   "source": [
    "#Calculating MAPE\n",
    "def MAPE(y_test_pred1,y_test1):\n",
    "    return np.mean(np.abs((y_test1 - y_test_pred1) / y_test1)) * 100\n",
    "print ('MAPE: ' + str(MAPE(y_test_pred1,y_test1)) )"
   ]
  },
  {
   "cell_type": "markdown",
   "id": "bdff3ba1",
   "metadata": {},
   "source": [
    "**model2** shows slight improvement as the RMSE and MAPE value of this model is lesser than that of **model1**."
   ]
  },
  {
   "cell_type": "code",
   "execution_count": null,
   "id": "55535c20",
   "metadata": {},
   "outputs": [],
   "source": []
  }
 ],
 "metadata": {
  "kernelspec": {
   "display_name": "Python 3",
   "language": "python",
   "name": "python3"
  },
  "language_info": {
   "codemirror_mode": {
    "name": "ipython",
    "version": 3
   },
   "file_extension": ".py",
   "mimetype": "text/x-python",
   "name": "python",
   "nbconvert_exporter": "python",
   "pygments_lexer": "ipython3",
   "version": "3.8.8"
  }
 },
 "nbformat": 4,
 "nbformat_minor": 5
}
